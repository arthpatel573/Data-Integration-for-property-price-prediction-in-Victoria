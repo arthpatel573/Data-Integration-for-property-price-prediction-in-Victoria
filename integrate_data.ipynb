{
 "cells": [
  {
   "cell_type": "markdown",
   "metadata": {},
   "source": [
    "# Data Integration for property price prediction in Victoria"
   ]
  },
  {
   "cell_type": "markdown",
   "metadata": {},
   "source": [
    "## About the dataset\n",
    "\n",
    "We have the dataset for property sold in Victoria. Each column of the dataset is described as follows:\n",
    "\n",
    "|COLUMN |DESCRIPTION|\n",
    "|---|---|\n",
    "|ID| A unique id for the property|\n",
    "|Address| The property address|\n",
    "|Price| The property price|\n",
    "|Type| The type of property|\n",
    "|Date|Date of sold|\n",
    "|Rooms|Number of bedrooms|\n",
    "|Bathroom|Number of bathrooms|\n",
    "|Car|The number of parking space of the property|\n",
    "|LandSize|The area of the propert|\n",
    "|Age|The age of the property at the time of selling|\n",
    "|Latitude|The Latitude of the property|\n",
    "|Longitude|The Longitude of the property|"
   ]
  },
  {
   "cell_type": "markdown",
   "metadata": {},
   "source": [
    "# Data Integration"
   ]
  },
  {
   "cell_type": "markdown",
   "metadata": {},
   "source": [
    "## Importing libraries:\n",
    "\n",
    "- **pandas** :  Used to handling dataframe and dataframe manipulation<br>\n",
    "- **matplotlib** : For drawing plots of different format<br>\n",
    "- **re** : Provides regular expression matching operations.<br>\n",
    "- **numpy** :  Adds support for multi-dimensional arrays and matrices, along with a large collection of high-level mathematical functions to operate on these arrays.<br>\n",
    "- **datetime** : To convert string object to a date object\n",
    "- **sklearn.linear_model** : Used to develop a linear regression model.\n",
    "- **seaborn** : Used for data visualization\n",
    "- **math** : It provides basic maths function.  \n",
    "- **BeautifulSoup**: Is is used for extracting data out of HTML and XML files. \n",
    "- **ElementTree**: It is used to parse and navigate an XML document.\n",
    "- **Shapely**: Used for set-theoretic analysis and manipulation of planar features. Useful for creating polygon with range of lattitude and longitudes.\n",
    "- **shapefile** : Used for reading shape files. \n",
    "- **sklearn** : Used for linear regression model \n",
    "- **difflib** : For sequence matching\n",
    "- **os** : To traverse directories and select files\n",
    "- **zipFile** : Unzip Files"
   ]
  },
  {
   "cell_type": "code",
   "execution_count": 37,
   "metadata": {},
   "outputs": [],
   "source": [
    "from urllib.request import urlopen\n",
    "from bs4 import BeautifulSoup\n",
    "import re\n",
    "import pandas as pd\n",
    "import seaborn as sns\n",
    "from math import sin, cos, sqrt, atan2, radians, log, sqrt\n",
    "import xml.etree.ElementTree as etree\n",
    "import numpy as np\n",
    "import difflib\n",
    "\n",
    "from shapely.geometry import Point\n",
    "from shapely.geometry.polygon import Polygon\n",
    "\n",
    "from sklearn.linear_model import LinearRegression\n",
    "from sklearn.metrics import r2_score\n",
    "from datetime import datetime\n",
    "\n",
    "pd.options.mode.chained_assignment = None\n",
    "\n",
    "# To traverse directories and select files\n",
    "import os\n",
    "from os import listdir\n",
    "from os.path import isfile, join\n",
    "\n",
    "# For unzipping GTFS files\n",
    "import zipfile\n",
    "import math\n",
    "\n",
    "import numpy\n",
    "import shapefile\n",
    "import matplotlib\n",
    "from matplotlib import pyplot as plt\n",
    "import matplotlib.patches as patches\n",
    "from matplotlib.collections import PatchCollection\n",
    "\n",
    "%matplotlib inline"
   ]
  },
  {
   "cell_type": "markdown",
   "metadata": {},
   "source": [
    "We will read a sample of original data as a dataframe which is available as sample.csv to avoid long processing time needed for the entire datasets."
   ]
  },
  {
   "cell_type": "code",
   "execution_count": 3,
   "metadata": {},
   "outputs": [],
   "source": [
    "#read original csv file \n",
    "house_df = pd.read_csv('dataset/sample.csv')"
   ]
  },
  {
   "cell_type": "markdown",
   "metadata": {},
   "source": [
    "Let's check if there are any duplicates in the ID column"
   ]
  },
  {
   "cell_type": "code",
   "execution_count": 4,
   "metadata": {},
   "outputs": [
    {
     "data": {
      "text/plain": [
       "ID569947888    2\n",
       "ID719536654    2\n",
       "ID676735768    2\n",
       "ID161649164    2\n",
       "ID535688031    2\n",
       "ID355235119    2\n",
       "ID482468886    2\n",
       "ID688200908    2\n",
       "ID332701608    2\n",
       "ID792281652    2\n",
       "ID924233688    2\n",
       "ID261735243    2\n",
       "ID614834549    2\n",
       "ID478489413    2\n",
       "ID543489901    2\n",
       "ID937799166    2\n",
       "ID300707640    2\n",
       "ID266487565    2\n",
       "ID156754609    2\n",
       "ID699088674    2\n",
       "ID349347649    2\n",
       "ID115945460    2\n",
       "ID281884941    2\n",
       "ID368235133    2\n",
       "ID136980463    2\n",
       "ID798515012    2\n",
       "ID344871903    2\n",
       "ID648177159    2\n",
       "ID386550460    2\n",
       "ID349451148    2\n",
       "ID676060343    2\n",
       "ID961172746    2\n",
       "Name: ID, dtype: int64"
      ]
     },
     "execution_count": 4,
     "metadata": {},
     "output_type": "execute_result"
    }
   ],
   "source": [
    "house_df[house_df.duplicated(keep=False)]['ID'].value_counts()"
   ]
  },
  {
   "cell_type": "markdown",
   "metadata": {},
   "source": [
    "There are a lot of duplicates in the ID columns as we saw in the above cell.\n",
    "\n",
    "In the following cell, we see that the entire rows are duplicated so we need to remove those rows."
   ]
  },
  {
   "cell_type": "code",
   "execution_count": 5,
   "metadata": {},
   "outputs": [
    {
     "data": {
      "text/html": [
       "<div>\n",
       "<style scoped>\n",
       "    .dataframe tbody tr th:only-of-type {\n",
       "        vertical-align: middle;\n",
       "    }\n",
       "\n",
       "    .dataframe tbody tr th {\n",
       "        vertical-align: top;\n",
       "    }\n",
       "\n",
       "    .dataframe thead th {\n",
       "        text-align: right;\n",
       "    }\n",
       "</style>\n",
       "<table border=\"1\" class=\"dataframe\">\n",
       "  <thead>\n",
       "    <tr style=\"text-align: right;\">\n",
       "      <th></th>\n",
       "      <th>ID</th>\n",
       "      <th>Address</th>\n",
       "      <th>Rooms</th>\n",
       "      <th>Type</th>\n",
       "      <th>Price</th>\n",
       "      <th>Date</th>\n",
       "      <th>Bathroom</th>\n",
       "      <th>Car</th>\n",
       "      <th>Landsize</th>\n",
       "      <th>Age</th>\n",
       "      <th>Lattitude</th>\n",
       "      <th>Longtitude</th>\n",
       "    </tr>\n",
       "  </thead>\n",
       "  <tbody>\n",
       "    <tr>\n",
       "      <th>1</th>\n",
       "      <td>ID161649164</td>\n",
       "      <td>77 Highfield Rd</td>\n",
       "      <td>5</td>\n",
       "      <td>h</td>\n",
       "      <td>3550000.0</td>\n",
       "      <td>18/03/2017</td>\n",
       "      <td>4.0</td>\n",
       "      <td>4.0</td>\n",
       "      <td>684.0</td>\n",
       "      <td>6.0</td>\n",
       "      <td>-37.83200</td>\n",
       "      <td>145.08530</td>\n",
       "    </tr>\n",
       "    <tr>\n",
       "      <th>4</th>\n",
       "      <td>ID115945460</td>\n",
       "      <td>4 Walter St</td>\n",
       "      <td>3</td>\n",
       "      <td>h</td>\n",
       "      <td>1045000.0</td>\n",
       "      <td>29/04/2017</td>\n",
       "      <td>2.0</td>\n",
       "      <td>3.0</td>\n",
       "      <td>526.0</td>\n",
       "      <td>29.0</td>\n",
       "      <td>-37.85500</td>\n",
       "      <td>144.87420</td>\n",
       "    </tr>\n",
       "    <tr>\n",
       "      <th>20</th>\n",
       "      <td>ID355235119</td>\n",
       "      <td>27 Wellington St</td>\n",
       "      <td>3</td>\n",
       "      <td>h</td>\n",
       "      <td>915000.0</td>\n",
       "      <td>22/07/2017</td>\n",
       "      <td>1.0</td>\n",
       "      <td>2.0</td>\n",
       "      <td>447.0</td>\n",
       "      <td>109.0</td>\n",
       "      <td>-37.79200</td>\n",
       "      <td>144.86856</td>\n",
       "    </tr>\n",
       "    <tr>\n",
       "      <th>31</th>\n",
       "      <td>ID482468886</td>\n",
       "      <td>2/35 Boisdale St</td>\n",
       "      <td>2</td>\n",
       "      <td>u</td>\n",
       "      <td>825000.0</td>\n",
       "      <td>13/05/2017</td>\n",
       "      <td>1.0</td>\n",
       "      <td>2.0</td>\n",
       "      <td>180.0</td>\n",
       "      <td>49.0</td>\n",
       "      <td>-37.83510</td>\n",
       "      <td>145.10300</td>\n",
       "    </tr>\n",
       "    <tr>\n",
       "      <th>46</th>\n",
       "      <td>ID349347649</td>\n",
       "      <td>26 Thomas St</td>\n",
       "      <td>3</td>\n",
       "      <td>h</td>\n",
       "      <td>1346000.0</td>\n",
       "      <td>10/12/2016</td>\n",
       "      <td>1.0</td>\n",
       "      <td>0.0</td>\n",
       "      <td>187.0</td>\n",
       "      <td>104.0</td>\n",
       "      <td>-37.81690</td>\n",
       "      <td>144.99600</td>\n",
       "    </tr>\n",
       "    <tr>\n",
       "      <th>63</th>\n",
       "      <td>ID569947888</td>\n",
       "      <td>10 Cecelia Dr</td>\n",
       "      <td>3</td>\n",
       "      <td>h</td>\n",
       "      <td>806000.0</td>\n",
       "      <td>27/05/2017</td>\n",
       "      <td>2.0</td>\n",
       "      <td>4.0</td>\n",
       "      <td>546.0</td>\n",
       "      <td>54.0</td>\n",
       "      <td>-37.74761</td>\n",
       "      <td>144.85210</td>\n",
       "    </tr>\n",
       "    <tr>\n",
       "      <th>77</th>\n",
       "      <td>ID115945460</td>\n",
       "      <td>4 Walter St</td>\n",
       "      <td>3</td>\n",
       "      <td>h</td>\n",
       "      <td>1045000.0</td>\n",
       "      <td>29/04/2017</td>\n",
       "      <td>2.0</td>\n",
       "      <td>3.0</td>\n",
       "      <td>526.0</td>\n",
       "      <td>29.0</td>\n",
       "      <td>-37.85500</td>\n",
       "      <td>144.87420</td>\n",
       "    </tr>\n",
       "    <tr>\n",
       "      <th>124</th>\n",
       "      <td>ID344871903</td>\n",
       "      <td>301/228 The Avenue</td>\n",
       "      <td>3</td>\n",
       "      <td>u</td>\n",
       "      <td>1560000.0</td>\n",
       "      <td>27/05/2017</td>\n",
       "      <td>2.0</td>\n",
       "      <td>1.0</td>\n",
       "      <td>2431.0</td>\n",
       "      <td>69.0</td>\n",
       "      <td>-37.78212</td>\n",
       "      <td>144.95755</td>\n",
       "    </tr>\n",
       "    <tr>\n",
       "      <th>126</th>\n",
       "      <td>ID676735768</td>\n",
       "      <td>12 Pacific Dr</td>\n",
       "      <td>4</td>\n",
       "      <td>h</td>\n",
       "      <td>840000.0</td>\n",
       "      <td>22/07/2017</td>\n",
       "      <td>2.0</td>\n",
       "      <td>2.0</td>\n",
       "      <td>383.0</td>\n",
       "      <td>59.0</td>\n",
       "      <td>-38.01958</td>\n",
       "      <td>145.12356</td>\n",
       "    </tr>\n",
       "    <tr>\n",
       "      <th>150</th>\n",
       "      <td>ID961172746</td>\n",
       "      <td>188 Rachelle Rd</td>\n",
       "      <td>3</td>\n",
       "      <td>h</td>\n",
       "      <td>835000.0</td>\n",
       "      <td>8/04/2017</td>\n",
       "      <td>2.0</td>\n",
       "      <td>2.0</td>\n",
       "      <td>700.0</td>\n",
       "      <td>39.0</td>\n",
       "      <td>-37.73220</td>\n",
       "      <td>144.87220</td>\n",
       "    </tr>\n",
       "    <tr>\n",
       "      <th>171</th>\n",
       "      <td>ID386550460</td>\n",
       "      <td>1/373 South Rd</td>\n",
       "      <td>3</td>\n",
       "      <td>u</td>\n",
       "      <td>725000.0</td>\n",
       "      <td>8/04/2017</td>\n",
       "      <td>1.0</td>\n",
       "      <td>1.0</td>\n",
       "      <td>137.0</td>\n",
       "      <td>14.0</td>\n",
       "      <td>-37.93190</td>\n",
       "      <td>145.02820</td>\n",
       "    </tr>\n",
       "    <tr>\n",
       "      <th>176</th>\n",
       "      <td>ID300707640</td>\n",
       "      <td>3/7 Lilian St</td>\n",
       "      <td>3</td>\n",
       "      <td>t</td>\n",
       "      <td>1235000.0</td>\n",
       "      <td>27/05/2017</td>\n",
       "      <td>3.0</td>\n",
       "      <td>2.0</td>\n",
       "      <td>338.0</td>\n",
       "      <td>119.0</td>\n",
       "      <td>-37.82704</td>\n",
       "      <td>145.16801</td>\n",
       "    </tr>\n",
       "    <tr>\n",
       "      <th>222</th>\n",
       "      <td>ID535688031</td>\n",
       "      <td>57 Wales St</td>\n",
       "      <td>3</td>\n",
       "      <td>h</td>\n",
       "      <td>925000.0</td>\n",
       "      <td>24/09/2016</td>\n",
       "      <td>1.0</td>\n",
       "      <td>1.0</td>\n",
       "      <td>275.0</td>\n",
       "      <td>99.0</td>\n",
       "      <td>-37.80850</td>\n",
       "      <td>144.88020</td>\n",
       "    </tr>\n",
       "    <tr>\n",
       "      <th>232</th>\n",
       "      <td>ID937799166</td>\n",
       "      <td>46 Eglinton St</td>\n",
       "      <td>4</td>\n",
       "      <td>h</td>\n",
       "      <td>1525000.0</td>\n",
       "      <td>26/08/2017</td>\n",
       "      <td>3.0</td>\n",
       "      <td>1.0</td>\n",
       "      <td>233.0</td>\n",
       "      <td>49.0</td>\n",
       "      <td>-37.76884</td>\n",
       "      <td>144.91708</td>\n",
       "    </tr>\n",
       "    <tr>\n",
       "      <th>253</th>\n",
       "      <td>ID614834549</td>\n",
       "      <td>4 Woolstone Cl</td>\n",
       "      <td>4</td>\n",
       "      <td>h</td>\n",
       "      <td>560000.0</td>\n",
       "      <td>24/09/2016</td>\n",
       "      <td>2.0</td>\n",
       "      <td>2.0</td>\n",
       "      <td>612.0</td>\n",
       "      <td>39.0</td>\n",
       "      <td>-37.73780</td>\n",
       "      <td>144.82640</td>\n",
       "    </tr>\n",
       "    <tr>\n",
       "      <th>257</th>\n",
       "      <td>ID368235133</td>\n",
       "      <td>33 Clunes St</td>\n",
       "      <td>2</td>\n",
       "      <td>h</td>\n",
       "      <td>705500.0</td>\n",
       "      <td>30/07/2016</td>\n",
       "      <td>1.0</td>\n",
       "      <td>1.0</td>\n",
       "      <td>770.0</td>\n",
       "      <td>69.0</td>\n",
       "      <td>-37.71590</td>\n",
       "      <td>145.03890</td>\n",
       "    </tr>\n",
       "    <tr>\n",
       "      <th>264</th>\n",
       "      <td>ID688200908</td>\n",
       "      <td>4/2 Alfred St</td>\n",
       "      <td>2</td>\n",
       "      <td>u</td>\n",
       "      <td>830000.0</td>\n",
       "      <td>7/05/2016</td>\n",
       "      <td>1.0</td>\n",
       "      <td>1.0</td>\n",
       "      <td>727.0</td>\n",
       "      <td>19.0</td>\n",
       "      <td>-37.85030</td>\n",
       "      <td>144.98550</td>\n",
       "    </tr>\n",
       "    <tr>\n",
       "      <th>286</th>\n",
       "      <td>ID719536654</td>\n",
       "      <td>87 Hope St</td>\n",
       "      <td>3</td>\n",
       "      <td>t</td>\n",
       "      <td>955000.0</td>\n",
       "      <td>11/02/2017</td>\n",
       "      <td>2.0</td>\n",
       "      <td>2.0</td>\n",
       "      <td>327.0</td>\n",
       "      <td>12.0</td>\n",
       "      <td>-37.76360</td>\n",
       "      <td>144.95590</td>\n",
       "    </tr>\n",
       "    <tr>\n",
       "      <th>322</th>\n",
       "      <td>ID156754609</td>\n",
       "      <td>165 Morris St</td>\n",
       "      <td>3</td>\n",
       "      <td>h</td>\n",
       "      <td>591500.0</td>\n",
       "      <td>30/07/2016</td>\n",
       "      <td>1.0</td>\n",
       "      <td>2.0</td>\n",
       "      <td>427.0</td>\n",
       "      <td>79.0</td>\n",
       "      <td>-37.79250</td>\n",
       "      <td>144.82820</td>\n",
       "    </tr>\n",
       "    <tr>\n",
       "      <th>332</th>\n",
       "      <td>ID266487565</td>\n",
       "      <td>18 Claude St</td>\n",
       "      <td>2</td>\n",
       "      <td>h</td>\n",
       "      <td>1035000.0</td>\n",
       "      <td>4/03/2017</td>\n",
       "      <td>1.0</td>\n",
       "      <td>0.0</td>\n",
       "      <td>140.0</td>\n",
       "      <td>99.0</td>\n",
       "      <td>-37.77090</td>\n",
       "      <td>144.99640</td>\n",
       "    </tr>\n",
       "    <tr>\n",
       "      <th>334</th>\n",
       "      <td>ID136980463</td>\n",
       "      <td>2 Hazel Gr</td>\n",
       "      <td>2</td>\n",
       "      <td>h</td>\n",
       "      <td>915000.0</td>\n",
       "      <td>3/12/2016</td>\n",
       "      <td>1.0</td>\n",
       "      <td>3.0</td>\n",
       "      <td>629.0</td>\n",
       "      <td>44.0</td>\n",
       "      <td>-37.73120</td>\n",
       "      <td>144.93990</td>\n",
       "    </tr>\n",
       "    <tr>\n",
       "      <th>339</th>\n",
       "      <td>ID281884941</td>\n",
       "      <td>27 Kensley Cct</td>\n",
       "      <td>4</td>\n",
       "      <td>h</td>\n",
       "      <td>492000.0</td>\n",
       "      <td>24/06/2017</td>\n",
       "      <td>2.0</td>\n",
       "      <td>2.0</td>\n",
       "      <td>479.0</td>\n",
       "      <td>10.0</td>\n",
       "      <td>-37.57005</td>\n",
       "      <td>144.91909</td>\n",
       "    </tr>\n",
       "    <tr>\n",
       "      <th>385</th>\n",
       "      <td>ID798515012</td>\n",
       "      <td>83 Princes St</td>\n",
       "      <td>2</td>\n",
       "      <td>h</td>\n",
       "      <td>720000.0</td>\n",
       "      <td>7/05/2016</td>\n",
       "      <td>1.0</td>\n",
       "      <td>1.0</td>\n",
       "      <td>117.0</td>\n",
       "      <td>129.0</td>\n",
       "      <td>-37.79300</td>\n",
       "      <td>144.97280</td>\n",
       "    </tr>\n",
       "    <tr>\n",
       "      <th>388</th>\n",
       "      <td>ID349347649</td>\n",
       "      <td>26 Thomas St</td>\n",
       "      <td>3</td>\n",
       "      <td>h</td>\n",
       "      <td>1346000.0</td>\n",
       "      <td>10/12/2016</td>\n",
       "      <td>1.0</td>\n",
       "      <td>0.0</td>\n",
       "      <td>187.0</td>\n",
       "      <td>104.0</td>\n",
       "      <td>-37.81690</td>\n",
       "      <td>144.99600</td>\n",
       "    </tr>\n",
       "    <tr>\n",
       "      <th>421</th>\n",
       "      <td>ID614834549</td>\n",
       "      <td>4 Woolstone Cl</td>\n",
       "      <td>4</td>\n",
       "      <td>h</td>\n",
       "      <td>560000.0</td>\n",
       "      <td>24/09/2016</td>\n",
       "      <td>2.0</td>\n",
       "      <td>2.0</td>\n",
       "      <td>612.0</td>\n",
       "      <td>39.0</td>\n",
       "      <td>-37.73780</td>\n",
       "      <td>144.82640</td>\n",
       "    </tr>\n",
       "    <tr>\n",
       "      <th>431</th>\n",
       "      <td>ID261735243</td>\n",
       "      <td>8 Rutland St</td>\n",
       "      <td>3</td>\n",
       "      <td>h</td>\n",
       "      <td>960000.0</td>\n",
       "      <td>30/07/2016</td>\n",
       "      <td>1.0</td>\n",
       "      <td>1.0</td>\n",
       "      <td>645.0</td>\n",
       "      <td>69.0</td>\n",
       "      <td>-37.73600</td>\n",
       "      <td>144.88090</td>\n",
       "    </tr>\n",
       "    <tr>\n",
       "      <th>439</th>\n",
       "      <td>ID792281652</td>\n",
       "      <td>36A Warrigal Rd</td>\n",
       "      <td>3</td>\n",
       "      <td>h</td>\n",
       "      <td>1400000.0</td>\n",
       "      <td>24/06/2017</td>\n",
       "      <td>2.0</td>\n",
       "      <td>2.0</td>\n",
       "      <td>259.0</td>\n",
       "      <td>12.0</td>\n",
       "      <td>-37.99050</td>\n",
       "      <td>145.06999</td>\n",
       "    </tr>\n",
       "    <tr>\n",
       "      <th>440</th>\n",
       "      <td>ID569947888</td>\n",
       "      <td>10 Cecelia Dr</td>\n",
       "      <td>3</td>\n",
       "      <td>h</td>\n",
       "      <td>806000.0</td>\n",
       "      <td>27/05/2017</td>\n",
       "      <td>2.0</td>\n",
       "      <td>4.0</td>\n",
       "      <td>546.0</td>\n",
       "      <td>54.0</td>\n",
       "      <td>-37.74761</td>\n",
       "      <td>144.85210</td>\n",
       "    </tr>\n",
       "    <tr>\n",
       "      <th>459</th>\n",
       "      <td>ID386550460</td>\n",
       "      <td>1/373 South Rd</td>\n",
       "      <td>3</td>\n",
       "      <td>u</td>\n",
       "      <td>725000.0</td>\n",
       "      <td>8/04/2017</td>\n",
       "      <td>1.0</td>\n",
       "      <td>1.0</td>\n",
       "      <td>137.0</td>\n",
       "      <td>14.0</td>\n",
       "      <td>-37.93190</td>\n",
       "      <td>145.02820</td>\n",
       "    </tr>\n",
       "    <tr>\n",
       "      <th>462</th>\n",
       "      <td>ID332701608</td>\n",
       "      <td>59 Staughton Rd</td>\n",
       "      <td>4</td>\n",
       "      <td>h</td>\n",
       "      <td>1802000.0</td>\n",
       "      <td>28/05/2016</td>\n",
       "      <td>3.0</td>\n",
       "      <td>2.0</td>\n",
       "      <td>394.0</td>\n",
       "      <td>39.0</td>\n",
       "      <td>-37.85230</td>\n",
       "      <td>145.06030</td>\n",
       "    </tr>\n",
       "    <tr>\n",
       "      <th>...</th>\n",
       "      <td>...</td>\n",
       "      <td>...</td>\n",
       "      <td>...</td>\n",
       "      <td>...</td>\n",
       "      <td>...</td>\n",
       "      <td>...</td>\n",
       "      <td>...</td>\n",
       "      <td>...</td>\n",
       "      <td>...</td>\n",
       "      <td>...</td>\n",
       "      <td>...</td>\n",
       "      <td>...</td>\n",
       "    </tr>\n",
       "    <tr>\n",
       "      <th>509</th>\n",
       "      <td>ID676060343</td>\n",
       "      <td>15 Randell Ct</td>\n",
       "      <td>4</td>\n",
       "      <td>h</td>\n",
       "      <td>865000.0</td>\n",
       "      <td>17/06/2017</td>\n",
       "      <td>2.0</td>\n",
       "      <td>2.0</td>\n",
       "      <td>612.0</td>\n",
       "      <td>6.0</td>\n",
       "      <td>-37.65478</td>\n",
       "      <td>145.05199</td>\n",
       "    </tr>\n",
       "    <tr>\n",
       "      <th>521</th>\n",
       "      <td>ID719536654</td>\n",
       "      <td>87 Hope St</td>\n",
       "      <td>3</td>\n",
       "      <td>t</td>\n",
       "      <td>955000.0</td>\n",
       "      <td>11/02/2017</td>\n",
       "      <td>2.0</td>\n",
       "      <td>2.0</td>\n",
       "      <td>327.0</td>\n",
       "      <td>12.0</td>\n",
       "      <td>-37.76360</td>\n",
       "      <td>144.95590</td>\n",
       "    </tr>\n",
       "    <tr>\n",
       "      <th>534</th>\n",
       "      <td>ID648177159</td>\n",
       "      <td>59 Hertford Rd</td>\n",
       "      <td>2</td>\n",
       "      <td>h</td>\n",
       "      <td>825000.0</td>\n",
       "      <td>15/10/2016</td>\n",
       "      <td>1.0</td>\n",
       "      <td>3.0</td>\n",
       "      <td>580.0</td>\n",
       "      <td>61.0</td>\n",
       "      <td>-37.78180</td>\n",
       "      <td>144.83930</td>\n",
       "    </tr>\n",
       "    <tr>\n",
       "      <th>545</th>\n",
       "      <td>ID332701608</td>\n",
       "      <td>59 Staughton Rd</td>\n",
       "      <td>4</td>\n",
       "      <td>h</td>\n",
       "      <td>1802000.0</td>\n",
       "      <td>28/05/2016</td>\n",
       "      <td>3.0</td>\n",
       "      <td>2.0</td>\n",
       "      <td>394.0</td>\n",
       "      <td>39.0</td>\n",
       "      <td>-37.85230</td>\n",
       "      <td>145.06030</td>\n",
       "    </tr>\n",
       "    <tr>\n",
       "      <th>567</th>\n",
       "      <td>ID482468886</td>\n",
       "      <td>2/35 Boisdale St</td>\n",
       "      <td>2</td>\n",
       "      <td>u</td>\n",
       "      <td>825000.0</td>\n",
       "      <td>13/05/2017</td>\n",
       "      <td>1.0</td>\n",
       "      <td>2.0</td>\n",
       "      <td>180.0</td>\n",
       "      <td>49.0</td>\n",
       "      <td>-37.83510</td>\n",
       "      <td>145.10300</td>\n",
       "    </tr>\n",
       "    <tr>\n",
       "      <th>597</th>\n",
       "      <td>ID543489901</td>\n",
       "      <td>4/81 Rosanna Rd</td>\n",
       "      <td>3</td>\n",
       "      <td>u</td>\n",
       "      <td>620000.0</td>\n",
       "      <td>4/03/2017</td>\n",
       "      <td>1.0</td>\n",
       "      <td>1.0</td>\n",
       "      <td>215.0</td>\n",
       "      <td>34.0</td>\n",
       "      <td>-37.75090</td>\n",
       "      <td>145.06980</td>\n",
       "    </tr>\n",
       "    <tr>\n",
       "      <th>628</th>\n",
       "      <td>ID478489413</td>\n",
       "      <td>815 Heidelberg Rd</td>\n",
       "      <td>3</td>\n",
       "      <td>h</td>\n",
       "      <td>2000000.0</td>\n",
       "      <td>15/10/2016</td>\n",
       "      <td>3.0</td>\n",
       "      <td>2.0</td>\n",
       "      <td>686.0</td>\n",
       "      <td>15.0</td>\n",
       "      <td>-37.78000</td>\n",
       "      <td>145.03410</td>\n",
       "    </tr>\n",
       "    <tr>\n",
       "      <th>640</th>\n",
       "      <td>ID699088674</td>\n",
       "      <td>4/6 Crefden St</td>\n",
       "      <td>2</td>\n",
       "      <td>u</td>\n",
       "      <td>360000.0</td>\n",
       "      <td>23/04/2016</td>\n",
       "      <td>2.0</td>\n",
       "      <td>1.0</td>\n",
       "      <td>0.0</td>\n",
       "      <td>69.0</td>\n",
       "      <td>-37.77760</td>\n",
       "      <td>144.87230</td>\n",
       "    </tr>\n",
       "    <tr>\n",
       "      <th>651</th>\n",
       "      <td>ID937799166</td>\n",
       "      <td>46 Eglinton St</td>\n",
       "      <td>4</td>\n",
       "      <td>h</td>\n",
       "      <td>1525000.0</td>\n",
       "      <td>26/08/2017</td>\n",
       "      <td>3.0</td>\n",
       "      <td>1.0</td>\n",
       "      <td>233.0</td>\n",
       "      <td>49.0</td>\n",
       "      <td>-37.76884</td>\n",
       "      <td>144.91708</td>\n",
       "    </tr>\n",
       "    <tr>\n",
       "      <th>681</th>\n",
       "      <td>ID478489413</td>\n",
       "      <td>815 Heidelberg Rd</td>\n",
       "      <td>3</td>\n",
       "      <td>h</td>\n",
       "      <td>2000000.0</td>\n",
       "      <td>15/10/2016</td>\n",
       "      <td>3.0</td>\n",
       "      <td>2.0</td>\n",
       "      <td>686.0</td>\n",
       "      <td>15.0</td>\n",
       "      <td>-37.78000</td>\n",
       "      <td>145.03410</td>\n",
       "    </tr>\n",
       "    <tr>\n",
       "      <th>700</th>\n",
       "      <td>ID688200908</td>\n",
       "      <td>4/2 Alfred St</td>\n",
       "      <td>2</td>\n",
       "      <td>u</td>\n",
       "      <td>830000.0</td>\n",
       "      <td>7/05/2016</td>\n",
       "      <td>1.0</td>\n",
       "      <td>1.0</td>\n",
       "      <td>727.0</td>\n",
       "      <td>19.0</td>\n",
       "      <td>-37.85030</td>\n",
       "      <td>144.98550</td>\n",
       "    </tr>\n",
       "    <tr>\n",
       "      <th>701</th>\n",
       "      <td>ID156754609</td>\n",
       "      <td>165 Morris St</td>\n",
       "      <td>3</td>\n",
       "      <td>h</td>\n",
       "      <td>591500.0</td>\n",
       "      <td>30/07/2016</td>\n",
       "      <td>1.0</td>\n",
       "      <td>2.0</td>\n",
       "      <td>427.0</td>\n",
       "      <td>79.0</td>\n",
       "      <td>-37.79250</td>\n",
       "      <td>144.82820</td>\n",
       "    </tr>\n",
       "    <tr>\n",
       "      <th>702</th>\n",
       "      <td>ID924233688</td>\n",
       "      <td>30 College Pde</td>\n",
       "      <td>4</td>\n",
       "      <td>h</td>\n",
       "      <td>2590000.0</td>\n",
       "      <td>18/03/2017</td>\n",
       "      <td>2.0</td>\n",
       "      <td>2.0</td>\n",
       "      <td>660.0</td>\n",
       "      <td>91.0</td>\n",
       "      <td>-37.81240</td>\n",
       "      <td>145.03610</td>\n",
       "    </tr>\n",
       "    <tr>\n",
       "      <th>703</th>\n",
       "      <td>ID676060343</td>\n",
       "      <td>15 Randell Ct</td>\n",
       "      <td>4</td>\n",
       "      <td>h</td>\n",
       "      <td>865000.0</td>\n",
       "      <td>17/06/2017</td>\n",
       "      <td>2.0</td>\n",
       "      <td>2.0</td>\n",
       "      <td>612.0</td>\n",
       "      <td>6.0</td>\n",
       "      <td>-37.65478</td>\n",
       "      <td>145.05199</td>\n",
       "    </tr>\n",
       "    <tr>\n",
       "      <th>704</th>\n",
       "      <td>ID792281652</td>\n",
       "      <td>36A Warrigal Rd</td>\n",
       "      <td>3</td>\n",
       "      <td>h</td>\n",
       "      <td>1400000.0</td>\n",
       "      <td>24/06/2017</td>\n",
       "      <td>2.0</td>\n",
       "      <td>2.0</td>\n",
       "      <td>259.0</td>\n",
       "      <td>12.0</td>\n",
       "      <td>-37.99050</td>\n",
       "      <td>145.06999</td>\n",
       "    </tr>\n",
       "    <tr>\n",
       "      <th>705</th>\n",
       "      <td>ID136980463</td>\n",
       "      <td>2 Hazel Gr</td>\n",
       "      <td>2</td>\n",
       "      <td>h</td>\n",
       "      <td>915000.0</td>\n",
       "      <td>3/12/2016</td>\n",
       "      <td>1.0</td>\n",
       "      <td>3.0</td>\n",
       "      <td>629.0</td>\n",
       "      <td>44.0</td>\n",
       "      <td>-37.73120</td>\n",
       "      <td>144.93990</td>\n",
       "    </tr>\n",
       "    <tr>\n",
       "      <th>706</th>\n",
       "      <td>ID961172746</td>\n",
       "      <td>188 Rachelle Rd</td>\n",
       "      <td>3</td>\n",
       "      <td>h</td>\n",
       "      <td>835000.0</td>\n",
       "      <td>8/04/2017</td>\n",
       "      <td>2.0</td>\n",
       "      <td>2.0</td>\n",
       "      <td>700.0</td>\n",
       "      <td>39.0</td>\n",
       "      <td>-37.73220</td>\n",
       "      <td>144.87220</td>\n",
       "    </tr>\n",
       "    <tr>\n",
       "      <th>707</th>\n",
       "      <td>ID281884941</td>\n",
       "      <td>27 Kensley Cct</td>\n",
       "      <td>4</td>\n",
       "      <td>h</td>\n",
       "      <td>492000.0</td>\n",
       "      <td>24/06/2017</td>\n",
       "      <td>2.0</td>\n",
       "      <td>2.0</td>\n",
       "      <td>479.0</td>\n",
       "      <td>10.0</td>\n",
       "      <td>-37.57005</td>\n",
       "      <td>144.91909</td>\n",
       "    </tr>\n",
       "    <tr>\n",
       "      <th>708</th>\n",
       "      <td>ID676735768</td>\n",
       "      <td>12 Pacific Dr</td>\n",
       "      <td>4</td>\n",
       "      <td>h</td>\n",
       "      <td>840000.0</td>\n",
       "      <td>22/07/2017</td>\n",
       "      <td>2.0</td>\n",
       "      <td>2.0</td>\n",
       "      <td>383.0</td>\n",
       "      <td>59.0</td>\n",
       "      <td>-38.01958</td>\n",
       "      <td>145.12356</td>\n",
       "    </tr>\n",
       "    <tr>\n",
       "      <th>709</th>\n",
       "      <td>ID543489901</td>\n",
       "      <td>4/81 Rosanna Rd</td>\n",
       "      <td>3</td>\n",
       "      <td>u</td>\n",
       "      <td>620000.0</td>\n",
       "      <td>4/03/2017</td>\n",
       "      <td>1.0</td>\n",
       "      <td>1.0</td>\n",
       "      <td>215.0</td>\n",
       "      <td>34.0</td>\n",
       "      <td>-37.75090</td>\n",
       "      <td>145.06980</td>\n",
       "    </tr>\n",
       "    <tr>\n",
       "      <th>710</th>\n",
       "      <td>ID648177159</td>\n",
       "      <td>59 Hertford Rd</td>\n",
       "      <td>2</td>\n",
       "      <td>h</td>\n",
       "      <td>825000.0</td>\n",
       "      <td>15/10/2016</td>\n",
       "      <td>1.0</td>\n",
       "      <td>3.0</td>\n",
       "      <td>580.0</td>\n",
       "      <td>61.0</td>\n",
       "      <td>-37.78180</td>\n",
       "      <td>144.83930</td>\n",
       "    </tr>\n",
       "    <tr>\n",
       "      <th>711</th>\n",
       "      <td>ID798515012</td>\n",
       "      <td>83 Princes St</td>\n",
       "      <td>2</td>\n",
       "      <td>h</td>\n",
       "      <td>720000.0</td>\n",
       "      <td>7/05/2016</td>\n",
       "      <td>1.0</td>\n",
       "      <td>1.0</td>\n",
       "      <td>117.0</td>\n",
       "      <td>129.0</td>\n",
       "      <td>-37.79300</td>\n",
       "      <td>144.97280</td>\n",
       "    </tr>\n",
       "    <tr>\n",
       "      <th>712</th>\n",
       "      <td>ID349451148</td>\n",
       "      <td>2 Matilda Rd</td>\n",
       "      <td>3</td>\n",
       "      <td>h</td>\n",
       "      <td>1090500.0</td>\n",
       "      <td>3/06/2017</td>\n",
       "      <td>2.0</td>\n",
       "      <td>2.0</td>\n",
       "      <td>347.0</td>\n",
       "      <td>64.0</td>\n",
       "      <td>-37.94274</td>\n",
       "      <td>145.05783</td>\n",
       "    </tr>\n",
       "    <tr>\n",
       "      <th>713</th>\n",
       "      <td>ID261735243</td>\n",
       "      <td>8 Rutland St</td>\n",
       "      <td>3</td>\n",
       "      <td>h</td>\n",
       "      <td>960000.0</td>\n",
       "      <td>30/07/2016</td>\n",
       "      <td>1.0</td>\n",
       "      <td>1.0</td>\n",
       "      <td>645.0</td>\n",
       "      <td>69.0</td>\n",
       "      <td>-37.73600</td>\n",
       "      <td>144.88090</td>\n",
       "    </tr>\n",
       "    <tr>\n",
       "      <th>714</th>\n",
       "      <td>ID161649164</td>\n",
       "      <td>77 Highfield Rd</td>\n",
       "      <td>5</td>\n",
       "      <td>h</td>\n",
       "      <td>3550000.0</td>\n",
       "      <td>18/03/2017</td>\n",
       "      <td>4.0</td>\n",
       "      <td>4.0</td>\n",
       "      <td>684.0</td>\n",
       "      <td>6.0</td>\n",
       "      <td>-37.83200</td>\n",
       "      <td>145.08530</td>\n",
       "    </tr>\n",
       "    <tr>\n",
       "      <th>715</th>\n",
       "      <td>ID344871903</td>\n",
       "      <td>301/228 The Avenue</td>\n",
       "      <td>3</td>\n",
       "      <td>u</td>\n",
       "      <td>1560000.0</td>\n",
       "      <td>27/05/2017</td>\n",
       "      <td>2.0</td>\n",
       "      <td>1.0</td>\n",
       "      <td>2431.0</td>\n",
       "      <td>69.0</td>\n",
       "      <td>-37.78212</td>\n",
       "      <td>144.95755</td>\n",
       "    </tr>\n",
       "    <tr>\n",
       "      <th>716</th>\n",
       "      <td>ID368235133</td>\n",
       "      <td>33 Clunes St</td>\n",
       "      <td>2</td>\n",
       "      <td>h</td>\n",
       "      <td>705500.0</td>\n",
       "      <td>30/07/2016</td>\n",
       "      <td>1.0</td>\n",
       "      <td>1.0</td>\n",
       "      <td>770.0</td>\n",
       "      <td>69.0</td>\n",
       "      <td>-37.71590</td>\n",
       "      <td>145.03890</td>\n",
       "    </tr>\n",
       "    <tr>\n",
       "      <th>717</th>\n",
       "      <td>ID355235119</td>\n",
       "      <td>27 Wellington St</td>\n",
       "      <td>3</td>\n",
       "      <td>h</td>\n",
       "      <td>915000.0</td>\n",
       "      <td>22/07/2017</td>\n",
       "      <td>1.0</td>\n",
       "      <td>2.0</td>\n",
       "      <td>447.0</td>\n",
       "      <td>109.0</td>\n",
       "      <td>-37.79200</td>\n",
       "      <td>144.86856</td>\n",
       "    </tr>\n",
       "    <tr>\n",
       "      <th>718</th>\n",
       "      <td>ID300707640</td>\n",
       "      <td>3/7 Lilian St</td>\n",
       "      <td>3</td>\n",
       "      <td>t</td>\n",
       "      <td>1235000.0</td>\n",
       "      <td>27/05/2017</td>\n",
       "      <td>3.0</td>\n",
       "      <td>2.0</td>\n",
       "      <td>338.0</td>\n",
       "      <td>119.0</td>\n",
       "      <td>-37.82704</td>\n",
       "      <td>145.16801</td>\n",
       "    </tr>\n",
       "    <tr>\n",
       "      <th>719</th>\n",
       "      <td>ID699088674</td>\n",
       "      <td>4/6 Crefden St</td>\n",
       "      <td>2</td>\n",
       "      <td>u</td>\n",
       "      <td>360000.0</td>\n",
       "      <td>23/04/2016</td>\n",
       "      <td>2.0</td>\n",
       "      <td>1.0</td>\n",
       "      <td>0.0</td>\n",
       "      <td>69.0</td>\n",
       "      <td>-37.77760</td>\n",
       "      <td>144.87230</td>\n",
       "    </tr>\n",
       "  </tbody>\n",
       "</table>\n",
       "<p>64 rows × 12 columns</p>\n",
       "</div>"
      ],
      "text/plain": [
       "              ID             Address  Rooms Type      Price        Date  \\\n",
       "1    ID161649164     77 Highfield Rd      5    h  3550000.0  18/03/2017   \n",
       "4    ID115945460         4 Walter St      3    h  1045000.0  29/04/2017   \n",
       "20   ID355235119    27 Wellington St      3    h   915000.0  22/07/2017   \n",
       "31   ID482468886    2/35 Boisdale St      2    u   825000.0  13/05/2017   \n",
       "46   ID349347649        26 Thomas St      3    h  1346000.0  10/12/2016   \n",
       "63   ID569947888       10 Cecelia Dr      3    h   806000.0  27/05/2017   \n",
       "77   ID115945460         4 Walter St      3    h  1045000.0  29/04/2017   \n",
       "124  ID344871903  301/228 The Avenue      3    u  1560000.0  27/05/2017   \n",
       "126  ID676735768       12 Pacific Dr      4    h   840000.0  22/07/2017   \n",
       "150  ID961172746     188 Rachelle Rd      3    h   835000.0   8/04/2017   \n",
       "171  ID386550460      1/373 South Rd      3    u   725000.0   8/04/2017   \n",
       "176  ID300707640       3/7 Lilian St      3    t  1235000.0  27/05/2017   \n",
       "222  ID535688031         57 Wales St      3    h   925000.0  24/09/2016   \n",
       "232  ID937799166      46 Eglinton St      4    h  1525000.0  26/08/2017   \n",
       "253  ID614834549      4 Woolstone Cl      4    h   560000.0  24/09/2016   \n",
       "257  ID368235133        33 Clunes St      2    h   705500.0  30/07/2016   \n",
       "264  ID688200908       4/2 Alfred St      2    u   830000.0   7/05/2016   \n",
       "286  ID719536654          87 Hope St      3    t   955000.0  11/02/2017   \n",
       "322  ID156754609       165 Morris St      3    h   591500.0  30/07/2016   \n",
       "332  ID266487565        18 Claude St      2    h  1035000.0   4/03/2017   \n",
       "334  ID136980463          2 Hazel Gr      2    h   915000.0   3/12/2016   \n",
       "339  ID281884941      27 Kensley Cct      4    h   492000.0  24/06/2017   \n",
       "385  ID798515012       83 Princes St      2    h   720000.0   7/05/2016   \n",
       "388  ID349347649        26 Thomas St      3    h  1346000.0  10/12/2016   \n",
       "421  ID614834549      4 Woolstone Cl      4    h   560000.0  24/09/2016   \n",
       "431  ID261735243        8 Rutland St      3    h   960000.0  30/07/2016   \n",
       "439  ID792281652     36A Warrigal Rd      3    h  1400000.0  24/06/2017   \n",
       "440  ID569947888       10 Cecelia Dr      3    h   806000.0  27/05/2017   \n",
       "459  ID386550460      1/373 South Rd      3    u   725000.0   8/04/2017   \n",
       "462  ID332701608     59 Staughton Rd      4    h  1802000.0  28/05/2016   \n",
       "..           ...                 ...    ...  ...        ...         ...   \n",
       "509  ID676060343       15 Randell Ct      4    h   865000.0  17/06/2017   \n",
       "521  ID719536654          87 Hope St      3    t   955000.0  11/02/2017   \n",
       "534  ID648177159      59 Hertford Rd      2    h   825000.0  15/10/2016   \n",
       "545  ID332701608     59 Staughton Rd      4    h  1802000.0  28/05/2016   \n",
       "567  ID482468886    2/35 Boisdale St      2    u   825000.0  13/05/2017   \n",
       "597  ID543489901     4/81 Rosanna Rd      3    u   620000.0   4/03/2017   \n",
       "628  ID478489413   815 Heidelberg Rd      3    h  2000000.0  15/10/2016   \n",
       "640  ID699088674      4/6 Crefden St      2    u   360000.0  23/04/2016   \n",
       "651  ID937799166      46 Eglinton St      4    h  1525000.0  26/08/2017   \n",
       "681  ID478489413   815 Heidelberg Rd      3    h  2000000.0  15/10/2016   \n",
       "700  ID688200908       4/2 Alfred St      2    u   830000.0   7/05/2016   \n",
       "701  ID156754609       165 Morris St      3    h   591500.0  30/07/2016   \n",
       "702  ID924233688      30 College Pde      4    h  2590000.0  18/03/2017   \n",
       "703  ID676060343       15 Randell Ct      4    h   865000.0  17/06/2017   \n",
       "704  ID792281652     36A Warrigal Rd      3    h  1400000.0  24/06/2017   \n",
       "705  ID136980463          2 Hazel Gr      2    h   915000.0   3/12/2016   \n",
       "706  ID961172746     188 Rachelle Rd      3    h   835000.0   8/04/2017   \n",
       "707  ID281884941      27 Kensley Cct      4    h   492000.0  24/06/2017   \n",
       "708  ID676735768       12 Pacific Dr      4    h   840000.0  22/07/2017   \n",
       "709  ID543489901     4/81 Rosanna Rd      3    u   620000.0   4/03/2017   \n",
       "710  ID648177159      59 Hertford Rd      2    h   825000.0  15/10/2016   \n",
       "711  ID798515012       83 Princes St      2    h   720000.0   7/05/2016   \n",
       "712  ID349451148        2 Matilda Rd      3    h  1090500.0   3/06/2017   \n",
       "713  ID261735243        8 Rutland St      3    h   960000.0  30/07/2016   \n",
       "714  ID161649164     77 Highfield Rd      5    h  3550000.0  18/03/2017   \n",
       "715  ID344871903  301/228 The Avenue      3    u  1560000.0  27/05/2017   \n",
       "716  ID368235133        33 Clunes St      2    h   705500.0  30/07/2016   \n",
       "717  ID355235119    27 Wellington St      3    h   915000.0  22/07/2017   \n",
       "718  ID300707640       3/7 Lilian St      3    t  1235000.0  27/05/2017   \n",
       "719  ID699088674      4/6 Crefden St      2    u   360000.0  23/04/2016   \n",
       "\n",
       "     Bathroom  Car  Landsize    Age  Lattitude  Longtitude  \n",
       "1         4.0  4.0     684.0    6.0  -37.83200   145.08530  \n",
       "4         2.0  3.0     526.0   29.0  -37.85500   144.87420  \n",
       "20        1.0  2.0     447.0  109.0  -37.79200   144.86856  \n",
       "31        1.0  2.0     180.0   49.0  -37.83510   145.10300  \n",
       "46        1.0  0.0     187.0  104.0  -37.81690   144.99600  \n",
       "63        2.0  4.0     546.0   54.0  -37.74761   144.85210  \n",
       "77        2.0  3.0     526.0   29.0  -37.85500   144.87420  \n",
       "124       2.0  1.0    2431.0   69.0  -37.78212   144.95755  \n",
       "126       2.0  2.0     383.0   59.0  -38.01958   145.12356  \n",
       "150       2.0  2.0     700.0   39.0  -37.73220   144.87220  \n",
       "171       1.0  1.0     137.0   14.0  -37.93190   145.02820  \n",
       "176       3.0  2.0     338.0  119.0  -37.82704   145.16801  \n",
       "222       1.0  1.0     275.0   99.0  -37.80850   144.88020  \n",
       "232       3.0  1.0     233.0   49.0  -37.76884   144.91708  \n",
       "253       2.0  2.0     612.0   39.0  -37.73780   144.82640  \n",
       "257       1.0  1.0     770.0   69.0  -37.71590   145.03890  \n",
       "264       1.0  1.0     727.0   19.0  -37.85030   144.98550  \n",
       "286       2.0  2.0     327.0   12.0  -37.76360   144.95590  \n",
       "322       1.0  2.0     427.0   79.0  -37.79250   144.82820  \n",
       "332       1.0  0.0     140.0   99.0  -37.77090   144.99640  \n",
       "334       1.0  3.0     629.0   44.0  -37.73120   144.93990  \n",
       "339       2.0  2.0     479.0   10.0  -37.57005   144.91909  \n",
       "385       1.0  1.0     117.0  129.0  -37.79300   144.97280  \n",
       "388       1.0  0.0     187.0  104.0  -37.81690   144.99600  \n",
       "421       2.0  2.0     612.0   39.0  -37.73780   144.82640  \n",
       "431       1.0  1.0     645.0   69.0  -37.73600   144.88090  \n",
       "439       2.0  2.0     259.0   12.0  -37.99050   145.06999  \n",
       "440       2.0  4.0     546.0   54.0  -37.74761   144.85210  \n",
       "459       1.0  1.0     137.0   14.0  -37.93190   145.02820  \n",
       "462       3.0  2.0     394.0   39.0  -37.85230   145.06030  \n",
       "..        ...  ...       ...    ...        ...         ...  \n",
       "509       2.0  2.0     612.0    6.0  -37.65478   145.05199  \n",
       "521       2.0  2.0     327.0   12.0  -37.76360   144.95590  \n",
       "534       1.0  3.0     580.0   61.0  -37.78180   144.83930  \n",
       "545       3.0  2.0     394.0   39.0  -37.85230   145.06030  \n",
       "567       1.0  2.0     180.0   49.0  -37.83510   145.10300  \n",
       "597       1.0  1.0     215.0   34.0  -37.75090   145.06980  \n",
       "628       3.0  2.0     686.0   15.0  -37.78000   145.03410  \n",
       "640       2.0  1.0       0.0   69.0  -37.77760   144.87230  \n",
       "651       3.0  1.0     233.0   49.0  -37.76884   144.91708  \n",
       "681       3.0  2.0     686.0   15.0  -37.78000   145.03410  \n",
       "700       1.0  1.0     727.0   19.0  -37.85030   144.98550  \n",
       "701       1.0  2.0     427.0   79.0  -37.79250   144.82820  \n",
       "702       2.0  2.0     660.0   91.0  -37.81240   145.03610  \n",
       "703       2.0  2.0     612.0    6.0  -37.65478   145.05199  \n",
       "704       2.0  2.0     259.0   12.0  -37.99050   145.06999  \n",
       "705       1.0  3.0     629.0   44.0  -37.73120   144.93990  \n",
       "706       2.0  2.0     700.0   39.0  -37.73220   144.87220  \n",
       "707       2.0  2.0     479.0   10.0  -37.57005   144.91909  \n",
       "708       2.0  2.0     383.0   59.0  -38.01958   145.12356  \n",
       "709       1.0  1.0     215.0   34.0  -37.75090   145.06980  \n",
       "710       1.0  3.0     580.0   61.0  -37.78180   144.83930  \n",
       "711       1.0  1.0     117.0  129.0  -37.79300   144.97280  \n",
       "712       2.0  2.0     347.0   64.0  -37.94274   145.05783  \n",
       "713       1.0  1.0     645.0   69.0  -37.73600   144.88090  \n",
       "714       4.0  4.0     684.0    6.0  -37.83200   145.08530  \n",
       "715       2.0  1.0    2431.0   69.0  -37.78212   144.95755  \n",
       "716       1.0  1.0     770.0   69.0  -37.71590   145.03890  \n",
       "717       1.0  2.0     447.0  109.0  -37.79200   144.86856  \n",
       "718       3.0  2.0     338.0  119.0  -37.82704   145.16801  \n",
       "719       2.0  1.0       0.0   69.0  -37.77760   144.87230  \n",
       "\n",
       "[64 rows x 12 columns]"
      ]
     },
     "execution_count": 5,
     "metadata": {},
     "output_type": "execute_result"
    }
   ],
   "source": [
    "house_df[house_df.duplicated(keep=False)]"
   ]
  },
  {
   "cell_type": "markdown",
   "metadata": {},
   "source": [
    "We will just keep the first occurence of row and remove rest of the duplicates."
   ]
  },
  {
   "cell_type": "code",
   "execution_count": 6,
   "metadata": {},
   "outputs": [],
   "source": [
    "house_df.drop_duplicates(keep='first', inplace=True)"
   ]
  },
  {
   "cell_type": "markdown",
   "metadata": {},
   "source": [
    "# 1. Extracting Primary Schools Data"
   ]
  },
  {
   "cell_type": "markdown",
   "metadata": {},
   "source": [
    "Lets collect data for primary schools with its rankings. For this, we will use urlopen to open the url. "
   ]
  },
  {
   "cell_type": "code",
   "execution_count": 7,
   "metadata": {},
   "outputs": [],
   "source": [
    "# send request to given url\n",
    "primary_html = urlopen(\"http://www.schoolcatchment.com.au/?p=12301\")"
   ]
  },
  {
   "cell_type": "markdown",
   "metadata": {},
   "source": [
    "We will use BeautifulSoup to read the content of this page and use methods on it to extract content of various information on HTML tags."
   ]
  },
  {
   "cell_type": "code",
   "execution_count": 8,
   "metadata": {},
   "outputs": [],
   "source": [
    "#create beautifulSoup object to store xml content of this page\n",
    "primary_bsobj = BeautifulSoup(primary_html, \"lxml\")"
   ]
  },
  {
   "cell_type": "code",
   "execution_count": 9,
   "metadata": {},
   "outputs": [],
   "source": [
    "#find column names for the rankings table\n",
    "columnNames = []\n",
    "#extract all column names from th tags present within thead tags \n",
    "for i in range(1,8):\n",
    "    columnNames.append(primary_bsobj.find(\"thead\").\n",
    "                       find(\"tr\", {\"class\": \"row-1 odd\"}).\n",
    "                       find(\"th\", {\"class\": \"column-\"+str(i)}).text)"
   ]
  },
  {
   "cell_type": "markdown",
   "metadata": {},
   "source": [
    "So here are the column names."
   ]
  },
  {
   "cell_type": "code",
   "execution_count": 10,
   "metadata": {},
   "outputs": [
    {
     "data": {
      "text/plain": [
       "['Ranking',\n",
       " 'School Name',\n",
       " 'State',\n",
       " 'School Sector',\n",
       " 'Location',\n",
       " 'Total Enrolment',\n",
       " 'Combined Score As Percentage of Number One School In Australia Regardless of School Sector']"
      ]
     },
     "execution_count": 10,
     "metadata": {},
     "output_type": "execute_result"
    }
   ],
   "source": [
    "columnNames"
   ]
  },
  {
   "cell_type": "markdown",
   "metadata": {},
   "source": [
    "From the xml content of this page we can see that for tr tags, the row-{even_number}even class has all information about even rows and row-{odd_number}odd class has all information about odd rows. \n",
    "\n",
    "Also, the numbers range from 2 to 502. So we can interate loop within this range and store the information about each column in separate list."
   ]
  },
  {
   "cell_type": "code",
   "execution_count": 11,
   "metadata": {},
   "outputs": [],
   "source": [
    "#Initialize the list for each column\n",
    "rankings = []\n",
    "school_names = []\n",
    "states = []\n",
    "school_sectors = []\n",
    "locations = []\n",
    "total_enrolments = []\n",
    "combined_score = []\n",
    "\n",
    "for i in range(2,502):\n",
    "    #Extract information for even and odd rows separately\n",
    "    if i%2 == 0:\n",
    "        schoolInfo = primary_bsobj.find(\"tr\", {\"class\": \"row-\"+str(i)+\" even\"}).findAll(\"td\")\n",
    "    else:\n",
    "        schoolInfo = primary_bsobj.find(\"tr\", {\"class\": \"row-\"+str(i)+\" odd\"}).findAll(\"td\")\n",
    "    #Extract content between the tags and store in particular list\n",
    "    rankings.append(schoolInfo[0].text)\n",
    "    school_names.append(schoolInfo[1].text)\n",
    "    states.append(schoolInfo[2].text)\n",
    "    school_sectors.append(schoolInfo[3].text)\n",
    "    locations.append(schoolInfo[4].text)\n",
    "    total_enrolments.append(schoolInfo[5].text)\n",
    "    combined_score.append(schoolInfo[6].text)"
   ]
  },
  {
   "cell_type": "markdown",
   "metadata": {},
   "source": [
    "We'll create zip of all list to create a dataframe and name columns with the column names that we extracted above. "
   ]
  },
  {
   "cell_type": "code",
   "execution_count": 12,
   "metadata": {},
   "outputs": [
    {
     "data": {
      "text/html": [
       "<div>\n",
       "<style scoped>\n",
       "    .dataframe tbody tr th:only-of-type {\n",
       "        vertical-align: middle;\n",
       "    }\n",
       "\n",
       "    .dataframe tbody tr th {\n",
       "        vertical-align: top;\n",
       "    }\n",
       "\n",
       "    .dataframe thead th {\n",
       "        text-align: right;\n",
       "    }\n",
       "</style>\n",
       "<table border=\"1\" class=\"dataframe\">\n",
       "  <thead>\n",
       "    <tr style=\"text-align: right;\">\n",
       "      <th></th>\n",
       "      <th>Ranking</th>\n",
       "      <th>School Name</th>\n",
       "      <th>State</th>\n",
       "      <th>School Sector</th>\n",
       "      <th>Location</th>\n",
       "      <th>Total Enrolment</th>\n",
       "      <th>Combined Score As Percentage of Number One School In Australia Regardless of School Sector</th>\n",
       "    </tr>\n",
       "  </thead>\n",
       "  <tbody>\n",
       "    <tr>\n",
       "      <th>0</th>\n",
       "      <td>1</td>\n",
       "      <td>Presbyterian Ladies' College</td>\n",
       "      <td>VIC</td>\n",
       "      <td>Independent</td>\n",
       "      <td>Major Cities</td>\n",
       "      <td>1412</td>\n",
       "      <td>96.65%</td>\n",
       "    </tr>\n",
       "    <tr>\n",
       "      <th>1</th>\n",
       "      <td>2</td>\n",
       "      <td>Haileybury College</td>\n",
       "      <td>VIC</td>\n",
       "      <td>Independent</td>\n",
       "      <td>Major Cities</td>\n",
       "      <td>3754</td>\n",
       "      <td>95.69%</td>\n",
       "    </tr>\n",
       "    <tr>\n",
       "      <th>2</th>\n",
       "      <td>3</td>\n",
       "      <td>Ballarat Clarendon College</td>\n",
       "      <td>VIC</td>\n",
       "      <td>Independent</td>\n",
       "      <td>Inner Regional</td>\n",
       "      <td>1326</td>\n",
       "      <td>93.29%</td>\n",
       "    </tr>\n",
       "    <tr>\n",
       "      <th>3</th>\n",
       "      <td>4</td>\n",
       "      <td>Fitzroy Community School</td>\n",
       "      <td>VIC</td>\n",
       "      <td>Independent</td>\n",
       "      <td>Major Cities</td>\n",
       "      <td>113</td>\n",
       "      <td>93.13%</td>\n",
       "    </tr>\n",
       "    <tr>\n",
       "      <th>4</th>\n",
       "      <td>5</td>\n",
       "      <td>Fintona Girls' School</td>\n",
       "      <td>VIC</td>\n",
       "      <td>Independent</td>\n",
       "      <td>Major Cities</td>\n",
       "      <td>456</td>\n",
       "      <td>92.96%</td>\n",
       "    </tr>\n",
       "  </tbody>\n",
       "</table>\n",
       "</div>"
      ],
      "text/plain": [
       "  Ranking                   School Name State School Sector        Location  \\\n",
       "0       1  Presbyterian Ladies' College   VIC   Independent    Major Cities   \n",
       "1       2            Haileybury College   VIC   Independent    Major Cities   \n",
       "2       3    Ballarat Clarendon College   VIC   Independent  Inner Regional   \n",
       "3       4      Fitzroy Community School   VIC   Independent    Major Cities   \n",
       "4       5         Fintona Girls' School   VIC   Independent    Major Cities   \n",
       "\n",
       "  Total Enrolment  \\\n",
       "0            1412   \n",
       "1            3754   \n",
       "2            1326   \n",
       "3             113   \n",
       "4             456   \n",
       "\n",
       "  Combined Score As Percentage of Number One School In Australia Regardless of School Sector  \n",
       "0                                             96.65%                                          \n",
       "1                                             95.69%                                          \n",
       "2                                             93.29%                                          \n",
       "3                                             93.13%                                          \n",
       "4                                             92.96%                                          "
      ]
     },
     "execution_count": 12,
     "metadata": {},
     "output_type": "execute_result"
    }
   ],
   "source": [
    "#Create a list of zip of all lists\n",
    "zippedList =  list(zip(rankings, school_names, states, school_sectors, locations, total_enrolments, combined_score))\n",
    "#create a dataframe with columnnames\n",
    "primaryRank_df = pd.DataFrame(zippedList, columns=columnNames)\n",
    "primaryRank_df['Ranking'] = primaryRank_df['Ranking'].astype(int)\n",
    "primaryRank_df.head()"
   ]
  },
  {
   "cell_type": "markdown",
   "metadata": {},
   "source": [
    "Let us investigate into this dataframe using describe()"
   ]
  },
  {
   "cell_type": "code",
   "execution_count": 13,
   "metadata": {},
   "outputs": [
    {
     "data": {
      "text/html": [
       "<div>\n",
       "<style scoped>\n",
       "    .dataframe tbody tr th:only-of-type {\n",
       "        vertical-align: middle;\n",
       "    }\n",
       "\n",
       "    .dataframe tbody tr th {\n",
       "        vertical-align: top;\n",
       "    }\n",
       "\n",
       "    .dataframe thead th {\n",
       "        text-align: right;\n",
       "    }\n",
       "</style>\n",
       "<table border=\"1\" class=\"dataframe\">\n",
       "  <thead>\n",
       "    <tr style=\"text-align: right;\">\n",
       "      <th></th>\n",
       "      <th>Ranking</th>\n",
       "      <th>School Name</th>\n",
       "      <th>State</th>\n",
       "      <th>School Sector</th>\n",
       "      <th>Location</th>\n",
       "      <th>Total Enrolment</th>\n",
       "      <th>Combined Score As Percentage of Number One School In Australia Regardless of School Sector</th>\n",
       "    </tr>\n",
       "  </thead>\n",
       "  <tbody>\n",
       "    <tr>\n",
       "      <th>count</th>\n",
       "      <td>500</td>\n",
       "      <td>500</td>\n",
       "      <td>500</td>\n",
       "      <td>500</td>\n",
       "      <td>500</td>\n",
       "      <td>500</td>\n",
       "      <td>500</td>\n",
       "    </tr>\n",
       "    <tr>\n",
       "      <th>unique</th>\n",
       "      <td>500</td>\n",
       "      <td>471</td>\n",
       "      <td>1</td>\n",
       "      <td>3</td>\n",
       "      <td>3</td>\n",
       "      <td>388</td>\n",
       "      <td>299</td>\n",
       "    </tr>\n",
       "    <tr>\n",
       "      <th>top</th>\n",
       "      <td>369</td>\n",
       "      <td>St Mary's School</td>\n",
       "      <td>VIC</td>\n",
       "      <td>Government</td>\n",
       "      <td>Major Cities</td>\n",
       "      <td>314</td>\n",
       "      <td>83.16%</td>\n",
       "    </tr>\n",
       "    <tr>\n",
       "      <th>freq</th>\n",
       "      <td>1</td>\n",
       "      <td>10</td>\n",
       "      <td>500</td>\n",
       "      <td>292</td>\n",
       "      <td>430</td>\n",
       "      <td>3</td>\n",
       "      <td>6</td>\n",
       "    </tr>\n",
       "  </tbody>\n",
       "</table>\n",
       "</div>"
      ],
      "text/plain": [
       "       Ranking       School Name State School Sector      Location  \\\n",
       "count      500               500   500           500           500   \n",
       "unique     500               471     1             3             3   \n",
       "top        369  St Mary's School   VIC    Government  Major Cities   \n",
       "freq         1                10   500           292           430   \n",
       "\n",
       "       Total Enrolment  \\\n",
       "count              500   \n",
       "unique             388   \n",
       "top                314   \n",
       "freq                 3   \n",
       "\n",
       "       Combined Score As Percentage of Number One School In Australia Regardless of School Sector  \n",
       "count                                                 500                                          \n",
       "unique                                                299                                          \n",
       "top                                                83.16%                                          \n",
       "freq                                                    6                                          "
      ]
     },
     "execution_count": 13,
     "metadata": {},
     "output_type": "execute_result"
    }
   ],
   "source": [
    "primaryRank_df.describe()"
   ]
  },
  {
   "cell_type": "markdown",
   "metadata": {},
   "source": [
    "We see that there are 471 unique values for school names so there are 29 duplicates. Lets look at which schools are duplicated. "
   ]
  },
  {
   "cell_type": "code",
   "execution_count": 14,
   "metadata": {},
   "outputs": [
    {
     "data": {
      "text/plain": [
       "array(['Sacred Heart School', 'Our Lady Help of Christians School',\n",
       "       \"St Joseph's School\", \"St Kevin's School\", \"St Mary's School\",\n",
       "       \"St Paul's School\", \"St James' School\", \"St Christopher's School\",\n",
       "       \"St Anne's School\", \"St Peter's School\", \"St Patrick's School\"],\n",
       "      dtype=object)"
      ]
     },
     "execution_count": 14,
     "metadata": {},
     "output_type": "execute_result"
    }
   ],
   "source": [
    "primaryRank_df[primaryRank_df.duplicated(['School Name'], keep=False)]['School Name'].unique()"
   ]
  },
  {
   "cell_type": "markdown",
   "metadata": {},
   "source": [
    "We see that first 11 schools have duplicate entries for rank. As specified, we will only consider first entry which is the minimum rank for each of these schools and drop the rest of the duplicated records."
   ]
  },
  {
   "cell_type": "code",
   "execution_count": 15,
   "metadata": {},
   "outputs": [
    {
     "data": {
      "text/html": [
       "<div>\n",
       "<style scoped>\n",
       "    .dataframe tbody tr th:only-of-type {\n",
       "        vertical-align: middle;\n",
       "    }\n",
       "\n",
       "    .dataframe tbody tr th {\n",
       "        vertical-align: top;\n",
       "    }\n",
       "\n",
       "    .dataframe thead th {\n",
       "        text-align: right;\n",
       "    }\n",
       "</style>\n",
       "<table border=\"1\" class=\"dataframe\">\n",
       "  <thead>\n",
       "    <tr style=\"text-align: right;\">\n",
       "      <th></th>\n",
       "      <th>Ranking</th>\n",
       "      <th>School Name</th>\n",
       "      <th>State</th>\n",
       "      <th>School Sector</th>\n",
       "      <th>Location</th>\n",
       "      <th>Total Enrolment</th>\n",
       "      <th>Combined Score As Percentage of Number One School In Australia Regardless of School Sector</th>\n",
       "    </tr>\n",
       "  </thead>\n",
       "  <tbody>\n",
       "    <tr>\n",
       "      <th>65</th>\n",
       "      <td>66</td>\n",
       "      <td>Sacred Heart School</td>\n",
       "      <td>VIC</td>\n",
       "      <td>Catholic</td>\n",
       "      <td>Major Cities</td>\n",
       "      <td>277</td>\n",
       "      <td>87.61%</td>\n",
       "    </tr>\n",
       "    <tr>\n",
       "      <th>89</th>\n",
       "      <td>90</td>\n",
       "      <td>Our Lady Help of Christians School</td>\n",
       "      <td>VIC</td>\n",
       "      <td>Catholic</td>\n",
       "      <td>Major Cities</td>\n",
       "      <td>200</td>\n",
       "      <td>86.99%</td>\n",
       "    </tr>\n",
       "    <tr>\n",
       "      <th>107</th>\n",
       "      <td>108</td>\n",
       "      <td>Our Lady Help of Christians School</td>\n",
       "      <td>VIC</td>\n",
       "      <td>Catholic</td>\n",
       "      <td>Major Cities</td>\n",
       "      <td>316</td>\n",
       "      <td>86.47%</td>\n",
       "    </tr>\n",
       "    <tr>\n",
       "      <th>112</th>\n",
       "      <td>113</td>\n",
       "      <td>St Joseph's School</td>\n",
       "      <td>VIC</td>\n",
       "      <td>Catholic</td>\n",
       "      <td>Major Cities</td>\n",
       "      <td>341</td>\n",
       "      <td>86.37%</td>\n",
       "    </tr>\n",
       "    <tr>\n",
       "      <th>129</th>\n",
       "      <td>130</td>\n",
       "      <td>St Kevin's School</td>\n",
       "      <td>VIC</td>\n",
       "      <td>Catholic</td>\n",
       "      <td>Major Cities</td>\n",
       "      <td>127</td>\n",
       "      <td>85.89%</td>\n",
       "    </tr>\n",
       "    <tr>\n",
       "      <th>158</th>\n",
       "      <td>159</td>\n",
       "      <td>St Mary's School</td>\n",
       "      <td>VIC</td>\n",
       "      <td>Catholic</td>\n",
       "      <td>Major Cities</td>\n",
       "      <td>344</td>\n",
       "      <td>85.31%</td>\n",
       "    </tr>\n",
       "    <tr>\n",
       "      <th>176</th>\n",
       "      <td>177</td>\n",
       "      <td>St Mary's School</td>\n",
       "      <td>VIC</td>\n",
       "      <td>Catholic</td>\n",
       "      <td>Major Cities</td>\n",
       "      <td>323</td>\n",
       "      <td>85.08%</td>\n",
       "    </tr>\n",
       "    <tr>\n",
       "      <th>202</th>\n",
       "      <td>203</td>\n",
       "      <td>Sacred Heart School</td>\n",
       "      <td>VIC</td>\n",
       "      <td>Catholic</td>\n",
       "      <td>Major Cities</td>\n",
       "      <td>267</td>\n",
       "      <td>84.67%</td>\n",
       "    </tr>\n",
       "    <tr>\n",
       "      <th>210</th>\n",
       "      <td>211</td>\n",
       "      <td>St Paul's School</td>\n",
       "      <td>VIC</td>\n",
       "      <td>Catholic</td>\n",
       "      <td>Major Cities</td>\n",
       "      <td>271</td>\n",
       "      <td>84.55%</td>\n",
       "    </tr>\n",
       "    <tr>\n",
       "      <th>247</th>\n",
       "      <td>248</td>\n",
       "      <td>St James' School</td>\n",
       "      <td>VIC</td>\n",
       "      <td>Catholic</td>\n",
       "      <td>Major Cities</td>\n",
       "      <td>337</td>\n",
       "      <td>84.09%</td>\n",
       "    </tr>\n",
       "    <tr>\n",
       "      <th>273</th>\n",
       "      <td>274</td>\n",
       "      <td>St Christopher's School</td>\n",
       "      <td>VIC</td>\n",
       "      <td>Catholic</td>\n",
       "      <td>Major Cities</td>\n",
       "      <td>91</td>\n",
       "      <td>83.81%</td>\n",
       "    </tr>\n",
       "    <tr>\n",
       "      <th>278</th>\n",
       "      <td>279</td>\n",
       "      <td>St Mary's School</td>\n",
       "      <td>VIC</td>\n",
       "      <td>Catholic</td>\n",
       "      <td>Outer Regional</td>\n",
       "      <td>516</td>\n",
       "      <td>83.76%</td>\n",
       "    </tr>\n",
       "    <tr>\n",
       "      <th>286</th>\n",
       "      <td>287</td>\n",
       "      <td>Sacred Heart School</td>\n",
       "      <td>VIC</td>\n",
       "      <td>Catholic</td>\n",
       "      <td>Major Cities</td>\n",
       "      <td>276</td>\n",
       "      <td>83.66%</td>\n",
       "    </tr>\n",
       "    <tr>\n",
       "      <th>292</th>\n",
       "      <td>293</td>\n",
       "      <td>St Anne's School</td>\n",
       "      <td>VIC</td>\n",
       "      <td>Catholic</td>\n",
       "      <td>Major Cities</td>\n",
       "      <td>289</td>\n",
       "      <td>83.61%</td>\n",
       "    </tr>\n",
       "    <tr>\n",
       "      <th>301</th>\n",
       "      <td>302</td>\n",
       "      <td>St James' School</td>\n",
       "      <td>VIC</td>\n",
       "      <td>Catholic</td>\n",
       "      <td>Major Cities</td>\n",
       "      <td>249</td>\n",
       "      <td>83.50%</td>\n",
       "    </tr>\n",
       "    <tr>\n",
       "      <th>306</th>\n",
       "      <td>307</td>\n",
       "      <td>St Joseph's School</td>\n",
       "      <td>VIC</td>\n",
       "      <td>Catholic</td>\n",
       "      <td>Major Cities</td>\n",
       "      <td>410</td>\n",
       "      <td>83.42%</td>\n",
       "    </tr>\n",
       "    <tr>\n",
       "      <th>314</th>\n",
       "      <td>315</td>\n",
       "      <td>St Mary's School</td>\n",
       "      <td>VIC</td>\n",
       "      <td>Catholic</td>\n",
       "      <td>Outer Regional</td>\n",
       "      <td>42</td>\n",
       "      <td>83.32%</td>\n",
       "    </tr>\n",
       "    <tr>\n",
       "      <th>327</th>\n",
       "      <td>328</td>\n",
       "      <td>St Mary's School</td>\n",
       "      <td>VIC</td>\n",
       "      <td>Catholic</td>\n",
       "      <td>Major Cities</td>\n",
       "      <td>261</td>\n",
       "      <td>83.21%</td>\n",
       "    </tr>\n",
       "    <tr>\n",
       "      <th>333</th>\n",
       "      <td>334</td>\n",
       "      <td>St Joseph's School</td>\n",
       "      <td>VIC</td>\n",
       "      <td>Catholic</td>\n",
       "      <td>Outer Regional</td>\n",
       "      <td>42</td>\n",
       "      <td>83.16%</td>\n",
       "    </tr>\n",
       "    <tr>\n",
       "      <th>334</th>\n",
       "      <td>335</td>\n",
       "      <td>St Mary's School</td>\n",
       "      <td>VIC</td>\n",
       "      <td>Catholic</td>\n",
       "      <td>Major Cities</td>\n",
       "      <td>365</td>\n",
       "      <td>83.16%</td>\n",
       "    </tr>\n",
       "    <tr>\n",
       "      <th>344</th>\n",
       "      <td>345</td>\n",
       "      <td>St Peter's School</td>\n",
       "      <td>VIC</td>\n",
       "      <td>Catholic</td>\n",
       "      <td>Major Cities</td>\n",
       "      <td>666</td>\n",
       "      <td>83.06%</td>\n",
       "    </tr>\n",
       "    <tr>\n",
       "      <th>345</th>\n",
       "      <td>346</td>\n",
       "      <td>St Patrick's School</td>\n",
       "      <td>VIC</td>\n",
       "      <td>Catholic</td>\n",
       "      <td>Major Cities</td>\n",
       "      <td>338</td>\n",
       "      <td>83.06%</td>\n",
       "    </tr>\n",
       "    <tr>\n",
       "      <th>363</th>\n",
       "      <td>364</td>\n",
       "      <td>St Patrick's School</td>\n",
       "      <td>VIC</td>\n",
       "      <td>Catholic</td>\n",
       "      <td>Major Cities</td>\n",
       "      <td>357</td>\n",
       "      <td>82.87%</td>\n",
       "    </tr>\n",
       "    <tr>\n",
       "      <th>370</th>\n",
       "      <td>371</td>\n",
       "      <td>St Mary's School</td>\n",
       "      <td>VIC</td>\n",
       "      <td>Catholic</td>\n",
       "      <td>Major Cities</td>\n",
       "      <td>289</td>\n",
       "      <td>82.84%</td>\n",
       "    </tr>\n",
       "    <tr>\n",
       "      <th>374</th>\n",
       "      <td>375</td>\n",
       "      <td>St Joseph's School</td>\n",
       "      <td>VIC</td>\n",
       "      <td>Catholic</td>\n",
       "      <td>Major Cities</td>\n",
       "      <td>152</td>\n",
       "      <td>82.80%</td>\n",
       "    </tr>\n",
       "    <tr>\n",
       "      <th>380</th>\n",
       "      <td>381</td>\n",
       "      <td>St Paul's School</td>\n",
       "      <td>VIC</td>\n",
       "      <td>Catholic</td>\n",
       "      <td>Major Cities</td>\n",
       "      <td>364</td>\n",
       "      <td>82.75%</td>\n",
       "    </tr>\n",
       "    <tr>\n",
       "      <th>395</th>\n",
       "      <td>396</td>\n",
       "      <td>Sacred Heart School</td>\n",
       "      <td>VIC</td>\n",
       "      <td>Catholic</td>\n",
       "      <td>Outer Regional</td>\n",
       "      <td>58</td>\n",
       "      <td>82.54%</td>\n",
       "    </tr>\n",
       "    <tr>\n",
       "      <th>399</th>\n",
       "      <td>400</td>\n",
       "      <td>St Joseph's School</td>\n",
       "      <td>VIC</td>\n",
       "      <td>Catholic</td>\n",
       "      <td>Major Cities</td>\n",
       "      <td>187</td>\n",
       "      <td>82.53%</td>\n",
       "    </tr>\n",
       "    <tr>\n",
       "      <th>400</th>\n",
       "      <td>401</td>\n",
       "      <td>St Joseph's School</td>\n",
       "      <td>VIC</td>\n",
       "      <td>Catholic</td>\n",
       "      <td>Major Cities</td>\n",
       "      <td>319</td>\n",
       "      <td>82.51%</td>\n",
       "    </tr>\n",
       "    <tr>\n",
       "      <th>406</th>\n",
       "      <td>407</td>\n",
       "      <td>St Anne's School</td>\n",
       "      <td>VIC</td>\n",
       "      <td>Catholic</td>\n",
       "      <td>Major Cities</td>\n",
       "      <td>161</td>\n",
       "      <td>82.48%</td>\n",
       "    </tr>\n",
       "    <tr>\n",
       "      <th>415</th>\n",
       "      <td>416</td>\n",
       "      <td>St Peter's School</td>\n",
       "      <td>VIC</td>\n",
       "      <td>Catholic</td>\n",
       "      <td>Major Cities</td>\n",
       "      <td>194</td>\n",
       "      <td>82.34%</td>\n",
       "    </tr>\n",
       "    <tr>\n",
       "      <th>417</th>\n",
       "      <td>418</td>\n",
       "      <td>St Mary's School</td>\n",
       "      <td>VIC</td>\n",
       "      <td>Catholic</td>\n",
       "      <td>Inner Regional</td>\n",
       "      <td>153</td>\n",
       "      <td>82.32%</td>\n",
       "    </tr>\n",
       "    <tr>\n",
       "      <th>418</th>\n",
       "      <td>419</td>\n",
       "      <td>St Christopher's School</td>\n",
       "      <td>VIC</td>\n",
       "      <td>Catholic</td>\n",
       "      <td>Major Cities</td>\n",
       "      <td>717</td>\n",
       "      <td>82.30%</td>\n",
       "    </tr>\n",
       "    <tr>\n",
       "      <th>423</th>\n",
       "      <td>424</td>\n",
       "      <td>St Peter's School</td>\n",
       "      <td>VIC</td>\n",
       "      <td>Catholic</td>\n",
       "      <td>Major Cities</td>\n",
       "      <td>555</td>\n",
       "      <td>82.23%</td>\n",
       "    </tr>\n",
       "    <tr>\n",
       "      <th>428</th>\n",
       "      <td>429</td>\n",
       "      <td>St Mary's School</td>\n",
       "      <td>VIC</td>\n",
       "      <td>Catholic</td>\n",
       "      <td>Major Cities</td>\n",
       "      <td>297</td>\n",
       "      <td>82.15%</td>\n",
       "    </tr>\n",
       "    <tr>\n",
       "      <th>456</th>\n",
       "      <td>457</td>\n",
       "      <td>St Patrick's School</td>\n",
       "      <td>VIC</td>\n",
       "      <td>Catholic</td>\n",
       "      <td>Inner Regional</td>\n",
       "      <td>124</td>\n",
       "      <td>81.81%</td>\n",
       "    </tr>\n",
       "    <tr>\n",
       "      <th>466</th>\n",
       "      <td>467</td>\n",
       "      <td>St Mary's School</td>\n",
       "      <td>VIC</td>\n",
       "      <td>Catholic</td>\n",
       "      <td>Major Cities</td>\n",
       "      <td>557</td>\n",
       "      <td>81.72%</td>\n",
       "    </tr>\n",
       "    <tr>\n",
       "      <th>476</th>\n",
       "      <td>477</td>\n",
       "      <td>St Joseph's School</td>\n",
       "      <td>VIC</td>\n",
       "      <td>Catholic</td>\n",
       "      <td>Inner Regional</td>\n",
       "      <td>114</td>\n",
       "      <td>81.65%</td>\n",
       "    </tr>\n",
       "    <tr>\n",
       "      <th>477</th>\n",
       "      <td>478</td>\n",
       "      <td>Sacred Heart School</td>\n",
       "      <td>VIC</td>\n",
       "      <td>Catholic</td>\n",
       "      <td>Major Cities</td>\n",
       "      <td>305</td>\n",
       "      <td>81.65%</td>\n",
       "    </tr>\n",
       "    <tr>\n",
       "      <th>481</th>\n",
       "      <td>482</td>\n",
       "      <td>St Kevin's School</td>\n",
       "      <td>VIC</td>\n",
       "      <td>Catholic</td>\n",
       "      <td>Major Cities</td>\n",
       "      <td>113</td>\n",
       "      <td>81.62%</td>\n",
       "    </tr>\n",
       "  </tbody>\n",
       "</table>\n",
       "</div>"
      ],
      "text/plain": [
       "    Ranking                         School Name State School Sector  \\\n",
       "65       66                 Sacred Heart School   VIC      Catholic   \n",
       "89       90  Our Lady Help of Christians School   VIC      Catholic   \n",
       "107     108  Our Lady Help of Christians School   VIC      Catholic   \n",
       "112     113                  St Joseph's School   VIC      Catholic   \n",
       "129     130                   St Kevin's School   VIC      Catholic   \n",
       "158     159                    St Mary's School   VIC      Catholic   \n",
       "176     177                    St Mary's School   VIC      Catholic   \n",
       "202     203                 Sacred Heart School   VIC      Catholic   \n",
       "210     211                    St Paul's School   VIC      Catholic   \n",
       "247     248                    St James' School   VIC      Catholic   \n",
       "273     274             St Christopher's School   VIC      Catholic   \n",
       "278     279                    St Mary's School   VIC      Catholic   \n",
       "286     287                 Sacred Heart School   VIC      Catholic   \n",
       "292     293                    St Anne's School   VIC      Catholic   \n",
       "301     302                    St James' School   VIC      Catholic   \n",
       "306     307                  St Joseph's School   VIC      Catholic   \n",
       "314     315                    St Mary's School   VIC      Catholic   \n",
       "327     328                    St Mary's School   VIC      Catholic   \n",
       "333     334                  St Joseph's School   VIC      Catholic   \n",
       "334     335                    St Mary's School   VIC      Catholic   \n",
       "344     345                   St Peter's School   VIC      Catholic   \n",
       "345     346                 St Patrick's School   VIC      Catholic   \n",
       "363     364                 St Patrick's School   VIC      Catholic   \n",
       "370     371                    St Mary's School   VIC      Catholic   \n",
       "374     375                  St Joseph's School   VIC      Catholic   \n",
       "380     381                    St Paul's School   VIC      Catholic   \n",
       "395     396                 Sacred Heart School   VIC      Catholic   \n",
       "399     400                  St Joseph's School   VIC      Catholic   \n",
       "400     401                  St Joseph's School   VIC      Catholic   \n",
       "406     407                    St Anne's School   VIC      Catholic   \n",
       "415     416                   St Peter's School   VIC      Catholic   \n",
       "417     418                    St Mary's School   VIC      Catholic   \n",
       "418     419             St Christopher's School   VIC      Catholic   \n",
       "423     424                   St Peter's School   VIC      Catholic   \n",
       "428     429                    St Mary's School   VIC      Catholic   \n",
       "456     457                 St Patrick's School   VIC      Catholic   \n",
       "466     467                    St Mary's School   VIC      Catholic   \n",
       "476     477                  St Joseph's School   VIC      Catholic   \n",
       "477     478                 Sacred Heart School   VIC      Catholic   \n",
       "481     482                   St Kevin's School   VIC      Catholic   \n",
       "\n",
       "           Location Total Enrolment  \\\n",
       "65     Major Cities             277   \n",
       "89     Major Cities             200   \n",
       "107    Major Cities             316   \n",
       "112    Major Cities             341   \n",
       "129    Major Cities             127   \n",
       "158    Major Cities             344   \n",
       "176    Major Cities             323   \n",
       "202    Major Cities             267   \n",
       "210    Major Cities             271   \n",
       "247    Major Cities             337   \n",
       "273    Major Cities              91   \n",
       "278  Outer Regional             516   \n",
       "286    Major Cities             276   \n",
       "292    Major Cities             289   \n",
       "301    Major Cities             249   \n",
       "306    Major Cities             410   \n",
       "314  Outer Regional              42   \n",
       "327    Major Cities             261   \n",
       "333  Outer Regional              42   \n",
       "334    Major Cities             365   \n",
       "344    Major Cities             666   \n",
       "345    Major Cities             338   \n",
       "363    Major Cities             357   \n",
       "370    Major Cities             289   \n",
       "374    Major Cities             152   \n",
       "380    Major Cities             364   \n",
       "395  Outer Regional              58   \n",
       "399    Major Cities             187   \n",
       "400    Major Cities             319   \n",
       "406    Major Cities             161   \n",
       "415    Major Cities             194   \n",
       "417  Inner Regional             153   \n",
       "418    Major Cities             717   \n",
       "423    Major Cities             555   \n",
       "428    Major Cities             297   \n",
       "456  Inner Regional             124   \n",
       "466    Major Cities             557   \n",
       "476  Inner Regional             114   \n",
       "477    Major Cities             305   \n",
       "481    Major Cities             113   \n",
       "\n",
       "    Combined Score As Percentage of Number One School In Australia Regardless of School Sector  \n",
       "65                                              87.61%                                          \n",
       "89                                              86.99%                                          \n",
       "107                                             86.47%                                          \n",
       "112                                             86.37%                                          \n",
       "129                                             85.89%                                          \n",
       "158                                             85.31%                                          \n",
       "176                                             85.08%                                          \n",
       "202                                             84.67%                                          \n",
       "210                                             84.55%                                          \n",
       "247                                             84.09%                                          \n",
       "273                                             83.81%                                          \n",
       "278                                             83.76%                                          \n",
       "286                                             83.66%                                          \n",
       "292                                             83.61%                                          \n",
       "301                                             83.50%                                          \n",
       "306                                             83.42%                                          \n",
       "314                                             83.32%                                          \n",
       "327                                             83.21%                                          \n",
       "333                                             83.16%                                          \n",
       "334                                             83.16%                                          \n",
       "344                                             83.06%                                          \n",
       "345                                             83.06%                                          \n",
       "363                                             82.87%                                          \n",
       "370                                             82.84%                                          \n",
       "374                                             82.80%                                          \n",
       "380                                             82.75%                                          \n",
       "395                                             82.54%                                          \n",
       "399                                             82.53%                                          \n",
       "400                                             82.51%                                          \n",
       "406                                             82.48%                                          \n",
       "415                                             82.34%                                          \n",
       "417                                             82.32%                                          \n",
       "418                                             82.30%                                          \n",
       "423                                             82.23%                                          \n",
       "428                                             82.15%                                          \n",
       "456                                             81.81%                                          \n",
       "466                                             81.72%                                          \n",
       "476                                             81.65%                                          \n",
       "477                                             81.65%                                          \n",
       "481                                             81.62%                                          "
      ]
     },
     "execution_count": 15,
     "metadata": {},
     "output_type": "execute_result"
    }
   ],
   "source": [
    "primaryRank_df[primaryRank_df.duplicated(['School Name'], keep=False)]"
   ]
  },
  {
   "cell_type": "markdown",
   "metadata": {},
   "source": [
    "We will drop the duplicates by keeping first occurence as the we need to keep minimum rank for repeating schools. "
   ]
  },
  {
   "cell_type": "code",
   "execution_count": 16,
   "metadata": {},
   "outputs": [],
   "source": [
    "#dropping duplicates and keeping the first entry of unique School Name\n",
    "primaryRank_df.drop_duplicates(['School Name'], keep='first', inplace=True)"
   ]
  },
  {
   "cell_type": "code",
   "execution_count": 17,
   "metadata": {},
   "outputs": [
    {
     "data": {
      "text/plain": [
       "471"
      ]
     },
     "execution_count": 17,
     "metadata": {},
     "output_type": "execute_result"
    }
   ],
   "source": [
    "len(primaryRank_df)"
   ]
  },
  {
   "cell_type": "markdown",
   "metadata": {},
   "source": [
    "# 2. Extracting Secondary Schools Data"
   ]
  },
  {
   "cell_type": "markdown",
   "metadata": {},
   "source": [
    "As the link for extracting secondary students have authentication to be handled, we could workaround the problem by authenticating manually and storing the html content in temp.html file. \n",
    "\n",
    "Then we can extract all content of this file using BeautifulSoup with html.parser "
   ]
  },
  {
   "cell_type": "code",
   "execution_count": 19,
   "metadata": {},
   "outputs": [],
   "source": [
    "#Extract html content using html.parser using BeautifulSoup\n",
    "secondary_bsobj = BeautifulSoup(open(\"external_data/school-ranks.html\"), \"html.parser\")"
   ]
  },
  {
   "cell_type": "markdown",
   "metadata": {},
   "source": [
    "After observing the html file source, we see that school name is present in the first div tag and rank is present in the second div tags within li tag. \n",
    "\n",
    "We will extract the information from li tags present between div tags with `sites-tile-name-header`using find() method of BeautifulSoup object. Then we will store ranks of the school and school names in separate lists. "
   ]
  },
  {
   "cell_type": "code",
   "execution_count": 20,
   "metadata": {},
   "outputs": [],
   "source": [
    "#Initialize empty lists\n",
    "secondary_list = []\n",
    "secondary_ranks = []\n",
    "\n",
    "#Extract secondary school names with ranks\n",
    "schools_info = secondary_bsobj.find('div', {'class':'sites-tile-name-header'}).findAll('li')\n",
    "for each_school in schools_info:\n",
    "    #store school name and rank in list\n",
    "    secondary_list.append(each_school.find('div').text)\n",
    "    secondary_ranks.append(int(each_school.findAll('div')[1].text))"
   ]
  },
  {
   "cell_type": "markdown",
   "metadata": {},
   "source": [
    "We'll create zip of all list to create a dataframe and name columns with the column names that we extracted above. "
   ]
  },
  {
   "cell_type": "code",
   "execution_count": 21,
   "metadata": {},
   "outputs": [
    {
     "data": {
      "text/html": [
       "<div>\n",
       "<style scoped>\n",
       "    .dataframe tbody tr th:only-of-type {\n",
       "        vertical-align: middle;\n",
       "    }\n",
       "\n",
       "    .dataframe tbody tr th {\n",
       "        vertical-align: top;\n",
       "    }\n",
       "\n",
       "    .dataframe thead th {\n",
       "        text-align: right;\n",
       "    }\n",
       "</style>\n",
       "<table border=\"1\" class=\"dataframe\">\n",
       "  <thead>\n",
       "    <tr style=\"text-align: right;\">\n",
       "      <th></th>\n",
       "      <th>Rank</th>\n",
       "      <th>School_Name</th>\n",
       "    </tr>\n",
       "  </thead>\n",
       "  <tbody>\n",
       "    <tr>\n",
       "      <th>0</th>\n",
       "      <td>144</td>\n",
       "      <td>Academy of Mary Immaculate</td>\n",
       "    </tr>\n",
       "    <tr>\n",
       "      <th>1</th>\n",
       "      <td>534</td>\n",
       "      <td>Adass Israel School</td>\n",
       "    </tr>\n",
       "    <tr>\n",
       "      <th>2</th>\n",
       "      <td>535</td>\n",
       "      <td>Advance College of Education</td>\n",
       "    </tr>\n",
       "    <tr>\n",
       "      <th>3</th>\n",
       "      <td>194</td>\n",
       "      <td>Aitken College</td>\n",
       "    </tr>\n",
       "    <tr>\n",
       "      <th>4</th>\n",
       "      <td>280</td>\n",
       "      <td>Al Siraat College</td>\n",
       "    </tr>\n",
       "  </tbody>\n",
       "</table>\n",
       "</div>"
      ],
      "text/plain": [
       "   Rank                   School_Name\n",
       "0   144    Academy of Mary Immaculate\n",
       "1   534           Adass Israel School\n",
       "2   535  Advance College of Education\n",
       "3   194                Aitken College\n",
       "4   280             Al Siraat College"
      ]
     },
     "execution_count": 21,
     "metadata": {},
     "output_type": "execute_result"
    }
   ],
   "source": [
    "#Create a list of zip of all lists\n",
    "zippedList = list(zip(secondary_ranks, secondary_list))\n",
    "#create a dataframe with columnnames\n",
    "secondaryRank_df = pd.DataFrame(zippedList, columns=['Rank', 'School_Name'])\n",
    "secondaryRank_df['Rank'] = secondaryRank_df.astype(int)\n",
    "secondaryRank_df.head()"
   ]
  },
  {
   "cell_type": "markdown",
   "metadata": {},
   "source": [
    "Lets investigate dataframe using describe()"
   ]
  },
  {
   "cell_type": "code",
   "execution_count": 22,
   "metadata": {},
   "outputs": [
    {
     "data": {
      "text/plain": [
       "count                           584\n",
       "unique                          567\n",
       "top       Catholic Regional College\n",
       "freq                              5\n",
       "Name: School_Name, dtype: object"
      ]
     },
     "execution_count": 22,
     "metadata": {},
     "output_type": "execute_result"
    }
   ],
   "source": [
    "secondaryRank_df['School_Name'].describe()"
   ]
  },
  {
   "cell_type": "markdown",
   "metadata": {},
   "source": [
    "We see that there are 567 unique values for school names so there are 584-567 = 17 duplicates. Lets look at which schools are duplicated."
   ]
  },
  {
   "cell_type": "code",
   "execution_count": 23,
   "metadata": {},
   "outputs": [
    {
     "data": {
      "text/html": [
       "<div>\n",
       "<style scoped>\n",
       "    .dataframe tbody tr th:only-of-type {\n",
       "        vertical-align: middle;\n",
       "    }\n",
       "\n",
       "    .dataframe tbody tr th {\n",
       "        vertical-align: top;\n",
       "    }\n",
       "\n",
       "    .dataframe thead th {\n",
       "        text-align: right;\n",
       "    }\n",
       "</style>\n",
       "<table border=\"1\" class=\"dataframe\">\n",
       "  <thead>\n",
       "    <tr style=\"text-align: right;\">\n",
       "      <th></th>\n",
       "      <th>Rank</th>\n",
       "      <th>School_Name</th>\n",
       "    </tr>\n",
       "  </thead>\n",
       "  <tbody>\n",
       "    <tr>\n",
       "      <th>39</th>\n",
       "      <td>152</td>\n",
       "      <td>Beaconhills College</td>\n",
       "    </tr>\n",
       "    <tr>\n",
       "      <th>40</th>\n",
       "      <td>186</td>\n",
       "      <td>Beaconhills College</td>\n",
       "    </tr>\n",
       "    <tr>\n",
       "      <th>92</th>\n",
       "      <td>236</td>\n",
       "      <td>Catholic Regional College</td>\n",
       "    </tr>\n",
       "    <tr>\n",
       "      <th>93</th>\n",
       "      <td>271</td>\n",
       "      <td>Catholic Regional College</td>\n",
       "    </tr>\n",
       "    <tr>\n",
       "      <th>94</th>\n",
       "      <td>541</td>\n",
       "      <td>Catholic Regional College</td>\n",
       "    </tr>\n",
       "    <tr>\n",
       "      <th>95</th>\n",
       "      <td>542</td>\n",
       "      <td>Catholic Regional College</td>\n",
       "    </tr>\n",
       "    <tr>\n",
       "      <th>96</th>\n",
       "      <td>543</td>\n",
       "      <td>Catholic Regional College</td>\n",
       "    </tr>\n",
       "    <tr>\n",
       "      <th>97</th>\n",
       "      <td>24</td>\n",
       "      <td>Caulfield Grammar School</td>\n",
       "    </tr>\n",
       "    <tr>\n",
       "      <th>98</th>\n",
       "      <td>39</td>\n",
       "      <td>Caulfield Grammar School</td>\n",
       "    </tr>\n",
       "    <tr>\n",
       "      <th>102</th>\n",
       "      <td>465</td>\n",
       "      <td>Charles La Trobe P-12 College</td>\n",
       "    </tr>\n",
       "    <tr>\n",
       "      <th>103</th>\n",
       "      <td>545</td>\n",
       "      <td>Charles La Trobe P-12 College</td>\n",
       "    </tr>\n",
       "    <tr>\n",
       "      <th>156</th>\n",
       "      <td>180</td>\n",
       "      <td>Emmanuel College</td>\n",
       "    </tr>\n",
       "    <tr>\n",
       "      <th>157</th>\n",
       "      <td>289</td>\n",
       "      <td>Emmanuel College</td>\n",
       "    </tr>\n",
       "    <tr>\n",
       "      <th>169</th>\n",
       "      <td>149</td>\n",
       "      <td>Flinders Christian Comm College</td>\n",
       "    </tr>\n",
       "    <tr>\n",
       "      <th>170</th>\n",
       "      <td>188</td>\n",
       "      <td>Flinders Christian Comm College</td>\n",
       "    </tr>\n",
       "    <tr>\n",
       "      <th>219</th>\n",
       "      <td>556</td>\n",
       "      <td>Holmesglen Institute of TAFE</td>\n",
       "    </tr>\n",
       "    <tr>\n",
       "      <th>220</th>\n",
       "      <td>557</td>\n",
       "      <td>Holmesglen Institute of TAFE</td>\n",
       "    </tr>\n",
       "    <tr>\n",
       "      <th>232</th>\n",
       "      <td>57</td>\n",
       "      <td>Ivanhoe Grammar School</td>\n",
       "    </tr>\n",
       "    <tr>\n",
       "      <th>233</th>\n",
       "      <td>72</td>\n",
       "      <td>Ivanhoe Grammar School</td>\n",
       "    </tr>\n",
       "    <tr>\n",
       "      <th>274</th>\n",
       "      <td>184</td>\n",
       "      <td>Lighthouse Christian College</td>\n",
       "    </tr>\n",
       "    <tr>\n",
       "      <th>275</th>\n",
       "      <td>222</td>\n",
       "      <td>Lighthouse Christian College</td>\n",
       "    </tr>\n",
       "    <tr>\n",
       "      <th>332</th>\n",
       "      <td>287</td>\n",
       "      <td>Minaret College</td>\n",
       "    </tr>\n",
       "    <tr>\n",
       "      <th>333</th>\n",
       "      <td>466</td>\n",
       "      <td>Minaret College</td>\n",
       "    </tr>\n",
       "    <tr>\n",
       "      <th>476</th>\n",
       "      <td>126</td>\n",
       "      <td>St Joseph's College</td>\n",
       "    </tr>\n",
       "    <tr>\n",
       "      <th>477</th>\n",
       "      <td>183</td>\n",
       "      <td>St Joseph's College</td>\n",
       "    </tr>\n",
       "    <tr>\n",
       "      <th>478</th>\n",
       "      <td>224</td>\n",
       "      <td>St Joseph's College</td>\n",
       "    </tr>\n",
       "    <tr>\n",
       "      <th>479</th>\n",
       "      <td>269</td>\n",
       "      <td>St Joseph's College</td>\n",
       "    </tr>\n",
       "    <tr>\n",
       "      <th>555</th>\n",
       "      <td>98</td>\n",
       "      <td>Wesley College</td>\n",
       "    </tr>\n",
       "    <tr>\n",
       "      <th>556</th>\n",
       "      <td>108</td>\n",
       "      <td>Wesley College</td>\n",
       "    </tr>\n",
       "  </tbody>\n",
       "</table>\n",
       "</div>"
      ],
      "text/plain": [
       "     Rank                      School_Name\n",
       "39    152              Beaconhills College\n",
       "40    186              Beaconhills College\n",
       "92    236        Catholic Regional College\n",
       "93    271        Catholic Regional College\n",
       "94    541        Catholic Regional College\n",
       "95    542        Catholic Regional College\n",
       "96    543        Catholic Regional College\n",
       "97     24         Caulfield Grammar School\n",
       "98     39         Caulfield Grammar School\n",
       "102   465    Charles La Trobe P-12 College\n",
       "103   545    Charles La Trobe P-12 College\n",
       "156   180                 Emmanuel College\n",
       "157   289                 Emmanuel College\n",
       "169   149  Flinders Christian Comm College\n",
       "170   188  Flinders Christian Comm College\n",
       "219   556     Holmesglen Institute of TAFE\n",
       "220   557     Holmesglen Institute of TAFE\n",
       "232    57           Ivanhoe Grammar School\n",
       "233    72           Ivanhoe Grammar School\n",
       "274   184     Lighthouse Christian College\n",
       "275   222     Lighthouse Christian College\n",
       "332   287                  Minaret College\n",
       "333   466                  Minaret College\n",
       "476   126              St Joseph's College\n",
       "477   183              St Joseph's College\n",
       "478   224              St Joseph's College\n",
       "479   269              St Joseph's College\n",
       "555    98                   Wesley College\n",
       "556   108                   Wesley College"
      ]
     },
     "execution_count": 23,
     "metadata": {},
     "output_type": "execute_result"
    }
   ],
   "source": [
    "secondaryRank_df[secondaryRank_df.duplicated(['School_Name'], keep=False)]"
   ]
  },
  {
   "cell_type": "code",
   "execution_count": 24,
   "metadata": {},
   "outputs": [],
   "source": [
    "#dropping duplicates and keeping the first entry of unique School Name\n",
    "secondaryRank_df.drop_duplicates(['School_Name'], keep='first', inplace=True)"
   ]
  },
  {
   "cell_type": "markdown",
   "metadata": {},
   "source": [
    "### Convert schools.xml to dataframe \n",
    "\n",
    "To find closest school to a particular property, we'll need information about schools with suburb names. This information is present in `schools.xml` file so we need to convert it into dataframe.\n",
    "\n",
    "We will use ElementTree libray for this."
   ]
  },
  {
   "cell_type": "code",
   "execution_count": 25,
   "metadata": {},
   "outputs": [],
   "source": [
    "#Parsing xml\n",
    "tree = etree.parse(\"external_data/schools.xml\")\n",
    "\n",
    "# Extracting root from the parsed document\n",
    "root = tree.getroot()\n",
    "\n",
    "# Extracting tag names from the parsed file for use as column names in the dataframe\n",
    "col_names = []\n",
    "for i in range(len(root[0])):\n",
    "    col_names.append(root[0][i].tag)\n",
    "\n",
    "# Iterating over each node in the parsed file and extracting values for each tag into a dictionary\n",
    "rows = []\n",
    "for node in root:\n",
    "    values = dict()\n",
    "    for name in col_names:\n",
    "        values[name] = node.find(name).text if node is not None else None\n",
    "    rows.append(values)\n",
    "\n",
    "# Converting list of dictionaries to dataframe\n",
    "school_df = pd.DataFrame(rows, columns = col_names)"
   ]
  },
  {
   "cell_type": "code",
   "execution_count": 26,
   "metadata": {},
   "outputs": [
    {
     "data": {
      "text/html": [
       "<div>\n",
       "<style scoped>\n",
       "    .dataframe tbody tr th:only-of-type {\n",
       "        vertical-align: middle;\n",
       "    }\n",
       "\n",
       "    .dataframe tbody tr th {\n",
       "        vertical-align: top;\n",
       "    }\n",
       "\n",
       "    .dataframe thead th {\n",
       "        text-align: right;\n",
       "    }\n",
       "</style>\n",
       "<table border=\"1\" class=\"dataframe\">\n",
       "  <thead>\n",
       "    <tr style=\"text-align: right;\">\n",
       "      <th></th>\n",
       "      <th>Education_Sector</th>\n",
       "      <th>Entity_Type</th>\n",
       "      <th>School_No</th>\n",
       "      <th>School_Name</th>\n",
       "      <th>School_Type</th>\n",
       "      <th>Address_Line_1</th>\n",
       "      <th>Address_Line_2</th>\n",
       "      <th>Address_State</th>\n",
       "      <th>Postal_Address_Line_1</th>\n",
       "      <th>Postal_Address_Line_2</th>\n",
       "      <th>Full_Phone_No</th>\n",
       "      <th>LGA_ID</th>\n",
       "      <th>LGA_Name</th>\n",
       "      <th>X</th>\n",
       "      <th>Y</th>\n",
       "    </tr>\n",
       "  </thead>\n",
       "  <tbody>\n",
       "    <tr>\n",
       "      <th>0</th>\n",
       "      <td>Government</td>\n",
       "      <td>1</td>\n",
       "      <td>1</td>\n",
       "      <td>Alberton Primary School</td>\n",
       "      <td>Primary</td>\n",
       "      <td>21 Thomson Street</td>\n",
       "      <td>None</td>\n",
       "      <td>VIC</td>\n",
       "      <td>21 Thomson Street</td>\n",
       "      <td>None</td>\n",
       "      <td>03 5183 2412</td>\n",
       "      <td>681</td>\n",
       "      <td>Wellington (S)</td>\n",
       "      <td>146.666601</td>\n",
       "      <td>-38.617713</td>\n",
       "    </tr>\n",
       "    <tr>\n",
       "      <th>1</th>\n",
       "      <td>Government</td>\n",
       "      <td>1</td>\n",
       "      <td>3</td>\n",
       "      <td>Allansford and District Primary School</td>\n",
       "      <td>Primary</td>\n",
       "      <td>Frank Street</td>\n",
       "      <td>None</td>\n",
       "      <td>VIC</td>\n",
       "      <td>Frank Street</td>\n",
       "      <td>None</td>\n",
       "      <td>03 5565 1382</td>\n",
       "      <td>673</td>\n",
       "      <td>Warrnambool (C)</td>\n",
       "      <td>142.590393</td>\n",
       "      <td>-38.386281</td>\n",
       "    </tr>\n",
       "    <tr>\n",
       "      <th>2</th>\n",
       "      <td>Government</td>\n",
       "      <td>1</td>\n",
       "      <td>4</td>\n",
       "      <td>Avoca Primary School</td>\n",
       "      <td>Primary</td>\n",
       "      <td>118 Barnett Street</td>\n",
       "      <td>None</td>\n",
       "      <td>VIC</td>\n",
       "      <td>P O Box 12</td>\n",
       "      <td>None</td>\n",
       "      <td>03 5465 3176</td>\n",
       "      <td>599</td>\n",
       "      <td>Pyrenees (S)</td>\n",
       "      <td>143.475649</td>\n",
       "      <td>-37.084502</td>\n",
       "    </tr>\n",
       "    <tr>\n",
       "      <th>3</th>\n",
       "      <td>Government</td>\n",
       "      <td>1</td>\n",
       "      <td>8</td>\n",
       "      <td>Avenel Primary School</td>\n",
       "      <td>Primary</td>\n",
       "      <td>40 Anderson Street</td>\n",
       "      <td>None</td>\n",
       "      <td>VIC</td>\n",
       "      <td>40 Anderson Street</td>\n",
       "      <td>None</td>\n",
       "      <td>03 5796 2264</td>\n",
       "      <td>643</td>\n",
       "      <td>Strathbogie (S)</td>\n",
       "      <td>145.234722</td>\n",
       "      <td>-36.901368</td>\n",
       "    </tr>\n",
       "    <tr>\n",
       "      <th>4</th>\n",
       "      <td>Government</td>\n",
       "      <td>1</td>\n",
       "      <td>12</td>\n",
       "      <td>Warrandyte Primary School</td>\n",
       "      <td>Primary</td>\n",
       "      <td>5-11 Forbes Street</td>\n",
       "      <td>None</td>\n",
       "      <td>VIC</td>\n",
       "      <td>5-11 Forbes Street</td>\n",
       "      <td>None</td>\n",
       "      <td>03 9844 3537</td>\n",
       "      <td>421</td>\n",
       "      <td>Manningham (C)</td>\n",
       "      <td>145.21398</td>\n",
       "      <td>-37.742675</td>\n",
       "    </tr>\n",
       "  </tbody>\n",
       "</table>\n",
       "</div>"
      ],
      "text/plain": [
       "  Education_Sector Entity_Type School_No  \\\n",
       "0       Government           1         1   \n",
       "1       Government           1         3   \n",
       "2       Government           1         4   \n",
       "3       Government           1         8   \n",
       "4       Government           1        12   \n",
       "\n",
       "                              School_Name School_Type      Address_Line_1  \\\n",
       "0                 Alberton Primary School     Primary   21 Thomson Street   \n",
       "1  Allansford and District Primary School     Primary        Frank Street   \n",
       "2                    Avoca Primary School     Primary  118 Barnett Street   \n",
       "3                   Avenel Primary School     Primary  40 Anderson Street   \n",
       "4               Warrandyte Primary School     Primary  5-11 Forbes Street   \n",
       "\n",
       "  Address_Line_2 Address_State Postal_Address_Line_1 Postal_Address_Line_2  \\\n",
       "0           None           VIC     21 Thomson Street                  None   \n",
       "1           None           VIC          Frank Street                  None   \n",
       "2           None           VIC            P O Box 12                  None   \n",
       "3           None           VIC    40 Anderson Street                  None   \n",
       "4           None           VIC    5-11 Forbes Street                  None   \n",
       "\n",
       "  Full_Phone_No LGA_ID         LGA_Name           X           Y  \n",
       "0  03 5183 2412    681   Wellington (S)  146.666601  -38.617713  \n",
       "1  03 5565 1382    673  Warrnambool (C)  142.590393  -38.386281  \n",
       "2  03 5465 3176    599     Pyrenees (S)  143.475649  -37.084502  \n",
       "3  03 5796 2264    643  Strathbogie (S)  145.234722  -36.901368  \n",
       "4  03 9844 3537    421   Manningham (C)   145.21398  -37.742675  "
      ]
     },
     "execution_count": 26,
     "metadata": {},
     "output_type": "execute_result"
    }
   ],
   "source": [
    "school_df.head()"
   ]
  },
  {
   "cell_type": "code",
   "execution_count": 27,
   "metadata": {},
   "outputs": [
    {
     "data": {
      "text/html": [
       "<div>\n",
       "<style scoped>\n",
       "    .dataframe tbody tr th:only-of-type {\n",
       "        vertical-align: middle;\n",
       "    }\n",
       "\n",
       "    .dataframe tbody tr th {\n",
       "        vertical-align: top;\n",
       "    }\n",
       "\n",
       "    .dataframe thead th {\n",
       "        text-align: right;\n",
       "    }\n",
       "</style>\n",
       "<table border=\"1\" class=\"dataframe\">\n",
       "  <thead>\n",
       "    <tr style=\"text-align: right;\">\n",
       "      <th></th>\n",
       "      <th>Education_Sector</th>\n",
       "      <th>Entity_Type</th>\n",
       "      <th>School_No</th>\n",
       "      <th>School_Name</th>\n",
       "      <th>School_Type</th>\n",
       "      <th>Address_Line_1</th>\n",
       "      <th>Address_Line_2</th>\n",
       "      <th>Address_State</th>\n",
       "      <th>Postal_Address_Line_1</th>\n",
       "      <th>Postal_Address_Line_2</th>\n",
       "      <th>Full_Phone_No</th>\n",
       "      <th>LGA_ID</th>\n",
       "      <th>LGA_Name</th>\n",
       "      <th>X</th>\n",
       "      <th>Y</th>\n",
       "    </tr>\n",
       "  </thead>\n",
       "  <tbody>\n",
       "    <tr>\n",
       "      <th>count</th>\n",
       "      <td>2254</td>\n",
       "      <td>2254</td>\n",
       "      <td>2254</td>\n",
       "      <td>2254</td>\n",
       "      <td>2254</td>\n",
       "      <td>2254</td>\n",
       "      <td>14</td>\n",
       "      <td>2254</td>\n",
       "      <td>2254</td>\n",
       "      <td>14</td>\n",
       "      <td>2254</td>\n",
       "      <td>2254</td>\n",
       "      <td>2254</td>\n",
       "      <td>2254</td>\n",
       "      <td>2254</td>\n",
       "    </tr>\n",
       "    <tr>\n",
       "      <th>unique</th>\n",
       "      <td>3</td>\n",
       "      <td>2</td>\n",
       "      <td>2112</td>\n",
       "      <td>2058</td>\n",
       "      <td>5</td>\n",
       "      <td>2222</td>\n",
       "      <td>13</td>\n",
       "      <td>1</td>\n",
       "      <td>2043</td>\n",
       "      <td>13</td>\n",
       "      <td>2252</td>\n",
       "      <td>80</td>\n",
       "      <td>80</td>\n",
       "      <td>2254</td>\n",
       "      <td>2254</td>\n",
       "    </tr>\n",
       "    <tr>\n",
       "      <th>top</th>\n",
       "      <td>Government</td>\n",
       "      <td>1</td>\n",
       "      <td>1642</td>\n",
       "      <td>St Mary's School</td>\n",
       "      <td>Primary</td>\n",
       "      <td>Church Street</td>\n",
       "      <td>Punt Road Oval</td>\n",
       "      <td>VIC</td>\n",
       "      <td>P O Box 42</td>\n",
       "      <td>Werribee Plaza</td>\n",
       "      <td>03 9213 2222</td>\n",
       "      <td>275</td>\n",
       "      <td>Greater Geelong (C)</td>\n",
       "      <td>145.147724</td>\n",
       "      <td>-38.132857</td>\n",
       "    </tr>\n",
       "    <tr>\n",
       "      <th>freq</th>\n",
       "      <td>1539</td>\n",
       "      <td>1539</td>\n",
       "      <td>2</td>\n",
       "      <td>36</td>\n",
       "      <td>1556</td>\n",
       "      <td>5</td>\n",
       "      <td>2</td>\n",
       "      <td>2254</td>\n",
       "      <td>9</td>\n",
       "      <td>2</td>\n",
       "      <td>2</td>\n",
       "      <td>83</td>\n",
       "      <td>83</td>\n",
       "      <td>1</td>\n",
       "      <td>1</td>\n",
       "    </tr>\n",
       "  </tbody>\n",
       "</table>\n",
       "</div>"
      ],
      "text/plain": [
       "       Education_Sector Entity_Type School_No       School_Name School_Type  \\\n",
       "count              2254        2254      2254              2254        2254   \n",
       "unique                3           2      2112              2058           5   \n",
       "top          Government           1      1642  St Mary's School     Primary   \n",
       "freq               1539        1539         2                36        1556   \n",
       "\n",
       "       Address_Line_1  Address_Line_2 Address_State Postal_Address_Line_1  \\\n",
       "count            2254              14          2254                  2254   \n",
       "unique           2222              13             1                  2043   \n",
       "top     Church Street  Punt Road Oval           VIC            P O Box 42   \n",
       "freq                5               2          2254                     9   \n",
       "\n",
       "       Postal_Address_Line_2 Full_Phone_No LGA_ID             LGA_Name  \\\n",
       "count                     14          2254   2254                 2254   \n",
       "unique                    13          2252     80                   80   \n",
       "top           Werribee Plaza  03 9213 2222    275  Greater Geelong (C)   \n",
       "freq                       2             2     83                   83   \n",
       "\n",
       "                 X           Y  \n",
       "count         2254        2254  \n",
       "unique        2254        2254  \n",
       "top     145.147724  -38.132857  \n",
       "freq             1           1  "
      ]
     },
     "execution_count": 27,
     "metadata": {},
     "output_type": "execute_result"
    }
   ],
   "source": [
    "school_df.describe()"
   ]
  },
  {
   "cell_type": "markdown",
   "metadata": {},
   "source": [
    "We will need to separate primary schools from secondary schools so that it becomes easy to merge dataframes for these school types.\n",
    "\n",
    "Lets see school_type column."
   ]
  },
  {
   "cell_type": "code",
   "execution_count": 28,
   "metadata": {},
   "outputs": [
    {
     "data": {
      "text/plain": [
       "Primary      1556\n",
       "Secondary     343\n",
       "Pri/Sec       243\n",
       "Special       108\n",
       "Language        4\n",
       "Name: School_Type, dtype: int64"
      ]
     },
     "execution_count": 28,
     "metadata": {},
     "output_type": "execute_result"
    }
   ],
   "source": [
    "school_df['School_Type'].value_counts()"
   ]
  },
  {
   "cell_type": "markdown",
   "metadata": {},
   "source": [
    "We need to divide the dataframe into primary and secondary schools and schools with School_Type = 'Pri/Sec' should be included in both of these dataframes."
   ]
  },
  {
   "cell_type": "code",
   "execution_count": 29,
   "metadata": {},
   "outputs": [
    {
     "data": {
      "text/plain": [
       "1799"
      ]
     },
     "execution_count": 29,
     "metadata": {},
     "output_type": "execute_result"
    }
   ],
   "source": [
    "#dataframe containing primary schools\n",
    "pschool_df = school_df[school_df['School_Type'].isin(['Primary','Pri/Sec'])]\n",
    "len(pschool_df)"
   ]
  },
  {
   "cell_type": "code",
   "execution_count": 32,
   "metadata": {},
   "outputs": [
    {
     "data": {
      "text/plain": [
       "586"
      ]
     },
     "execution_count": 32,
     "metadata": {},
     "output_type": "execute_result"
    }
   ],
   "source": [
    "#dataframe containing secondary schools\n",
    "sschool_df = school_df[school_df['School_Type'].isin(['Secondary','Pri/Sec'])]\n",
    "len(sschool_df)"
   ]
  },
  {
   "cell_type": "markdown",
   "metadata": {},
   "source": [
    "We need to see if there is no mismatch between school namees in the rankings dataframe and the dataframe that we got from the xml file."
   ]
  },
  {
   "cell_type": "markdown",
   "metadata": {},
   "source": [
    "We can use the sequence matcher to check similarity ratio and through observation we can take decision about any change needs to be made"
   ]
  },
  {
   "cell_type": "code",
   "execution_count": 33,
   "metadata": {},
   "outputs": [],
   "source": [
    "#Converting all schools in list\n",
    "primary_schools = pschool_df['School_Name'].tolist()\n",
    "secondary_schools = sschool_df['School_Name'].tolist()"
   ]
  },
  {
   "cell_type": "markdown",
   "metadata": {},
   "source": [
    "We will extract schools having maximum similarity ratio with schools from school.xml. We will do this for primary and secondary schoools. Then we will observe the difference in the output and take actions accordingly."
   ]
  },
  {
   "cell_type": "code",
   "execution_count": 34,
   "metadata": {},
   "outputs": [],
   "source": [
    "#get schools with maximum sequence match in school name.\n",
    "def primary_seq_match(x):    \n",
    "    max_ratio = 0\n",
    "    matching_school = ''\n",
    "    #get maximum value of max_ratio\n",
    "    for i in primary_schools:\n",
    "        #match sequence of two schools\n",
    "        seq=difflib.SequenceMatcher(None, x,i)\n",
    "        if seq.ratio() > max_ratio:\n",
    "            max_ratio = seq.ratio()\n",
    "            matching_school = i\n",
    "    return (max_ratio, matching_school)"
   ]
  },
  {
   "cell_type": "markdown",
   "metadata": {},
   "source": [
    "We will see schools with maximum but not exact match."
   ]
  },
  {
   "cell_type": "code",
   "execution_count": 38,
   "metadata": {},
   "outputs": [
    {
     "name": "stdout",
     "output_type": "stream",
     "text": [
      "Nunawading Christian College - Primary (0.972972972972973, 'Nunawading Christian College-Primary')\n",
      "Mckinnon Primary School (0.9565217391304348, 'McKinnon Primary School')\n",
      "Pleasant Street Primary School ( Ballarat) (0.9879518072289156, 'Pleasant Street Primary School (Ballarat)')\n"
     ]
    }
   ],
   "source": [
    "#print schools with more than 95% and less than 100% match\n",
    "for i in primaryRank_df.index:\n",
    "    p_school = primary_seq_match(primaryRank_df.loc[i,'School Name'])\n",
    "    if p_school[0] > 0.95 and p_school[0] < 1:\n",
    "        print(primaryRank_df.loc[i,'School Name'], p_school)"
   ]
  },
  {
   "cell_type": "markdown",
   "metadata": {},
   "source": [
    "We can see that there are quite a few schools whose name does not match exactly to the school names from xml.\n",
    "After observing we can see that there are spelling mistakes, non uniform spacing, in schools' names."
   ]
  },
  {
   "cell_type": "markdown",
   "metadata": {},
   "source": [
    "We will replace these values with correct primary school names."
   ]
  },
  {
   "cell_type": "code",
   "execution_count": 39,
   "metadata": {},
   "outputs": [],
   "source": [
    "#replacing schools having ranks with correct school names\n",
    "for i in primaryRank_df.index:\n",
    "    p_school = primary_seq_match(primaryRank_df.loc[i,'School Name'])\n",
    "    if p_school[0] > 0.95 and p_school[0] < 1:\n",
    "        primaryRank_df.loc[i,'School Name'] = p_school[1]"
   ]
  },
  {
   "cell_type": "markdown",
   "metadata": {},
   "source": [
    "#### For secondary schools"
   ]
  },
  {
   "cell_type": "code",
   "execution_count": 40,
   "metadata": {},
   "outputs": [],
   "source": [
    "#get schools with maximum sequence match in school name.\n",
    "def secondary_seq_match(x):    \n",
    "    max_ratio = 0\n",
    "    matching_school = ''\n",
    "    for i in secondary_schools:\n",
    "        #match sequence of two schools\n",
    "        seq=difflib.SequenceMatcher(None, x,i)\n",
    "        if seq.ratio() > max_ratio:\n",
    "            max_ratio = seq.ratio()\n",
    "            matching_school = i\n",
    "    return (max_ratio, matching_school)"
   ]
  },
  {
   "cell_type": "markdown",
   "metadata": {},
   "source": [
    "observe schools with  maximum but not exact match."
   ]
  },
  {
   "cell_type": "code",
   "execution_count": 41,
   "metadata": {},
   "outputs": [
    {
     "name": "stdout",
     "output_type": "stream",
     "text": [
      "Belgrave Heights Christian Schl (0.96875, 'Belgrave Heights Christian School')\n",
      "Caroline Chisholm Catholic Coll (0.9538461538461539, 'Caroline Chisholm Catholic College')\n",
      "Derrinallum P12 College (0.9787234042553191, 'Derrinallum P-12 College')\n",
      "Fintona Girls School (0.975609756097561, \"Fintona Girls' School\")\n",
      "Goulburn Valley Grammar Schl (0.9655172413793104, 'Goulburn Valley Grammar School')\n",
      "Kings College (0.9629629629629629, \"King's College\")\n",
      "Lauriston Girls School (0.9777777777777777, \"Lauriston Girls' School\")\n",
      "Melbourne Girls' College (0.9787234042553191, 'Melbourne Girls College')\n",
      "Melbourne Rudolf Steiner Schl (0.9666666666666667, 'Melbourne Rudolf Steiner School')\n",
      "Methodist Ladies College (0.9795918367346939, \"Methodist Ladies' College\")\n",
      "Narre Warren Sth P-12 College (0.9666666666666667, 'Narre Warren South P-12 College')\n",
      "St Paul's Anglican Grammar Schl (0.96875, \"St Paul's Anglican Grammar School\")\n",
      "Stott's College (0.967741935483871, \"Stott's Colleges\")\n"
     ]
    }
   ],
   "source": [
    "for i in secondaryRank_df.index:\n",
    "    s_school = secondary_seq_match(secondaryRank_df.loc[i,'School_Name'])\n",
    "    if s_school[0] > 0.95 and s_school[0] < 1:\n",
    "        print(secondaryRank_df.loc[i,'School_Name'], s_school)"
   ]
  },
  {
   "cell_type": "markdown",
   "metadata": {},
   "source": [
    "We see that schools with ranking list has discrepancies like sort names for 'school' and 'college', non uniform space, special characters. We need to fix that.\n",
    "\n",
    "We will replace these incorrect values with correct values."
   ]
  },
  {
   "cell_type": "code",
   "execution_count": 42,
   "metadata": {},
   "outputs": [],
   "source": [
    "for i in secondaryRank_df.index:\n",
    "    s_school = secondary_seq_match(secondaryRank_df.loc[i,'School_Name'])\n",
    "    if s_school[0] > 0.95 and s_school[0] < 1:\n",
    "        secondaryRank_df.loc[i,'School_Name'] = s_school[1]"
   ]
  },
  {
   "cell_type": "markdown",
   "metadata": {},
   "source": [
    "### Merging secondary schools and secondaryRanking dataframes."
   ]
  },
  {
   "cell_type": "markdown",
   "metadata": {},
   "source": [
    "We will merge secondary schools with secondaryRanking to get lattitude longitude with Rank in single dataframe. We will use left join as there can be schools without Ranks."
   ]
  },
  {
   "cell_type": "code",
   "execution_count": 43,
   "metadata": {},
   "outputs": [
    {
     "data": {
      "text/html": [
       "<div>\n",
       "<style scoped>\n",
       "    .dataframe tbody tr th:only-of-type {\n",
       "        vertical-align: middle;\n",
       "    }\n",
       "\n",
       "    .dataframe tbody tr th {\n",
       "        vertical-align: top;\n",
       "    }\n",
       "\n",
       "    .dataframe thead th {\n",
       "        text-align: right;\n",
       "    }\n",
       "</style>\n",
       "<table border=\"1\" class=\"dataframe\">\n",
       "  <thead>\n",
       "    <tr style=\"text-align: right;\">\n",
       "      <th></th>\n",
       "      <th>School_Name</th>\n",
       "      <th>X</th>\n",
       "      <th>Y</th>\n",
       "      <th>Rank</th>\n",
       "    </tr>\n",
       "  </thead>\n",
       "  <tbody>\n",
       "    <tr>\n",
       "      <th>0</th>\n",
       "      <td>Bright P-12 College</td>\n",
       "      <td>146.960928</td>\n",
       "      <td>-36.733105</td>\n",
       "      <td>203.0</td>\n",
       "    </tr>\n",
       "    <tr>\n",
       "      <th>1</th>\n",
       "      <td>Lake Bolac College</td>\n",
       "      <td>142.837903</td>\n",
       "      <td>-37.720241</td>\n",
       "      <td>NaN</td>\n",
       "    </tr>\n",
       "    <tr>\n",
       "      <th>2</th>\n",
       "      <td>Bannockburn P-12 College</td>\n",
       "      <td>144.160668</td>\n",
       "      <td>-38.042004</td>\n",
       "      <td>NaN</td>\n",
       "    </tr>\n",
       "    <tr>\n",
       "      <th>3</th>\n",
       "      <td>Murtoa College</td>\n",
       "      <td>142.475745</td>\n",
       "      <td>-36.623495</td>\n",
       "      <td>NaN</td>\n",
       "    </tr>\n",
       "    <tr>\n",
       "      <th>4</th>\n",
       "      <td>Pyramid Hill College</td>\n",
       "      <td>144.113679</td>\n",
       "      <td>-36.04736</td>\n",
       "      <td>NaN</td>\n",
       "    </tr>\n",
       "  </tbody>\n",
       "</table>\n",
       "</div>"
      ],
      "text/plain": [
       "                School_Name           X           Y   Rank\n",
       "0       Bright P-12 College  146.960928  -36.733105  203.0\n",
       "1        Lake Bolac College  142.837903  -37.720241    NaN\n",
       "2  Bannockburn P-12 College  144.160668  -38.042004    NaN\n",
       "3            Murtoa College  142.475745  -36.623495    NaN\n",
       "4      Pyramid Hill College  144.113679   -36.04736    NaN"
      ]
     },
     "execution_count": 43,
     "metadata": {},
     "output_type": "execute_result"
    }
   ],
   "source": [
    "#left join dataframe on School_name\n",
    "secondaryRank_df = pd.merge(sschool_df[['School_Name', 'X', 'Y']], secondaryRank_df, on='School_Name', how='left')\n",
    "secondaryRank_df.head()"
   ]
  },
  {
   "cell_type": "code",
   "execution_count": 44,
   "metadata": {},
   "outputs": [
    {
     "name": "stdout",
     "output_type": "stream",
     "text": [
      "<class 'pandas.core.frame.DataFrame'>\n",
      "Int64Index: 586 entries, 0 to 585\n",
      "Data columns (total 4 columns):\n",
      "School_Name    586 non-null object\n",
      "X              586 non-null object\n",
      "Y              586 non-null object\n",
      "Rank           403 non-null float64\n",
      "dtypes: float64(1), object(3)\n",
      "memory usage: 22.9+ KB\n"
     ]
    }
   ],
   "source": [
    "secondaryRank_df.info()"
   ]
  },
  {
   "cell_type": "markdown",
   "metadata": {},
   "source": [
    "We need to convert data type of X and Ycolumns to numerics as they will create problems further while calculating distance between two lat longs."
   ]
  },
  {
   "cell_type": "code",
   "execution_count": 45,
   "metadata": {},
   "outputs": [],
   "source": [
    "#Convert X, Y columns to numeric\n",
    "secondaryRank_df[[\"X\", \"Y\"]] = secondaryRank_df[[\"X\", \"Y\"]].apply(pd.to_numeric)"
   ]
  },
  {
   "cell_type": "markdown",
   "metadata": {},
   "source": [
    "### Merging primary schools and primaryRanking Dataframes.\n",
    "\n",
    "We will merge primary schools with primaryRanking to get lattitude longitude with Rank in single dataframe. We will use left join as there can be schools in pschools_df without Ranks."
   ]
  },
  {
   "cell_type": "code",
   "execution_count": 46,
   "metadata": {},
   "outputs": [
    {
     "data": {
      "text/html": [
       "<div>\n",
       "<style scoped>\n",
       "    .dataframe tbody tr th:only-of-type {\n",
       "        vertical-align: middle;\n",
       "    }\n",
       "\n",
       "    .dataframe tbody tr th {\n",
       "        vertical-align: top;\n",
       "    }\n",
       "\n",
       "    .dataframe thead th {\n",
       "        text-align: right;\n",
       "    }\n",
       "</style>\n",
       "<table border=\"1\" class=\"dataframe\">\n",
       "  <thead>\n",
       "    <tr style=\"text-align: right;\">\n",
       "      <th></th>\n",
       "      <th>School_Name</th>\n",
       "      <th>X</th>\n",
       "      <th>Y</th>\n",
       "      <th>Ranking</th>\n",
       "      <th>School Name</th>\n",
       "    </tr>\n",
       "  </thead>\n",
       "  <tbody>\n",
       "    <tr>\n",
       "      <th>0</th>\n",
       "      <td>Alberton Primary School</td>\n",
       "      <td>146.666601</td>\n",
       "      <td>-38.617713</td>\n",
       "      <td>NaN</td>\n",
       "      <td>NaN</td>\n",
       "    </tr>\n",
       "    <tr>\n",
       "      <th>1</th>\n",
       "      <td>Allansford and District Primary School</td>\n",
       "      <td>142.590393</td>\n",
       "      <td>-38.386281</td>\n",
       "      <td>NaN</td>\n",
       "      <td>NaN</td>\n",
       "    </tr>\n",
       "    <tr>\n",
       "      <th>2</th>\n",
       "      <td>Avoca Primary School</td>\n",
       "      <td>143.475649</td>\n",
       "      <td>-37.084502</td>\n",
       "      <td>NaN</td>\n",
       "      <td>NaN</td>\n",
       "    </tr>\n",
       "    <tr>\n",
       "      <th>3</th>\n",
       "      <td>Avenel Primary School</td>\n",
       "      <td>145.234722</td>\n",
       "      <td>-36.901368</td>\n",
       "      <td>435</td>\n",
       "      <td>Avenel Primary School</td>\n",
       "    </tr>\n",
       "    <tr>\n",
       "      <th>4</th>\n",
       "      <td>Warrandyte Primary School</td>\n",
       "      <td>145.21398</td>\n",
       "      <td>-37.742675</td>\n",
       "      <td>257</td>\n",
       "      <td>Warrandyte Primary School</td>\n",
       "    </tr>\n",
       "  </tbody>\n",
       "</table>\n",
       "</div>"
      ],
      "text/plain": [
       "                              School_Name           X           Y Ranking  \\\n",
       "0                 Alberton Primary School  146.666601  -38.617713     NaN   \n",
       "1  Allansford and District Primary School  142.590393  -38.386281     NaN   \n",
       "2                    Avoca Primary School  143.475649  -37.084502     NaN   \n",
       "3                   Avenel Primary School  145.234722  -36.901368     435   \n",
       "4               Warrandyte Primary School   145.21398  -37.742675     257   \n",
       "\n",
       "                 School Name  \n",
       "0                        NaN  \n",
       "1                        NaN  \n",
       "2                        NaN  \n",
       "3      Avenel Primary School  \n",
       "4  Warrandyte Primary School  "
      ]
     },
     "execution_count": 46,
     "metadata": {},
     "output_type": "execute_result"
    }
   ],
   "source": [
    "primaryRank_df = pd.merge(pschool_df[['School_Name', 'X', 'Y']], primaryRank_df[['Ranking', 'School Name']], left_on='School_Name', right_on='School Name', how='left')\n",
    "primaryRank_df.head()"
   ]
  },
  {
   "cell_type": "code",
   "execution_count": 47,
   "metadata": {},
   "outputs": [
    {
     "data": {
      "text/html": [
       "<div>\n",
       "<style scoped>\n",
       "    .dataframe tbody tr th:only-of-type {\n",
       "        vertical-align: middle;\n",
       "    }\n",
       "\n",
       "    .dataframe tbody tr th {\n",
       "        vertical-align: top;\n",
       "    }\n",
       "\n",
       "    .dataframe thead th {\n",
       "        text-align: right;\n",
       "    }\n",
       "</style>\n",
       "<table border=\"1\" class=\"dataframe\">\n",
       "  <thead>\n",
       "    <tr style=\"text-align: right;\">\n",
       "      <th></th>\n",
       "      <th>School_Name</th>\n",
       "      <th>X</th>\n",
       "      <th>Y</th>\n",
       "      <th>Ranking</th>\n",
       "    </tr>\n",
       "  </thead>\n",
       "  <tbody>\n",
       "    <tr>\n",
       "      <th>0</th>\n",
       "      <td>Alberton Primary School</td>\n",
       "      <td>146.666601</td>\n",
       "      <td>-38.617713</td>\n",
       "      <td>NaN</td>\n",
       "    </tr>\n",
       "    <tr>\n",
       "      <th>1</th>\n",
       "      <td>Allansford and District Primary School</td>\n",
       "      <td>142.590393</td>\n",
       "      <td>-38.386281</td>\n",
       "      <td>NaN</td>\n",
       "    </tr>\n",
       "    <tr>\n",
       "      <th>2</th>\n",
       "      <td>Avoca Primary School</td>\n",
       "      <td>143.475649</td>\n",
       "      <td>-37.084502</td>\n",
       "      <td>NaN</td>\n",
       "    </tr>\n",
       "    <tr>\n",
       "      <th>3</th>\n",
       "      <td>Avenel Primary School</td>\n",
       "      <td>145.234722</td>\n",
       "      <td>-36.901368</td>\n",
       "      <td>435</td>\n",
       "    </tr>\n",
       "    <tr>\n",
       "      <th>4</th>\n",
       "      <td>Warrandyte Primary School</td>\n",
       "      <td>145.21398</td>\n",
       "      <td>-37.742675</td>\n",
       "      <td>257</td>\n",
       "    </tr>\n",
       "  </tbody>\n",
       "</table>\n",
       "</div>"
      ],
      "text/plain": [
       "                              School_Name           X           Y Ranking\n",
       "0                 Alberton Primary School  146.666601  -38.617713     NaN\n",
       "1  Allansford and District Primary School  142.590393  -38.386281     NaN\n",
       "2                    Avoca Primary School  143.475649  -37.084502     NaN\n",
       "3                   Avenel Primary School  145.234722  -36.901368     435\n",
       "4               Warrandyte Primary School   145.21398  -37.742675     257"
      ]
     },
     "execution_count": 47,
     "metadata": {},
     "output_type": "execute_result"
    }
   ],
   "source": [
    "#Drop duplicate column School Name\n",
    "primaryRank_df.drop('School Name', axis=1, inplace=True)\n",
    "primaryRank_df.head()"
   ]
  },
  {
   "cell_type": "code",
   "execution_count": 48,
   "metadata": {},
   "outputs": [
    {
     "name": "stdout",
     "output_type": "stream",
     "text": [
      "<class 'pandas.core.frame.DataFrame'>\n",
      "Int64Index: 1799 entries, 0 to 1798\n",
      "Data columns (total 4 columns):\n",
      "School_Name    1799 non-null object\n",
      "X              1799 non-null object\n",
      "Y              1799 non-null object\n",
      "Ranking        627 non-null object\n",
      "dtypes: object(4)\n",
      "memory usage: 70.3+ KB\n"
     ]
    }
   ],
   "source": [
    "primaryRank_df.info()"
   ]
  },
  {
   "cell_type": "markdown",
   "metadata": {},
   "source": [
    "We need to convert data type of X and Ycolumns to numerics as they will create problems further while calculating distance between two lat longs."
   ]
  },
  {
   "cell_type": "code",
   "execution_count": 49,
   "metadata": {},
   "outputs": [],
   "source": [
    "#Convert X, Y columns to numeric\n",
    "primaryRank_df[[\"X\", \"Y\"]] = primaryRank_df[[\"X\", \"Y\"]].apply(pd.to_numeric)"
   ]
  },
  {
   "cell_type": "markdown",
   "metadata": {},
   "source": [
    "# 3. Finding Distance (in km) between house, and primary and secondary school\n",
    "\n",
    "We will find the closest primary school to each property and caculate the closest distance. For finding the distance, we will calculate the Haversine distance as we need the distance between two (lat, long) points.\n",
    "\n",
    "We will perform same steps for finding closest secondary schools."
   ]
  },
  {
   "cell_type": "code",
   "execution_count": 50,
   "metadata": {},
   "outputs": [],
   "source": [
    "#Intialize the distance to 0\n",
    "primaryRank_df['Distance'] = 0\n",
    "secondaryRank_df['Distance'] = 0"
   ]
  },
  {
   "cell_type": "code",
   "execution_count": 51,
   "metadata": {},
   "outputs": [],
   "source": [
    "# approximate radius of earth in km\n",
    "R = 6378.0\n",
    "\n",
    "\n",
    "def closest_Primarydistance(x):\n",
    "    '''\n",
    "    x : list of [latitude, longitude] of property\n",
    "    return:\n",
    "        closest_pschool: closest primary school, its distance to property, and ranking\n",
    "    '''\n",
    "    \n",
    "    #converting lat, long to radians\n",
    "    lat1 = radians(x[0])\n",
    "    lon1 = radians(x[1])\n",
    "    lat2 = primaryRank_df['Y'].apply(radians)\n",
    "    lon2 = primaryRank_df['X'].apply(radians)\n",
    "\n",
    "    dlon = lon2 - lon1\n",
    "    dlat = lat2 - lat1\n",
    "\n",
    "    a = np.sin(dlat / 2)**2 + np.cos(lat1) * np.cos(lat2) * np.sin(dlon / 2)**2\n",
    "    c = 2 * np.arctan2(np.sqrt(a), np.sqrt(1 - a))\n",
    "    \n",
    "    #Distance to primary school in km\n",
    "    primaryRank_df['Distance'] = R * c\n",
    "    \n",
    "    closest_pschool = primaryRank_df.loc[primaryRank_df['Distance'].idxmin(),['School_Name','Distance', 'Ranking'] ]\n",
    "\n",
    "    return closest_pschool"
   ]
  },
  {
   "cell_type": "code",
   "execution_count": 52,
   "metadata": {},
   "outputs": [
    {
     "data": {
      "text/html": [
       "<div>\n",
       "<style scoped>\n",
       "    .dataframe tbody tr th:only-of-type {\n",
       "        vertical-align: middle;\n",
       "    }\n",
       "\n",
       "    .dataframe tbody tr th {\n",
       "        vertical-align: top;\n",
       "    }\n",
       "\n",
       "    .dataframe thead th {\n",
       "        text-align: right;\n",
       "    }\n",
       "</style>\n",
       "<table border=\"1\" class=\"dataframe\">\n",
       "  <thead>\n",
       "    <tr style=\"text-align: right;\">\n",
       "      <th></th>\n",
       "      <th>School_Name</th>\n",
       "      <th>Distance</th>\n",
       "      <th>Ranking</th>\n",
       "    </tr>\n",
       "  </thead>\n",
       "  <tbody>\n",
       "    <tr>\n",
       "      <th>0</th>\n",
       "      <td>Holy Name School</td>\n",
       "      <td>1.055208</td>\n",
       "      <td>463</td>\n",
       "    </tr>\n",
       "    <tr>\n",
       "      <th>1</th>\n",
       "      <td>Canterbury Primary School</td>\n",
       "      <td>0.221939</td>\n",
       "      <td>43</td>\n",
       "    </tr>\n",
       "    <tr>\n",
       "      <th>2</th>\n",
       "      <td>Sacred Heart School</td>\n",
       "      <td>0.281517</td>\n",
       "      <td>66</td>\n",
       "    </tr>\n",
       "    <tr>\n",
       "      <th>3</th>\n",
       "      <td>St Theresa's School</td>\n",
       "      <td>0.170962</td>\n",
       "      <td>393</td>\n",
       "    </tr>\n",
       "    <tr>\n",
       "      <th>4</th>\n",
       "      <td>Bayside P-12 College</td>\n",
       "      <td>1.013598</td>\n",
       "      <td>not ranked</td>\n",
       "    </tr>\n",
       "  </tbody>\n",
       "</table>\n",
       "</div>"
      ],
      "text/plain": [
       "                 School_Name  Distance     Ranking\n",
       "0           Holy Name School  1.055208         463\n",
       "1  Canterbury Primary School  0.221939          43\n",
       "2        Sacred Heart School  0.281517          66\n",
       "3        St Theresa's School  0.170962         393\n",
       "4       Bayside P-12 College  1.013598  not ranked"
      ]
     },
     "execution_count": 52,
     "metadata": {},
     "output_type": "execute_result"
    }
   ],
   "source": [
    "#Store School_Name,Distance,Ranking in p_schools\n",
    "p_schools = house_df[['Lattitude', 'Longtitude']].apply(\n",
    "    lambda x: closest_Primarydistance(x), axis=1).fillna('not ranked', downcast='infer')\n",
    "\n",
    "p_schools.head()"
   ]
  },
  {
   "cell_type": "markdown",
   "metadata": {},
   "source": [
    "We will rename columns as per specification"
   ]
  },
  {
   "cell_type": "code",
   "execution_count": 53,
   "metadata": {},
   "outputs": [],
   "source": [
    "p_schools.columns = ['closest_primary_school', 'distance_to_closest_primary', 'primary_school_ranking']"
   ]
  },
  {
   "cell_type": "code",
   "execution_count": 54,
   "metadata": {},
   "outputs": [],
   "source": [
    "#Concatenate this dataframe on axis1 to original dataframe\n",
    "house_df = pd.concat([house_df, p_schools], axis=1)"
   ]
  },
  {
   "cell_type": "code",
   "execution_count": 55,
   "metadata": {},
   "outputs": [],
   "source": [
    "from math import sin, cos, sqrt,radians\n",
    "\n",
    "# approximate radius of earth in km\n",
    "R = 6378.0\n",
    "\n",
    "def closest_Secondarydistance(x):\n",
    "    '''\n",
    "    x : list of [latitude, longitude] of property\n",
    "    return:\n",
    "        closest_pschool: closest secondary school, its distance to property, and ranking\n",
    "    '''\n",
    "    \n",
    "    #converting lat, long to radians\n",
    "    lat1 = radians(x[0])\n",
    "    lon1 = radians(x[1])\n",
    "    lat2 = secondaryRank_df['Y'].apply(radians)\n",
    "    lon2 = secondaryRank_df['X'].apply(radians)\n",
    "\n",
    "    dlon = lon2 - lon1\n",
    "    dlat = lat2 - lat1\n",
    "\n",
    "    a = np.sin(dlat / 2)**2 + np.cos(lat1) * np.cos(lat2) * np.sin(dlon / 2)**2\n",
    "    c = 2 * np.arctan2(np.sqrt(a), np.sqrt(1 - a))\n",
    "\n",
    "    #Distance to secondary school in km\n",
    "    secondaryRank_df['Distance'] = R * c\n",
    "    \n",
    "    closest_sschool = secondaryRank_df.loc[secondaryRank_df['Distance'].idxmin(),['School_Name','Distance', 'Rank'] ]\n",
    "\n",
    "    return closest_sschool"
   ]
  },
  {
   "cell_type": "code",
   "execution_count": 56,
   "metadata": {},
   "outputs": [
    {
     "data": {
      "text/html": [
       "<div>\n",
       "<style scoped>\n",
       "    .dataframe tbody tr th:only-of-type {\n",
       "        vertical-align: middle;\n",
       "    }\n",
       "\n",
       "    .dataframe tbody tr th {\n",
       "        vertical-align: top;\n",
       "    }\n",
       "\n",
       "    .dataframe thead th {\n",
       "        text-align: right;\n",
       "    }\n",
       "</style>\n",
       "<table border=\"1\" class=\"dataframe\">\n",
       "  <thead>\n",
       "    <tr style=\"text-align: right;\">\n",
       "      <th></th>\n",
       "      <th>School_Name</th>\n",
       "      <th>Distance</th>\n",
       "      <th>Rank</th>\n",
       "    </tr>\n",
       "  </thead>\n",
       "  <tbody>\n",
       "    <tr>\n",
       "      <th>0</th>\n",
       "      <td>Preston High School</td>\n",
       "      <td>0.821495</td>\n",
       "      <td>not ranked</td>\n",
       "    </tr>\n",
       "    <tr>\n",
       "      <th>1</th>\n",
       "      <td>Siena College Ltd</td>\n",
       "      <td>0.302698</td>\n",
       "      <td>not ranked</td>\n",
       "    </tr>\n",
       "    <tr>\n",
       "      <th>2</th>\n",
       "      <td>Bayside P-12 College</td>\n",
       "      <td>1.806498</td>\n",
       "      <td>243</td>\n",
       "    </tr>\n",
       "    <tr>\n",
       "      <th>3</th>\n",
       "      <td>Sunshine College</td>\n",
       "      <td>1.073238</td>\n",
       "      <td>233</td>\n",
       "    </tr>\n",
       "    <tr>\n",
       "      <th>4</th>\n",
       "      <td>Bayside P-12 College</td>\n",
       "      <td>1.013598</td>\n",
       "      <td>243</td>\n",
       "    </tr>\n",
       "  </tbody>\n",
       "</table>\n",
       "</div>"
      ],
      "text/plain": [
       "            School_Name  Distance        Rank\n",
       "0   Preston High School  0.821495  not ranked\n",
       "1     Siena College Ltd  0.302698  not ranked\n",
       "2  Bayside P-12 College  1.806498         243\n",
       "3      Sunshine College  1.073238         233\n",
       "4  Bayside P-12 College  1.013598         243"
      ]
     },
     "execution_count": 56,
     "metadata": {},
     "output_type": "execute_result"
    }
   ],
   "source": [
    "#Store School_Name,Distance,Ranking in s_schools\n",
    "s_schools = house_df[['Lattitude', 'Longtitude']].apply(lambda x: closest_Secondarydistance(x), axis=1).fillna('not ranked', downcast='infer')\n",
    "s_schools.head()"
   ]
  },
  {
   "cell_type": "markdown",
   "metadata": {},
   "source": [
    "Rename columns as per specification and concatenate it to original dataframe."
   ]
  },
  {
   "cell_type": "code",
   "execution_count": 57,
   "metadata": {},
   "outputs": [],
   "source": [
    "s_schools.columns = ['closest_secondary_school', 'distance_to_closest_secondary', 'secondary_school_ranking']\n",
    "house_df = pd.concat([house_df, s_schools], axis=1)"
   ]
  },
  {
   "cell_type": "code",
   "execution_count": 59,
   "metadata": {},
   "outputs": [
    {
     "name": "stdout",
     "output_type": "stream",
     "text": [
      "<class 'pandas.core.frame.DataFrame'>\n",
      "Int64Index: 688 entries, 0 to 699\n",
      "Data columns (total 18 columns):\n",
      "ID                               688 non-null object\n",
      "Address                          688 non-null object\n",
      "Rooms                            688 non-null int64\n",
      "Type                             688 non-null object\n",
      "Price                            688 non-null float64\n",
      "Date                             688 non-null object\n",
      "Bathroom                         688 non-null float64\n",
      "Car                              688 non-null float64\n",
      "Landsize                         688 non-null float64\n",
      "Age                              688 non-null float64\n",
      "Lattitude                        688 non-null float64\n",
      "Longtitude                       688 non-null float64\n",
      "closest_primary_school           688 non-null object\n",
      "distance_to_closest_primary      688 non-null float64\n",
      "primary_school_ranking           688 non-null object\n",
      "closest_secondary_school         688 non-null object\n",
      "distance_to_closest_secondary    688 non-null float64\n",
      "secondary_school_ranking         688 non-null object\n",
      "dtypes: float64(9), int64(1), object(8)\n",
      "memory usage: 102.1+ KB\n"
     ]
    }
   ],
   "source": [
    "house_df.info()"
   ]
  },
  {
   "cell_type": "markdown",
   "metadata": {},
   "source": [
    "# 4. Reading data from the GTFS file"
   ]
  },
  {
   "cell_type": "markdown",
   "metadata": {},
   "source": [
    "We first unzip the gtfs.zip file collected from [Public Transport Victoria website](https://www.ptv.vic.gov.au/footer/data-and-reporting/datasets/)"
   ]
  },
  {
   "cell_type": "code",
   "execution_count": 60,
   "metadata": {},
   "outputs": [],
   "source": [
    "with zipfile.ZipFile(\"external_data/gtfs.zip\",\"r\") as zip_ref:\n",
    "    zip_ref.extractall(\"unzipped_level1\")"
   ]
  },
  {
   "cell_type": "markdown",
   "metadata": {},
   "source": [
    "On exploring the gtfs.zip file, we realize the file has the following structure:\n",
    "                                \n",
    "                                gtfs.zip----|\n",
    "                                            |---->1---->google_transit.zip---|agency.txt\n",
    "                                            |---->2---->.                    |calendar.txt\n",
    "                                            |---->.---->.                    |calendar_dates.txt\n",
    "                                            |---->.---->.                    |routes.txt\n",
    "                                            |---->11--->.                    |shapes.txt\n",
    "                                                                             |stop_times.txt\n",
    "                                                                             |stops.txt\n",
    "                                                                             |trips.txt                                     \n",
    "\n",
    "\n",
    "From http://data.ptv.vic.gov.au/downloads/PTVGTFSReleaseNotes.pdf we realize that only Folders 1 and 2 (Regional Train and Metropolitan train) are only required. \n",
    "\n",
    "We exclude folder 10 (Interstate) as the properties in the input dataframe all lie within Victoria. The rest of the folders are excluded as they contain transit data of types other than Train."
   ]
  },
  {
   "cell_type": "code",
   "execution_count": 61,
   "metadata": {},
   "outputs": [],
   "source": [
    "# Selecting folders 1 and 2 to extract data from\n",
    "dir_list=['1','2']"
   ]
  },
  {
   "cell_type": "markdown",
   "metadata": {},
   "source": [
    "We now extract data from the text files in these directories into dataframes"
   ]
  },
  {
   "cell_type": "code",
   "execution_count": 62,
   "metadata": {},
   "outputs": [],
   "source": [
    "# Extracting text files from folders 1 and 2 and concatenating them into a single dataframe\n",
    "calendar_df = pd.concat((pd.read_csv(zipfile.ZipFile('unzipped_level1/'+f+'/google_transit.zip').open('calendar.txt')) for f in dir_list), ignore_index=True)\n",
    "calendar_dates_df = pd.concat((pd.read_csv(zipfile.ZipFile('unzipped_level1/'+f+'/google_transit.zip').open('calendar_dates.txt')) for f in dir_list), ignore_index=True)\n",
    "routes_df = pd.concat((pd.read_csv(zipfile.ZipFile('unzipped_level1/'+f+'/google_transit.zip').open('routes.txt')) for f in dir_list), ignore_index=True)\n",
    "shapes_df = pd.concat((pd.read_csv(zipfile.ZipFile('unzipped_level1/'+f+'/google_transit.zip').open('shapes.txt')) for f in dir_list), ignore_index=True)\n",
    "stop_times_df = pd.concat((pd.read_csv(zipfile.ZipFile('unzipped_level1/'+f+'/google_transit.zip').open('stop_times.txt')) for f in dir_list), ignore_index=True)\n",
    "stops_df = pd.concat((pd.read_csv(zipfile.ZipFile('unzipped_level1/'+f+'/google_transit.zip').open('stops.txt')) for f in dir_list), ignore_index=True)\n",
    "trips_df = pd.concat((pd.read_csv(zipfile.ZipFile('unzipped_level1/'+f+'/google_transit.zip').open('trips.txt')) for f in dir_list), ignore_index=True)"
   ]
  },
  {
   "cell_type": "markdown",
   "metadata": {},
   "source": [
    "References:  \n",
    "*Reading CSV zipped files* retreived from https://stackoverflow.com/a/37100335  \n",
    "*Import multiple CSV files into one dataframe* retreived from https://stackoverflow.com/a/36416258"
   ]
  },
  {
   "cell_type": "markdown",
   "metadata": {},
   "source": [
    "From these datasets, we will calculate following values for following three columns:\n",
    "\n",
    "1. **train_station_id**: The closest train station to the property that has a direct trip to the Southern Cross Railway Station on all weekdays between 7:00 - 9:30.\n",
    "2. **distance_to_train_station**: The direct distance from this closest train station to the property.\n",
    "3. **travel_min_to_CBD**: The average travel time (minutes) from the closest train station (regional/metropolitan) that has a direct trip to the “Southern Cross Railway Station” on weekdays departing between 7 to 9:30 am."
   ]
  },
  {
   "cell_type": "markdown",
   "metadata": {},
   "source": [
    "\n",
    "We explore these datasets to identify relevant datasets and the relationship between them. We observe the following relationships:\n",
    "<img src=\"rdbms_schema.png\">"
   ]
  },
  {
   "cell_type": "markdown",
   "metadata": {},
   "source": [
    "Based on this information, we follow the following steps to extract the relevant data:\n",
    "\n",
    "<img src=\"process_flow.png\">\n",
    "\n",
    "In words:\n",
    "1. a. Identify the stop_ids that correspond to Southern Cross (southerncross_stopId) based on stop_name in stops_df  \n",
    "   b. Using southerncross_stopId and shape_dist_traveled find all trip_ids in stop_times_df that pass through Southern Cross but does not start there. \n",
    "2. a. From calendar_df, identify the service_ids that run on all weekdays and find their corresponding trip_id in trips_df  \n",
    "   b. Using this information, create a list of all trip_ids that run through Southern Cross on all weekdays\n",
    "3. Find the intersection of lists created in 1 and 2 to create list of stations that pass through Southern Cross on all weekdays\n",
    "4. For these trip_ids, using stop_times_df, find all stations for which there is a departure between 7:00 and 9:30 and find the time the corresponding trip arrives at Southern Cross\n",
    "5. Using the latitude and longitude in stops_df, among the stations in step 6, find the closest station to each of the properties in the input dataset and the distance from these stations to the proerties.\n",
    "6. Find the trip travel time for each stations in these trips as a difference between arrival time at Southern Cross and departure time at the station.\n",
    "7. For each of these closest stations, calculate the average of the travel time to Southern Cross"
   ]
  },
  {
   "cell_type": "markdown",
   "metadata": {},
   "source": [
    "## 4.1. Finding trips passing through Southern Cross "
   ]
  },
  {
   "cell_type": "markdown",
   "metadata": {},
   "source": [
    "We first find records pertaining to Southern Cross station in the stops_df dataframe and save the stop_ids into a list"
   ]
  },
  {
   "cell_type": "code",
   "execution_count": 63,
   "metadata": {},
   "outputs": [
    {
     "data": {
      "text/html": [
       "<div>\n",
       "<style scoped>\n",
       "    .dataframe tbody tr th:only-of-type {\n",
       "        vertical-align: middle;\n",
       "    }\n",
       "\n",
       "    .dataframe tbody tr th {\n",
       "        vertical-align: top;\n",
       "    }\n",
       "\n",
       "    .dataframe thead th {\n",
       "        text-align: right;\n",
       "    }\n",
       "</style>\n",
       "<table border=\"1\" class=\"dataframe\">\n",
       "  <thead>\n",
       "    <tr style=\"text-align: right;\">\n",
       "      <th></th>\n",
       "      <th>stop_id</th>\n",
       "      <th>stop_name</th>\n",
       "    </tr>\n",
       "  </thead>\n",
       "  <tbody>\n",
       "    <tr>\n",
       "      <th>7</th>\n",
       "      <td>20043</td>\n",
       "      <td>Southern Cross Railway Station (Melbourne City)</td>\n",
       "    </tr>\n",
       "    <tr>\n",
       "      <th>319</th>\n",
       "      <td>22180</td>\n",
       "      <td>Southern Cross Railway Station (Melbourne City)</td>\n",
       "    </tr>\n",
       "  </tbody>\n",
       "</table>\n",
       "</div>"
      ],
      "text/plain": [
       "     stop_id                                        stop_name\n",
       "7    20043    Southern Cross Railway Station (Melbourne City)\n",
       "319  22180    Southern Cross Railway Station (Melbourne City)"
      ]
     },
     "execution_count": 63,
     "metadata": {},
     "output_type": "execute_result"
    }
   ],
   "source": [
    "southerncross_stops = stops_df.loc[stops_df['stop_name'].str.contains('Southern Cross'),['stop_id','stop_name']]\n",
    "pd.set_option('display.max_colwidth', 0)\n",
    "southerncross_stops"
   ]
  },
  {
   "cell_type": "markdown",
   "metadata": {},
   "source": [
    "We observe that there are multiple stop_ids corresponding to the same stop_name in the dataset. To prevent duplicates and hence avoid issues that may arise when calculating the value of travel_min_to_CBD, we replace the values of stop_id such that each stop_name has only one corresponding stop_id in the datasets. "
   ]
  },
  {
   "cell_type": "code",
   "execution_count": 64,
   "metadata": {},
   "outputs": [],
   "source": [
    "# Creating a dictionary to manufacture a unique mapping between stop_name and stop_id\n",
    "stops_dict = dict(zip(stops_df['stop_name'], stops_df['stop_id']))\n",
    "\n",
    "# Adding a new_stop_id column to stops_df and then creating a dictionary to create a mapping between \n",
    "# original stop_ids and the set of unique stop_ids  \n",
    "stops_df['new_stop_id'] = stops_df['stop_name'].apply(lambda x: stops_dict[x])\n",
    "stop_update_dict = dict(zip(stops_df['stop_id'], stops_df['new_stop_id']))\n",
    "\n",
    "# Updating values of stop_ids in both stops_df and stop_times_df\n",
    "stops_df['stop_id'] = stops_df['stop_id'].apply(lambda x: stop_update_dict[x])\n",
    "stop_times_df['stop_id'] = stop_times_df['stop_id'].apply(lambda x: stop_update_dict[x])\n",
    "\n",
    "# Dropping created new_stop_id column and duplicate rows from stops_df dataframe\n",
    "stops_df.drop(['new_stop_id'], inplace=True, axis=1)\n",
    "stops_df.drop_duplicates(keep=\"first\", inplace=True)"
   ]
  },
  {
   "cell_type": "markdown",
   "metadata": {},
   "source": [
    "Saving all stop_ids of Southern Cross into a list,  we observe that Southern Cross now has only one corresponding stop_id."
   ]
  },
  {
   "cell_type": "code",
   "execution_count": 65,
   "metadata": {},
   "outputs": [
    {
     "name": "stdout",
     "output_type": "stream",
     "text": [
      "[22180]\n"
     ]
    }
   ],
   "source": [
    "southerncross_stops = stops_df.loc[stops_df['stop_name'].str.contains('Southern Cross'),['stop_id','stop_name']]\n",
    "southerncross_stopId = list(set(southerncross_stops['stop_id'].tolist()))\n",
    "print(southerncross_stopId)"
   ]
  },
  {
   "cell_type": "markdown",
   "metadata": {},
   "source": [
    "Using this list, we find all trip_ids that pass through southern cross but does not start at Southern Cross. We set shape_dist_traveled != 0 to ensure the trip does not start at Southern Cross."
   ]
  },
  {
   "cell_type": "code",
   "execution_count": 66,
   "metadata": {},
   "outputs": [],
   "source": [
    "trips_to_sc = list(set(stop_times_df.loc[(stop_times_df['stop_id'].isin(southerncross_stopId)) & \n",
    "                                         (stop_times_df['shape_dist_traveled'] != 0),'trip_id']))"
   ]
  },
  {
   "cell_type": "markdown",
   "metadata": {},
   "source": [
    "## 4.2. Finding trips that run on all weekdays"
   ]
  },
  {
   "cell_type": "markdown",
   "metadata": {},
   "source": [
    "So we will now identify the trips that run on all weekdays"
   ]
  },
  {
   "cell_type": "code",
   "execution_count": 67,
   "metadata": {},
   "outputs": [],
   "source": [
    "# Creating an 'all_weekdays' flag summing values across all weekdays and testing equality with 5\n",
    "calendar_df['all_weekdays'] = calendar_df.apply(\n",
    "    lambda x: (x['monday']+x['tuesday']+x['wednesday']+x['thursday']+x['friday'])==5, axis=1\n",
    ")"
   ]
  },
  {
   "cell_type": "code",
   "execution_count": 68,
   "metadata": {},
   "outputs": [
    {
     "name": "stdout",
     "output_type": "stream",
     "text": [
      "['T0', 'T0_3', 'T0_1', 'T0_2']\n"
     ]
    }
   ],
   "source": [
    "# Creating a distinct list of all service_ids running on all weekdays\n",
    "service_list = list(set(calendar_df.loc[calendar_df['all_weekdays']==True,'service_id'].tolist()))\n",
    "print(service_list)"
   ]
  },
  {
   "cell_type": "markdown",
   "metadata": {},
   "source": [
    "For each of these service_ids, we find the corresponding trip_ids and save them into a list "
   ]
  },
  {
   "cell_type": "code",
   "execution_count": 69,
   "metadata": {},
   "outputs": [],
   "source": [
    "trips_list = trips_df.loc[trips_df['service_id'].isin(service_list)]['trip_id'].values.tolist()"
   ]
  },
  {
   "cell_type": "markdown",
   "metadata": {},
   "source": [
    "## 4.3. Finding trips that pass through Southern Cross on all weekdays"
   ]
  },
  {
   "cell_type": "markdown",
   "metadata": {},
   "source": [
    "Finding intersection of lists made in 1 and 2 to find all trips that pass through Southern Cross on all weekdays"
   ]
  },
  {
   "cell_type": "code",
   "execution_count": 70,
   "metadata": {},
   "outputs": [],
   "source": [
    "weekday_trips_to_sc = list(set(trips_to_sc).intersection(set(trips_list)))"
   ]
  },
  {
   "cell_type": "markdown",
   "metadata": {},
   "source": [
    "## 4.4. Finding all stations in relevant trips having a departure between 7:00 and 9:30 "
   ]
  },
  {
   "cell_type": "markdown",
   "metadata": {},
   "source": [
    "We filter the stop_times dataframe to include only those records having trips through Southern Cross on all weekdays"
   ]
  },
  {
   "cell_type": "code",
   "execution_count": 71,
   "metadata": {},
   "outputs": [],
   "source": [
    "filtered_stop_times_df = stop_times_df.loc[stop_times_df['trip_id'].isin(weekday_trips_to_sc)]"
   ]
  },
  {
   "cell_type": "markdown",
   "metadata": {},
   "source": [
    "We now filter this dataframe to include only those stations which have departures in between 7:00 to 9:30. We convert departure_time to a datetime object for this. To carry out this type conversion, we first remove records having hours in departure_time greater than 23. We remove these records as our target stations should have a departure bfore 9:30 and, realistically, a trip should not take more than 14 hours to reach Southern Cross from any of these stations."
   ]
  },
  {
   "cell_type": "code",
   "execution_count": 72,
   "metadata": {},
   "outputs": [],
   "source": [
    "# Removing records haging hour(departure_time) > 23.\n",
    "filtered_stop_times_df = filtered_stop_times_df.loc[~filtered_stop_times_df['departure_time'].str.startswith(('24','25','26','27'))]"
   ]
  },
  {
   "cell_type": "code",
   "execution_count": 73,
   "metadata": {},
   "outputs": [],
   "source": [
    "# Converting departure_time to a datatime object\n",
    "filtered_stop_times_df['time_depart'] = filtered_stop_times_df['departure_time'].apply(lambda x: datetime.strptime(x, '%H:%M:%S'))"
   ]
  },
  {
   "cell_type": "markdown",
   "metadata": {},
   "source": [
    "We now extract and save records where the stop is Southern Cross. This is done to extract time of arrival of a trip at Southern Cross. "
   ]
  },
  {
   "cell_type": "code",
   "execution_count": 74,
   "metadata": {},
   "outputs": [],
   "source": [
    "# Selecting stops in Southern Cross\n",
    "stop_times_sc = filtered_stop_times_df.loc[filtered_stop_times_df['stop_id'].isin(southerncross_stopId)]\n",
    "\n",
    "# Casting arrival_time as a datatime object to create the time_arrive_sc variable\n",
    "stop_times_sc['time_arrive_sc'] = stop_times_sc['arrival_time'].apply(lambda x: datetime.strptime(x, '%H:%M:%S'))"
   ]
  },
  {
   "cell_type": "markdown",
   "metadata": {},
   "source": [
    "Filtering the filtered_stop_times_df dataframe to include only those stops having a departure in between 7:00 and 9:30"
   ]
  },
  {
   "cell_type": "code",
   "execution_count": 75,
   "metadata": {},
   "outputs": [],
   "source": [
    "# Declaring minimum and maximum departure times\n",
    "min_time = datetime.strptime('07:00:00', '%H:%M:%S')\n",
    "max_time = datetime.strptime('09:30:00', '%H:%M:%S')\n",
    "\n",
    "# Filtering the dataframe to include only the records having departure in between min_time and max_time\n",
    "filtered_stop_times_df = filtered_stop_times_df.loc[(min_time <= filtered_stop_times_df['time_depart']) & \n",
    "                                                    (filtered_stop_times_df['time_depart'] <= max_time)]"
   ]
  },
  {
   "cell_type": "markdown",
   "metadata": {},
   "source": [
    "Calculating travel_time as difference between arrival time at Southern Cross and departure time from a station for a particular trip. We then filter the dataframe to include only records with postive travel_time (ie. cases where the stop is before Southern Cross in sequence)."
   ]
  },
  {
   "cell_type": "code",
   "execution_count": 76,
   "metadata": {},
   "outputs": [],
   "source": [
    "# Merging Southern Cross arrival dataframe with the filtered_stop_times dataframe\n",
    "travel_time_df = pd.merge(filtered_stop_times_df, stop_times_sc[[\"time_arrive_sc\",\"trip_id\"]],\n",
    "                          on=\"trip_id\", how=\"left\")"
   ]
  },
  {
   "cell_type": "code",
   "execution_count": 77,
   "metadata": {},
   "outputs": [],
   "source": [
    "# Calculating travel_time\n",
    "travel_time_df[\"travel_time\"] = travel_time_df.apply(\n",
    "    lambda x: (x[\"time_arrive_sc\"] - x[\"time_depart\"]).total_seconds()/60.0, axis=1\n",
    ")\n",
    "\n",
    "# Keeping only the rows with positive travel time.\n",
    "travel_time_df = travel_time_df.loc[travel_time_df[\"travel_time\"]>=0]"
   ]
  },
  {
   "cell_type": "markdown",
   "metadata": {},
   "source": [
    "## 4.5. Finding the station closest to each property "
   ]
  },
  {
   "cell_type": "markdown",
   "metadata": {},
   "source": [
    "Extracting unique stop_ids from the travel_time dataframe and filtering the stops_df dataframe to include only these stops.\n",
    "Doing this ensures that the nearest station selected will have a direct trip to Southern Cross on all weekdays between 7:00 to 9:30 "
   ]
  },
  {
   "cell_type": "code",
   "execution_count": 78,
   "metadata": {},
   "outputs": [],
   "source": [
    "# Extracting unique stop_ids from travel_time_df\n",
    "stops_to_sc = list(set(travel_time_df['stop_id']))\n",
    "\n",
    "# Filtering stops_df to include only relevant stations\n",
    "stops_sc_location = stops_df.loc[stops_df['stop_id'].isin(stops_to_sc)]"
   ]
  },
  {
   "cell_type": "code",
   "execution_count": 79,
   "metadata": {},
   "outputs": [],
   "source": [
    "# Creating a function to calculate distance between the station and Southern Cross station\n",
    "def cal_dist(lat_1, lng_1, lat_2, lng_2): \n",
    "    \n",
    "    # Converting lat-long from degree to radians\n",
    "    lng_1, lat_1, lng_2, lat_2 = map(math.radians, [lng_1, lat_1, lng_2, lat_2])\n",
    "    \n",
    "    d_lat = lat_2 - lat_1\n",
    "    d_lng = lng_2 - lng_1 \n",
    "\n",
    "    temp = (  \n",
    "         math.sin(d_lat / 2) ** 2 \n",
    "       + math.cos(lat_1) \n",
    "       * math.cos(lat_2) \n",
    "       * math.sin(d_lng / 2) ** 2\n",
    "    )\n",
    "\n",
    "    return 6378 * (2 * math.atan2(math.sqrt(temp), math.sqrt(1 - temp)))*1000"
   ]
  },
  {
   "cell_type": "markdown",
   "metadata": {},
   "source": [
    "Reference: *Calculate the distance between two coordinates with Python* Retrieved from https://stackoverflow.com/a/44743104"
   ]
  },
  {
   "cell_type": "code",
   "execution_count": 80,
   "metadata": {},
   "outputs": [],
   "source": [
    "# Creating a function to return closest station and distance from station to property\n",
    "def nearest_station(lat, long):\n",
    "    stops_sc_location['distance_ns'] = stops_sc_location.apply(\n",
    "        lambda x: cal_dist(lat, long,x['stop_lat'], x['stop_lon']), axis=1\n",
    "    )\n",
    "    min_dist = stops_sc_location['distance_ns'].min()\n",
    "    return [int(stops_sc_location.loc[stops_sc_location['distance_ns'] == min_dist, 'stop_id'].values[0]),min_dist]"
   ]
  },
  {
   "cell_type": "markdown",
   "metadata": {},
   "source": [
    "Creating new columns and storing values of nearest station_id and distance of property from station"
   ]
  },
  {
   "cell_type": "code",
   "execution_count": 81,
   "metadata": {},
   "outputs": [],
   "source": [
    "house_df['train_station_id'] = house_df.apply(lambda x: nearest_station(x['Lattitude'], x['Longtitude'])[0], axis=1)\n",
    "house_df['distance_to_train_station'] = house_df.apply(lambda x: nearest_station(x['Lattitude'], x['Longtitude'])[1], axis=1)"
   ]
  },
  {
   "cell_type": "markdown",
   "metadata": {},
   "source": [
    "## 4.6. Calculating average travel time from station to Southern Cross station "
   ]
  },
  {
   "cell_type": "markdown",
   "metadata": {},
   "source": [
    "For all the stations closest to the property, we now find the average travel time "
   ]
  },
  {
   "cell_type": "code",
   "execution_count": 82,
   "metadata": {},
   "outputs": [],
   "source": [
    "# Creating a list of unique station_ids from house_df\n",
    "station_list = list(set(house_df['train_station_id'].tolist()))"
   ]
  },
  {
   "cell_type": "code",
   "execution_count": 83,
   "metadata": {},
   "outputs": [],
   "source": [
    "# Filtering the travel_time_df created earlier to include only the stations close to properties\n",
    "travel_time_filtered_df = travel_time_df.loc[travel_time_df['stop_id'].isin(station_list)]"
   ]
  },
  {
   "cell_type": "code",
   "execution_count": 84,
   "metadata": {},
   "outputs": [],
   "source": [
    "# Calculating average travel time\n",
    "travel_time_avg_df = travel_time_filtered_df[[\"stop_id\",\"travel_time\"]]\n",
    "travel_time_avg_df = travel_time_avg_df.groupby(['stop_id'],as_index=False).mean()\n",
    "travel_time_avg_df.columns = ['train_station_id', 'travel_min_to_CBD']"
   ]
  },
  {
   "cell_type": "code",
   "execution_count": 85,
   "metadata": {},
   "outputs": [],
   "source": [
    "# Joining average travel time to the main dataframe as a new column\n",
    "house_df = pd.merge(house_df, travel_time_avg_df, on=\"train_station_id\", how=\"left\")"
   ]
  },
  {
   "cell_type": "markdown",
   "metadata": {},
   "source": [
    "# 5. Suburb from vic_suburb_boundry"
   ]
  },
  {
   "cell_type": "markdown",
   "metadata": {},
   "source": [
    "vic_suburb_boundry contains shape files containing information about suburb boundry in shape file format. We will use this information to see if the latitude and longitude of the property lies in which particular suburb. "
   ]
  },
  {
   "cell_type": "code",
   "execution_count": 86,
   "metadata": {},
   "outputs": [],
   "source": [
    "#read shape file using Reader\n",
    "sf = shapefile.Reader(\"external_data/vic_suburb_boundary/VIC_LOCALITY_POLYGON_shp\")\n",
    "#extract information about each suburb using records\n",
    "recs = sf.records()\n",
    "#get information about suburb boundry and lat long using shapes()\n",
    "shapes = sf.shapes()"
   ]
  },
  {
   "cell_type": "code",
   "execution_count": 87,
   "metadata": {},
   "outputs": [
    {
     "data": {
      "text/plain": [
       "(2973, 2973)"
      ]
     },
     "execution_count": 87,
     "metadata": {},
     "output_type": "execute_result"
    }
   ],
   "source": [
    "len(recs),len(shapes)"
   ]
  },
  {
   "cell_type": "markdown",
   "metadata": {},
   "source": [
    "Lets visualize the suburb boundry from shape file."
   ]
  },
  {
   "cell_type": "code",
   "execution_count": 88,
   "metadata": {},
   "outputs": [
    {
     "data": {
      "image/png": "[encoded data removed]",
      "text/plain": [
       "<Figure size 864x432 with 1 Axes>"
      ]
     },
     "metadata": {
      "needs_background": "light"
     },
     "output_type": "display_data"
    }
   ],
   "source": [
    "cm = matplotlib.cm.get_cmap('Dark2')\n",
    "\n",
    "Nshp = len(shapes)\n",
    "cccol = cm(1.*numpy.arange(Nshp)/Nshp) # one colour for every suburb...\n",
    "# plot size\n",
    "fig = plt.figure(figsize = (12,6))\n",
    "ax = fig.add_subplot(111)\n",
    "\n",
    "#Plot each suburb\n",
    "for nshp in range(Nshp):\n",
    "    ptchs   = []\n",
    "    pts     = numpy.array(shapes[nshp].points)\n",
    "    prt     = shapes[nshp].parts\n",
    "    par     = list(prt) + [pts.shape[0]]\n",
    "    \n",
    "    for pij in range(len(prt)): \n",
    "        ptchs.append(patches.Polygon(pts[par[pij]:par[pij+1]]))\n",
    "\n",
    "    ax.add_collection(PatchCollection(ptchs,facecolor=cccol[nshp,:],edgecolor='k', linewidths=.1))\n",
    "    \n",
    "ax.set_xlim(140.5,150.5)\n",
    "ax.set_ylim(-39.5,-34)\n",
    "\n",
    "plt.show()"
   ]
  },
  {
   "cell_type": "markdown",
   "metadata": {},
   "source": [
    "Lets look at first records row"
   ]
  },
  {
   "cell_type": "code",
   "execution_count": 89,
   "metadata": {},
   "outputs": [
    {
     "data": {
      "text/plain": [
       "Record #0: ['6670', datetime.date(2011, 8, 31), None, 'VIC2615', datetime.date(2012, 4, 27), None, 'UNDERBOOL', '', '', 'G', None, '2']"
      ]
     },
     "execution_count": 89,
     "metadata": {},
     "output_type": "execute_result"
    }
   ],
   "source": [
    "recs[0]"
   ]
  },
  {
   "cell_type": "markdown",
   "metadata": {},
   "source": [
    "We see that 6th index of each record has suburb name.\n",
    "\n",
    "Recs and shapes contain information about each suburb in each row. The order of information about each suburb is same in both of these lists, i.e. 1st row in recs and shapes corresponds to same suburb, and likewise for all rows."
   ]
  },
  {
   "cell_type": "code",
   "execution_count": 90,
   "metadata": {},
   "outputs": [],
   "source": [
    "def get_suburb(x):\n",
    "    '''\n",
    "    x: [longitude, latitude] of property\n",
    "    return: \n",
    "        suburb:string\n",
    "    '''\n",
    "    #Create a point\n",
    "    property_point = Point(x[1], x[0])\n",
    "    \n",
    "    for index_shape, shape in enumerate(shapes):\n",
    "        suburb_region = Polygon(shape.points)\n",
    "\n",
    "        if property_point.within(suburb_region):\n",
    "            return recs[index_shape][6]"
   ]
  },
  {
   "cell_type": "code",
   "execution_count": 92,
   "metadata": {},
   "outputs": [],
   "source": [
    "# house_df = pd.merge(house_df, reshaping_df[['ID','Suburb']], on=['ID'])"
   ]
  },
  {
   "cell_type": "code",
   "execution_count": 138,
   "metadata": {},
   "outputs": [],
   "source": [
    "#store suburbs in a new column  \n",
    "house_df['Suburb'] = house_df[['Lattitude', 'Longtitude']].apply(lambda x: get_suburb(x), axis=1)"
   ]
  },
  {
   "cell_type": "code",
   "execution_count": 93,
   "metadata": {},
   "outputs": [
    {
     "name": "stdout",
     "output_type": "stream",
     "text": [
      "<class 'pandas.core.frame.DataFrame'>\n",
      "Int64Index: 688 entries, 0 to 687\n",
      "Data columns (total 22 columns):\n",
      "ID                               688 non-null object\n",
      "Address                          688 non-null object\n",
      "Rooms                            688 non-null int64\n",
      "Type                             688 non-null object\n",
      "Price                            688 non-null float64\n",
      "Date                             688 non-null object\n",
      "Bathroom                         688 non-null float64\n",
      "Car                              688 non-null float64\n",
      "Landsize                         688 non-null float64\n",
      "Age                              688 non-null float64\n",
      "Lattitude                        688 non-null float64\n",
      "Longtitude                       688 non-null float64\n",
      "closest_primary_school           688 non-null object\n",
      "distance_to_closest_primary      688 non-null float64\n",
      "primary_school_ranking           688 non-null object\n",
      "closest_secondary_school         688 non-null object\n",
      "distance_to_closest_secondary    688 non-null float64\n",
      "secondary_school_ranking         688 non-null object\n",
      "train_station_id                 688 non-null int64\n",
      "distance_to_train_station        688 non-null float64\n",
      "travel_min_to_CBD                688 non-null float64\n",
      "Suburb                           688 non-null object\n",
      "dtypes: float64(11), int64(2), object(9)\n",
      "memory usage: 123.6+ KB\n"
     ]
    }
   ],
   "source": [
    "house_df.info()"
   ]
  },
  {
   "cell_type": "code",
   "execution_count": 94,
   "metadata": {},
   "outputs": [
    {
     "data": {
      "text/html": [
       "<div>\n",
       "<style scoped>\n",
       "    .dataframe tbody tr th:only-of-type {\n",
       "        vertical-align: middle;\n",
       "    }\n",
       "\n",
       "    .dataframe tbody tr th {\n",
       "        vertical-align: top;\n",
       "    }\n",
       "\n",
       "    .dataframe thead th {\n",
       "        text-align: right;\n",
       "    }\n",
       "</style>\n",
       "<table border=\"1\" class=\"dataframe\">\n",
       "  <thead>\n",
       "    <tr style=\"text-align: right;\">\n",
       "      <th></th>\n",
       "      <th>ID</th>\n",
       "      <th>Address</th>\n",
       "      <th>Rooms</th>\n",
       "      <th>Type</th>\n",
       "      <th>Price</th>\n",
       "      <th>Date</th>\n",
       "      <th>Bathroom</th>\n",
       "      <th>Car</th>\n",
       "      <th>Landsize</th>\n",
       "      <th>Age</th>\n",
       "      <th>...</th>\n",
       "      <th>closest_primary_school</th>\n",
       "      <th>distance_to_closest_primary</th>\n",
       "      <th>primary_school_ranking</th>\n",
       "      <th>closest_secondary_school</th>\n",
       "      <th>distance_to_closest_secondary</th>\n",
       "      <th>secondary_school_ranking</th>\n",
       "      <th>train_station_id</th>\n",
       "      <th>distance_to_train_station</th>\n",
       "      <th>travel_min_to_CBD</th>\n",
       "      <th>Suburb</th>\n",
       "    </tr>\n",
       "  </thead>\n",
       "  <tbody>\n",
       "    <tr>\n",
       "      <th>0</th>\n",
       "      <td>ID122964121</td>\n",
       "      <td>121 Murray Rd</td>\n",
       "      <td>4</td>\n",
       "      <td>h</td>\n",
       "      <td>830000.0</td>\n",
       "      <td>3/06/2017</td>\n",
       "      <td>1.0</td>\n",
       "      <td>2.0</td>\n",
       "      <td>540.0</td>\n",
       "      <td>54.0</td>\n",
       "      <td>...</td>\n",
       "      <td>Holy Name School</td>\n",
       "      <td>1.055208</td>\n",
       "      <td>463</td>\n",
       "      <td>Preston High School</td>\n",
       "      <td>0.821495</td>\n",
       "      <td>not ranked</td>\n",
       "      <td>20012</td>\n",
       "      <td>1291.662208</td>\n",
       "      <td>28.300000</td>\n",
       "      <td>PRESTON</td>\n",
       "    </tr>\n",
       "    <tr>\n",
       "      <th>1</th>\n",
       "      <td>ID161649164</td>\n",
       "      <td>77 Highfield Rd</td>\n",
       "      <td>5</td>\n",
       "      <td>h</td>\n",
       "      <td>3550000.0</td>\n",
       "      <td>18/03/2017</td>\n",
       "      <td>4.0</td>\n",
       "      <td>4.0</td>\n",
       "      <td>684.0</td>\n",
       "      <td>6.0</td>\n",
       "      <td>...</td>\n",
       "      <td>Canterbury Primary School</td>\n",
       "      <td>0.221939</td>\n",
       "      <td>43</td>\n",
       "      <td>Siena College Ltd</td>\n",
       "      <td>0.302698</td>\n",
       "      <td>not ranked</td>\n",
       "      <td>19894</td>\n",
       "      <td>906.329970</td>\n",
       "      <td>25.769231</td>\n",
       "      <td>CANTERBURY</td>\n",
       "    </tr>\n",
       "    <tr>\n",
       "      <th>2</th>\n",
       "      <td>ID574447673</td>\n",
       "      <td>56 Hall St</td>\n",
       "      <td>2</td>\n",
       "      <td>h</td>\n",
       "      <td>890000.0</td>\n",
       "      <td>8/04/2017</td>\n",
       "      <td>1.0</td>\n",
       "      <td>0.0</td>\n",
       "      <td>165.0</td>\n",
       "      <td>79.0</td>\n",
       "      <td>...</td>\n",
       "      <td>Sacred Heart School</td>\n",
       "      <td>0.281517</td>\n",
       "      <td>66</td>\n",
       "      <td>Bayside P-12 College</td>\n",
       "      <td>1.806498</td>\n",
       "      <td>243</td>\n",
       "      <td>19994</td>\n",
       "      <td>140.025326</td>\n",
       "      <td>16.310345</td>\n",
       "      <td>NEWPORT</td>\n",
       "    </tr>\n",
       "    <tr>\n",
       "      <th>3</th>\n",
       "      <td>ID857527692</td>\n",
       "      <td>25 Sydney St</td>\n",
       "      <td>4</td>\n",
       "      <td>h</td>\n",
       "      <td>816000.0</td>\n",
       "      <td>10/09/2016</td>\n",
       "      <td>1.0</td>\n",
       "      <td>2.0</td>\n",
       "      <td>837.0</td>\n",
       "      <td>89.0</td>\n",
       "      <td>...</td>\n",
       "      <td>St Theresa's School</td>\n",
       "      <td>0.170962</td>\n",
       "      <td>393</td>\n",
       "      <td>Sunshine College</td>\n",
       "      <td>1.073238</td>\n",
       "      <td>233</td>\n",
       "      <td>20004</td>\n",
       "      <td>586.186237</td>\n",
       "      <td>26.375000</td>\n",
       "      <td>ALBION</td>\n",
       "    </tr>\n",
       "    <tr>\n",
       "      <th>4</th>\n",
       "      <td>ID115945460</td>\n",
       "      <td>4 Walter St</td>\n",
       "      <td>3</td>\n",
       "      <td>h</td>\n",
       "      <td>1045000.0</td>\n",
       "      <td>29/04/2017</td>\n",
       "      <td>2.0</td>\n",
       "      <td>3.0</td>\n",
       "      <td>526.0</td>\n",
       "      <td>29.0</td>\n",
       "      <td>...</td>\n",
       "      <td>Bayside P-12 College</td>\n",
       "      <td>1.013598</td>\n",
       "      <td>not ranked</td>\n",
       "      <td>Bayside P-12 College</td>\n",
       "      <td>1.013598</td>\n",
       "      <td>243</td>\n",
       "      <td>19993</td>\n",
       "      <td>1332.454148</td>\n",
       "      <td>20.857143</td>\n",
       "      <td>WILLIAMSTOWN NORTH</td>\n",
       "    </tr>\n",
       "  </tbody>\n",
       "</table>\n",
       "<p>5 rows × 22 columns</p>\n",
       "</div>"
      ],
      "text/plain": [
       "            ID          Address  Rooms Type      Price        Date  Bathroom  \\\n",
       "0  ID122964121  121 Murray Rd    4      h    830000.0   3/06/2017   1.0        \n",
       "1  ID161649164  77 Highfield Rd  5      h    3550000.0  18/03/2017  4.0        \n",
       "2  ID574447673  56 Hall St       2      h    890000.0   8/04/2017   1.0        \n",
       "3  ID857527692  25 Sydney St     4      h    816000.0   10/09/2016  1.0        \n",
       "4  ID115945460  4 Walter St      3      h    1045000.0  29/04/2017  2.0        \n",
       "\n",
       "   Car  Landsize   Age  ...     closest_primary_school  \\\n",
       "0  2.0  540.0     54.0  ...  Holy Name School            \n",
       "1  4.0  684.0     6.0   ...  Canterbury Primary School   \n",
       "2  0.0  165.0     79.0  ...  Sacred Heart School         \n",
       "3  2.0  837.0     89.0  ...  St Theresa's School         \n",
       "4  3.0  526.0     29.0  ...  Bayside P-12 College        \n",
       "\n",
       "   distance_to_closest_primary primary_school_ranking  \\\n",
       "0  1.055208                     463                     \n",
       "1  0.221939                     43                      \n",
       "2  0.281517                     66                      \n",
       "3  0.170962                     393                     \n",
       "4  1.013598                     not ranked              \n",
       "\n",
       "   closest_secondary_school distance_to_closest_secondary  \\\n",
       "0  Preston High School       0.821495                       \n",
       "1  Siena College Ltd         0.302698                       \n",
       "2  Bayside P-12 College      1.806498                       \n",
       "3  Sunshine College          1.073238                       \n",
       "4  Bayside P-12 College      1.013598                       \n",
       "\n",
       "  secondary_school_ranking  train_station_id distance_to_train_station  \\\n",
       "0  not ranked               20012             1291.662208                \n",
       "1  not ranked               19894             906.329970                 \n",
       "2  243                      19994             140.025326                 \n",
       "3  233                      20004             586.186237                 \n",
       "4  243                      19993             1332.454148                \n",
       "\n",
       "   travel_min_to_CBD              Suburb  \n",
       "0  28.300000          PRESTON             \n",
       "1  25.769231          CANTERBURY          \n",
       "2  16.310345          NEWPORT             \n",
       "3  26.375000          ALBION              \n",
       "4  20.857143          WILLIAMSTOWN NORTH  \n",
       "\n",
       "[5 rows x 22 columns]"
      ]
     },
     "execution_count": 94,
     "metadata": {},
     "output_type": "execute_result"
    }
   ],
   "source": [
    "house_df.head()"
   ]
  },
  {
   "cell_type": "markdown",
   "metadata": {},
   "source": [
    "# 6. Overpriced? column\n",
    "\n",
    "A boolean feature indicating whether or not the price of the property is higher than the median price of similar properties (with respect to bedrooms, bathrooms, parking_space, and property_type attributes) in the same suburb on the year of selling.\n",
    "\n",
    "We will be creating a year column by extracting year from date. "
   ]
  },
  {
   "cell_type": "code",
   "execution_count": 139,
   "metadata": {},
   "outputs": [],
   "source": [
    "#extract year from Date\n",
    "house_df['year'] = pd.to_datetime(house_df['Date']).dt.year"
   ]
  },
  {
   "cell_type": "code",
   "execution_count": 140,
   "metadata": {},
   "outputs": [
    {
     "data": {
      "text/html": [
       "<div>\n",
       "<style scoped>\n",
       "    .dataframe tbody tr th:only-of-type {\n",
       "        vertical-align: middle;\n",
       "    }\n",
       "\n",
       "    .dataframe tbody tr th {\n",
       "        vertical-align: top;\n",
       "    }\n",
       "\n",
       "    .dataframe thead th {\n",
       "        text-align: right;\n",
       "    }\n",
       "</style>\n",
       "<table border=\"1\" class=\"dataframe\">\n",
       "  <thead>\n",
       "    <tr style=\"text-align: right;\">\n",
       "      <th></th>\n",
       "      <th>Rooms</th>\n",
       "      <th>Bathroom</th>\n",
       "      <th>Car</th>\n",
       "      <th>Type</th>\n",
       "      <th>Suburb</th>\n",
       "      <th>year</th>\n",
       "      <th>median_price</th>\n",
       "    </tr>\n",
       "  </thead>\n",
       "  <tbody>\n",
       "    <tr>\n",
       "      <th>0</th>\n",
       "      <td>1</td>\n",
       "      <td>1.0</td>\n",
       "      <td>0.0</td>\n",
       "      <td>h</td>\n",
       "      <td>FAWKNER</td>\n",
       "      <td>2017</td>\n",
       "      <td>515000.0</td>\n",
       "    </tr>\n",
       "    <tr>\n",
       "      <th>1</th>\n",
       "      <td>1</td>\n",
       "      <td>1.0</td>\n",
       "      <td>0.0</td>\n",
       "      <td>u</td>\n",
       "      <td>BRUNSWICK WEST</td>\n",
       "      <td>2016</td>\n",
       "      <td>300000.0</td>\n",
       "    </tr>\n",
       "    <tr>\n",
       "      <th>2</th>\n",
       "      <td>1</td>\n",
       "      <td>1.0</td>\n",
       "      <td>0.0</td>\n",
       "      <td>u</td>\n",
       "      <td>SOUTH YARRA</td>\n",
       "      <td>2017</td>\n",
       "      <td>436000.0</td>\n",
       "    </tr>\n",
       "    <tr>\n",
       "      <th>3</th>\n",
       "      <td>1</td>\n",
       "      <td>1.0</td>\n",
       "      <td>0.0</td>\n",
       "      <td>u</td>\n",
       "      <td>WINDSOR</td>\n",
       "      <td>2017</td>\n",
       "      <td>350000.0</td>\n",
       "    </tr>\n",
       "    <tr>\n",
       "      <th>4</th>\n",
       "      <td>1</td>\n",
       "      <td>1.0</td>\n",
       "      <td>1.0</td>\n",
       "      <td>h</td>\n",
       "      <td>BRUNSWICK</td>\n",
       "      <td>2016</td>\n",
       "      <td>772000.0</td>\n",
       "    </tr>\n",
       "  </tbody>\n",
       "</table>\n",
       "</div>"
      ],
      "text/plain": [
       "   Rooms  Bathroom  Car Type          Suburb  year  median_price\n",
       "0  1      1.0       0.0  h    FAWKNER         2017  515000.0    \n",
       "1  1      1.0       0.0  u    BRUNSWICK WEST  2016  300000.0    \n",
       "2  1      1.0       0.0  u    SOUTH YARRA     2017  436000.0    \n",
       "3  1      1.0       0.0  u    WINDSOR         2017  350000.0    \n",
       "4  1      1.0       1.0  h    BRUNSWICK       2016  772000.0    "
      ]
     },
     "execution_count": 140,
     "metadata": {},
     "output_type": "execute_result"
    }
   ],
   "source": [
    "#group dataframe on all column names mentioned above and aggregate on median\n",
    "grouped_df = house_df.groupby(['Rooms', 'Bathroom', 'Car', 'Type', 'Suburb', 'year']).agg({'Price':'median'}).reset_index()\n",
    "#rename price as median_price\n",
    "grouped_df.rename(columns={'Price':'median_price'}, inplace=True)\n",
    "grouped_df.head()"
   ]
  },
  {
   "cell_type": "code",
   "execution_count": 141,
   "metadata": {},
   "outputs": [
    {
     "data": {
      "text/plain": [
       "(628, 7)"
      ]
     },
     "execution_count": 141,
     "metadata": {},
     "output_type": "execute_result"
    }
   ],
   "source": [
    "grouped_df.shape"
   ]
  },
  {
   "cell_type": "markdown",
   "metadata": {},
   "source": [
    "Merge this grouped dataframe to original dataframe."
   ]
  },
  {
   "cell_type": "code",
   "execution_count": 142,
   "metadata": {},
   "outputs": [],
   "source": [
    "# merge on ['Rooms', 'Bathroom', 'Car', 'Type', 'Suburb', 'year']\n",
    "house_df = house_df.merge(grouped_df, on=['Rooms', 'Bathroom', 'Car', 'Type', 'Suburb', 'year'])"
   ]
  },
  {
   "cell_type": "markdown",
   "metadata": {},
   "source": [
    "We will now compare price of each property with median_price of matching group to see if the value is greater than the median price. If it is, we will assign True to over_priced column otherwise False."
   ]
  },
  {
   "cell_type": "code",
   "execution_count": 143,
   "metadata": {},
   "outputs": [],
   "source": [
    "# Create over_priced column with true value if price of property is more than median price\n",
    "house_df['over_priced?'] = house_df['Price'] > house_df['median_price']"
   ]
  },
  {
   "cell_type": "code",
   "execution_count": 144,
   "metadata": {},
   "outputs": [],
   "source": [
    "house_df.drop(['year'], axis=1, inplace=True)"
   ]
  },
  {
   "cell_type": "markdown",
   "metadata": {},
   "source": [
    "# 7. Reading data from the councils.txt file "
   ]
  },
  {
   "cell_type": "markdown",
   "metadata": {},
   "source": [
    "We will first identify the LGA for a property using the councils.txt file. We read the councils.txt file and convert it into a dataframe containing LGAs and a list of their corresponding Suburbs."
   ]
  },
  {
   "cell_type": "code",
   "execution_count": 145,
   "metadata": {},
   "outputs": [],
   "source": [
    "# Reading the councils.txt file\n",
    "councils_df =  pd.read_csv('external_data/councils.txt', sep=':', header= None)\n",
    "councils_df.columns = ['LGA', 'Suburb']\n",
    "\n",
    "# Convert Suburb string into list\n",
    "councils_df['Suburb'] = councils_df['Suburb'].apply(lambda x: x.replace(\"'\",'').strip().strip(\"][\").split(','))\n",
    "\n",
    "# Removing leading and trailing whitespaces\n",
    "def strip_values(input_list):\n",
    "    for i in range(len(input_list)):\n",
    "                   input_list[i] = input_list[i].strip().upper()\n",
    "    return input_list\n",
    "\n",
    "# Saving the values of LGA and Suburbs into a dataframe\n",
    "councils_df['Suburb'] = councils_df['Suburb'].apply(lambda x: strip_values(x))\n",
    "councils_df['LGA'] = councils_df['LGA'].apply(lambda x: x.strip())"
   ]
  },
  {
   "cell_type": "markdown",
   "metadata": {},
   "source": [
    "For house_df, extracting LGA for each property by finding the record in councils_df where the house's suburb is a subset of the LGA's suburbs"
   ]
  },
  {
   "cell_type": "code",
   "execution_count": 146,
   "metadata": {},
   "outputs": [],
   "source": [
    "# Extracting LGA from councils_df based on Suburb\n",
    "house_df['LGA'] = house_df['Suburb'].apply(lambda x: councils_df[councils_df.Suburb.map(set([x]).issubset)].iloc[0,0])"
   ]
  },
  {
   "cell_type": "markdown",
   "metadata": {},
   "source": [
    "# Reading data from the input .xlsx file "
   ]
  },
  {
   "cell_type": "markdown",
   "metadata": {},
   "source": [
    "Reading the input .xlsx file to a pandas dataframe. Parameters are set to:\n",
    "* Read from the relevant sheet\n",
    "* Read from the relevant rows and columns"
   ]
  },
  {
   "cell_type": "code",
   "execution_count": 147,
   "metadata": {},
   "outputs": [],
   "source": [
    "# Reading the .xlsx file. Data is read from:\n",
    "# * Sheet = Table 1\n",
    "# * Columns from B to J\n",
    "# * 9086 rows starting from row 20 \n",
    "\n",
    "crime_df = pd.read_excel(\"external_data/crimebylocationdatatable-yearending31march2016.xlsx\", \n",
    "                            sheet_name = \"Table 1\", usecols = \"B:J\", skiprows = 19, nrows = 9086)"
   ]
  },
  {
   "cell_type": "markdown",
   "metadata": {},
   "source": [
    "# 8. Extracting crime statistics "
   ]
  },
  {
   "cell_type": "markdown",
   "metadata": {},
   "source": [
    "Now that we have the LGA each property belongs to, we use the crime xlsx file to find the relevant crime statistics."
   ]
  },
  {
   "cell_type": "code",
   "execution_count": 148,
   "metadata": {},
   "outputs": [],
   "source": [
    "# Extracting first character from the CSA Offence Division column as Crime_Division\n",
    "crime_df['Crime_Division'] = crime_df['CSA Offence Division'].apply(lambda x: x[0])"
   ]
  },
  {
   "cell_type": "code",
   "execution_count": 149,
   "metadata": {},
   "outputs": [],
   "source": [
    "# Extracting year from the Date column in the input csv file\n",
    "house_df['Year'] = house_df['Date'].apply(lambda x: datetime.strptime(x, '%d/%m/%Y').year)"
   ]
  },
  {
   "cell_type": "code",
   "execution_count": 150,
   "metadata": {},
   "outputs": [],
   "source": [
    "# Creating a function to calculate average crime for a particular LGA, crime division and three year period\n",
    "def get_crime_avg (crime_div, year, LGA):\n",
    "    \n",
    "    # Filtering the dataframe to include only the records corresponding to the relevant LGA, Crime type and three year period\n",
    "    filt_df = crime_df.loc[(crime_df['Local Government Area'] == LGA) & \n",
    "                           (crime_df['Crime_Division'] == crime_div) & \n",
    "                           (crime_df['Apr - Mar reference period'].isin(list(range(year-3,year))))]\n",
    "    \n",
    "    # Rolling up the value of Offence Count using summation to a LGA, Crime Type, Year level\n",
    "    rollup_df = filt_df.groupby(\n",
    "        ['Local Government Area', 'Apr - Mar reference period','Crime_Division'],as_index=False\n",
    "    ).agg({'Offence Count':'sum'})\n",
    "    \n",
    "    # Returning the average value of the Offence Count for a LGA - Crime type combination\n",
    "    return rollup_df['Offence Count'].mean()"
   ]
  },
  {
   "cell_type": "markdown",
   "metadata": {},
   "source": [
    "**crime_A_average** represents the average of type A crime in the local government area the property belongs to, in the three years prior to selling the property as the property. For example, if a property is sold in 2016, then you should calculate the\n",
    "average of the crime type A for 2013, 2014 and 2015.\n",
    "\n",
    "Similarly, **crime_B_average** and **crime_C_average** represents the average of type B and type C crime respectively."
   ]
  },
  {
   "cell_type": "code",
   "execution_count": 151,
   "metadata": {},
   "outputs": [],
   "source": [
    "# For each property, calculating the relevant average of type A, B and C crimes\n",
    "house_df['crime_A_average'] = house_df.apply(lambda x: get_crime_avg('A', x['Year'], x['LGA']), axis=1)\n",
    "house_df['crime_B_average'] = house_df.apply(lambda x: get_crime_avg('B', x['Year'], x['LGA']), axis=1)\n",
    "house_df['crime_C_average'] = house_df.apply(lambda x: get_crime_avg('C', x['Year'], x['LGA']), axis=1)"
   ]
  },
  {
   "cell_type": "code",
   "execution_count": 152,
   "metadata": {},
   "outputs": [],
   "source": [
    "house_df.drop(['LGA','Year', 'median_price'], inplace=True, axis=1)"
   ]
  },
  {
   "cell_type": "code",
   "execution_count": 153,
   "metadata": {},
   "outputs": [
    {
     "name": "stdout",
     "output_type": "stream",
     "text": [
      "<class 'pandas.core.frame.DataFrame'>\n",
      "Int64Index: 688 entries, 0 to 687\n",
      "Data columns (total 26 columns):\n",
      "ID                               688 non-null object\n",
      "Address                          688 non-null object\n",
      "Rooms                            688 non-null int64\n",
      "Type                             688 non-null object\n",
      "Price                            688 non-null float64\n",
      "Date                             688 non-null object\n",
      "Bathroom                         688 non-null float64\n",
      "Car                              688 non-null float64\n",
      "Landsize                         688 non-null float64\n",
      "Age                              688 non-null float64\n",
      "Lattitude                        688 non-null float64\n",
      "Longtitude                       688 non-null float64\n",
      "closest_primary_school           688 non-null object\n",
      "distance_to_closest_primary      688 non-null float64\n",
      "primary_school_ranking           688 non-null object\n",
      "closest_secondary_school         688 non-null object\n",
      "distance_to_closest_secondary    688 non-null float64\n",
      "secondary_school_ranking         688 non-null object\n",
      "train_station_id                 688 non-null int64\n",
      "distance_to_train_station        688 non-null float64\n",
      "travel_min_to_CBD                688 non-null float64\n",
      "Suburb                           688 non-null object\n",
      "over_priced?                     688 non-null bool\n",
      "crime_A_average                  688 non-null float64\n",
      "crime_B_average                  688 non-null float64\n",
      "crime_C_average                  688 non-null float64\n",
      "dtypes: bool(1), float64(14), int64(2), object(9)\n",
      "memory usage: 140.4+ KB\n"
     ]
    }
   ],
   "source": [
    "house_df.info()"
   ]
  },
  {
   "cell_type": "code",
   "execution_count": 156,
   "metadata": {},
   "outputs": [],
   "source": [
    "house_df.rename(columns={'Landsize':'LandSize', 'Lattitude':'Latitude', 'Longtitude':'Longitude'}, inplace=True)"
   ]
  },
  {
   "cell_type": "code",
   "execution_count": 157,
   "metadata": {},
   "outputs": [],
   "source": [
    "house_df.to_csv('final_dataset.csv', index=False)"
   ]
  },
  {
   "cell_type": "markdown",
   "metadata": {},
   "source": [
    "# Data Reshaping"
   ]
  },
  {
   "cell_type": "markdown",
   "metadata": {},
   "source": [
    "We will just focus on four columns as of now. More detained analysis on other columns can be performed and necessary features can be added to the linear model"
   ]
  },
  {
   "cell_type": "markdown",
   "metadata": {},
   "source": [
    "Here, we plan to study the effect of different normalization/transformation methods (i.e. standardization, min-max normalization, log, power, and root transformation) on Rooms , crime_C_average, travel_min_to_CBD , and property_age attributes."
   ]
  },
  {
   "cell_type": "markdown",
   "metadata": {},
   "source": [
    "Lets build linear model with all these variables and find the R2, and we will consider R2(R square) as performance metric."
   ]
  },
  {
   "cell_type": "code",
   "execution_count": 158,
   "metadata": {},
   "outputs": [],
   "source": [
    "reshaping_df = house_df.copy()"
   ]
  },
  {
   "cell_type": "code",
   "execution_count": 159,
   "metadata": {},
   "outputs": [
    {
     "name": "stdout",
     "output_type": "stream",
     "text": [
      "Rooms coeff:  391497.50988075783 \n",
      "Crime_C_average coeff:  160.85777773774134 \n",
      "travel_min_to_CBD coeff:  -16051.613634410596 \n",
      "Age coeff:  1068.5684894866204\n",
      "R square score:  0.3844645604735838\n"
     ]
    }
   ],
   "source": [
    "#Linear model on Rooms, crime_C_average, travel_min_to_CBD and property_age \n",
    "X = reshaping_df[['Rooms', 'crime_C_average', 'travel_min_to_CBD','Age']]\n",
    "y = reshaping_df['Price']\n",
    "\n",
    "regressor = LinearRegression()\n",
    "regressor.fit(X, y)\n",
    "\n",
    "y_pred = regressor.predict(X)\n",
    "\n",
    "print(\"Rooms coeff: \",regressor.coef_[0], \"\\nCrime_C_average coeff: \",regressor.coef_[1], \"\\ntravel_min_to_CBD coeff: \",\n",
    "      regressor.coef_[2],\"\\nAge coeff: \",regressor.coef_[3])\n",
    "print(\"R square score: \",r2_score(y,y_pred))"
   ]
  },
  {
   "cell_type": "markdown",
   "metadata": {},
   "source": [
    "We can notice that the coefficient of each feature is not uniform. ie. **Crime_c_average** and **Age** is given very less importance in the model. We should use transformation for both of these variables.\n",
    "\n",
    "We assume that feature importance for each of the variables should have similar magnitude considering all variables as equally important.\n",
    "\n",
    "Now we have this R2, we will see how transformation/normalization can be useful in improving the model."
   ]
  },
  {
   "cell_type": "markdown",
   "metadata": {},
   "source": [
    "### 1. Effect of crime_c_average"
   ]
  },
  {
   "cell_type": "markdown",
   "metadata": {},
   "source": [
    "Let's look at how Crime_C_average column values are distributed."
   ]
  },
  {
   "cell_type": "code",
   "execution_count": 160,
   "metadata": {
    "scrolled": true
   },
   "outputs": [
    {
     "data": {
      "text/plain": [
       "<matplotlib.axes._subplots.AxesSubplot at 0x26b24f46588>"
      ]
     },
     "execution_count": 160,
     "metadata": {},
     "output_type": "execute_result"
    },
    {
     "data": {
      "image/png": "[encoded data removed]",
      "text/plain": [
       "<Figure size 432x288 with 1 Axes>"
      ]
     },
     "metadata": {
      "needs_background": "light"
     },
     "output_type": "display_data"
    }
   ],
   "source": [
    "sns.distplot(reshaping_df['crime_C_average'])"
   ]
  },
  {
   "cell_type": "markdown",
   "metadata": {},
   "source": [
    "We can see that the distrbution has a long tail, it would be better to see its relationship with target variable which is Price"
   ]
  },
  {
   "cell_type": "code",
   "execution_count": 161,
   "metadata": {},
   "outputs": [
    {
     "data": {
      "text/plain": [
       "<matplotlib.collections.PathCollection at 0x26b252299b0>"
      ]
     },
     "execution_count": 161,
     "metadata": {},
     "output_type": "execute_result"
    },
    {
     "data": {
      "image/png": "[encoded data removed]",
      "text/plain": [
       "<Figure size 432x288 with 1 Axes>"
      ]
     },
     "metadata": {
      "needs_background": "light"
     },
     "output_type": "display_data"
    }
   ],
   "source": [
    "plt.scatter(reshaping_df['crime_C_average'], reshaping_df['Price'])"
   ]
  },
  {
   "cell_type": "markdown",
   "metadata": {},
   "source": [
    "We can see from this graph that there are a lot of values between 0-200 and very few between 350-500. In order to make improve this linear model, we should transform the data such that the distribution looks normal. We need to reduce the effect of long tail.     \n",
    "\n",
    "Looking at the distribution of data, as we need to squizz the data to smaller range, we have two options: log and square transformation. As we have considerable amount of values between(50-300) of crime_c_average, log transformation would bring those values in shorter range from (4-6) and will introduce tail on left side. \n",
    "\n",
    "This effect can be observed as log transformation is too strong on smaller values and very weak on large values so it pushes them to much shorter range leaving behind tail for values of crime_c_average in range(0-50)\n",
    "\n",
    "Moreover, root transform is less strong than log and it does not transform smaller values (50-300) drastically like log. This effect will push the data such that distribution is not drastically shifted we will be able to see distribution normally spread in the entire range. \n",
    "\n",
    "Below you can see plot after square transformation."
   ]
  },
  {
   "cell_type": "code",
   "execution_count": 162,
   "metadata": {},
   "outputs": [
    {
     "data": {
      "text/plain": [
       "<matplotlib.collections.PathCollection at 0x26b2526dcf8>"
      ]
     },
     "execution_count": 162,
     "metadata": {},
     "output_type": "execute_result"
    },
    {
     "data": {
      "image/png": "[encoded data removed]",
      "text/plain": [
       "<Figure size 432x288 with 1 Axes>"
      ]
     },
     "metadata": {
      "needs_background": "light"
     },
     "output_type": "display_data"
    }
   ],
   "source": [
    "plt.scatter(reshaping_df['crime_C_average']**0.5, reshaping_df['Price'])"
   ]
  },
  {
   "cell_type": "markdown",
   "metadata": {},
   "source": [
    "We can see here that the data is squizzed to shorter range."
   ]
  },
  {
   "cell_type": "code",
   "execution_count": 163,
   "metadata": {
    "scrolled": true
   },
   "outputs": [
    {
     "data": {
      "text/plain": [
       "<matplotlib.axes._subplots.AxesSubplot at 0x26b24fe1e48>"
      ]
     },
     "execution_count": 163,
     "metadata": {},
     "output_type": "execute_result"
    },
    {
     "data": {
      "image/png": "[encoded data removed]",
      "text/plain": [
       "<Figure size 432x288 with 1 Axes>"
      ]
     },
     "metadata": {
      "needs_background": "light"
     },
     "output_type": "display_data"
    }
   ],
   "source": [
    "sns.distplot(reshaping_df['crime_C_average']**0.5)"
   ]
  },
  {
   "cell_type": "markdown",
   "metadata": {},
   "source": [
    "Hence, we can see the distribution shape looks like normal, and the effect of long tail is suppressed."
   ]
  },
  {
   "cell_type": "markdown",
   "metadata": {},
   "source": [
    "### 2. Effect of Age attribute "
   ]
  },
  {
   "cell_type": "markdown",
   "metadata": {},
   "source": [
    "Let's look at how Age column values are distributed."
   ]
  },
  {
   "cell_type": "code",
   "execution_count": 164,
   "metadata": {
    "scrolled": true
   },
   "outputs": [
    {
     "data": {
      "text/plain": [
       "<matplotlib.axes._subplots.AxesSubplot at 0x26b20ba7be0>"
      ]
     },
     "execution_count": 164,
     "metadata": {},
     "output_type": "execute_result"
    },
    {
     "data": {
      "image/png": "[encoded data removed]",
      "text/plain": [
       "<Figure size 432x288 with 1 Axes>"
      ]
     },
     "metadata": {
      "needs_background": "light"
     },
     "output_type": "display_data"
    }
   ],
   "source": [
    "sns.distplot(reshaping_df['Age'])"
   ]
  },
  {
   "cell_type": "markdown",
   "metadata": {},
   "source": [
    "We can see that the distrbution has a presence of outliers, it would be better to see its relationship with target variable which is Price"
   ]
  },
  {
   "cell_type": "code",
   "execution_count": 165,
   "metadata": {
    "scrolled": true
   },
   "outputs": [
    {
     "data": {
      "text/plain": [
       "<matplotlib.collections.PathCollection at 0x26b24babbe0>"
      ]
     },
     "execution_count": 165,
     "metadata": {},
     "output_type": "execute_result"
    },
    {
     "data": {
      "image/png": "[encoded data removed]",
      "text/plain": [
       "<Figure size 432x288 with 1 Axes>"
      ]
     },
     "metadata": {
      "needs_background": "light"
     },
     "output_type": "display_data"
    }
   ],
   "source": [
    "plt.scatter(reshaping_df['Age'], reshaping_df['Price'])"
   ]
  },
  {
   "cell_type": "markdown",
   "metadata": {},
   "source": [
    "We can see from this graph that there are a lot of values between 0-200 and 2 points > 800 as outlier. In order to make improve this linear model, we should transform the data such that the distribution spread out to normal. \n",
    "\n",
    "Looking at the distribution of data, as we need to squizz the data to smaller range and nullify the effect of two outliers. We can use root square transformation for this. But we need to see if we don't have considerable values below 1. As square root transform is strong on values below 1. "
   ]
  },
  {
   "cell_type": "code",
   "execution_count": 166,
   "metadata": {},
   "outputs": [
    {
     "data": {
      "text/plain": [
       "True    688\n",
       "Name: Age, dtype: int64"
      ]
     },
     "execution_count": 166,
     "metadata": {},
     "output_type": "execute_result"
    }
   ],
   "source": [
    "(reshaping_df['Age']>1).value_counts()"
   ]
  },
  {
   "cell_type": "markdown",
   "metadata": {},
   "source": [
    "We checked above that for all the property, value of age is more than 1. So we can spread the data in shorter range.\n",
    "\n",
    "Log transformation would have bring the data together but the range of value would be much smaller (0-7). Root transformation bring the data to range (0-30) introducing variance in data. This will not only spread the data but also, bring data to range larger than that of log transformation.\n",
    "\n",
    "Below you can see plot after square transformation."
   ]
  },
  {
   "cell_type": "code",
   "execution_count": 167,
   "metadata": {},
   "outputs": [
    {
     "data": {
      "text/plain": [
       "<matplotlib.collections.PathCollection at 0x26b2172fa20>"
      ]
     },
     "execution_count": 167,
     "metadata": {},
     "output_type": "execute_result"
    },
    {
     "data": {
      "image/png": "[encoded data removed]",
      "text/plain": [
       "<Figure size 432x288 with 1 Axes>"
      ]
     },
     "metadata": {
      "needs_background": "light"
     },
     "output_type": "display_data"
    }
   ],
   "source": [
    "plt.scatter(reshaping_df['Age']**0.5, reshaping_df['Price'])"
   ]
  },
  {
   "cell_type": "markdown",
   "metadata": {},
   "source": [
    "We can see here that the data is squizzed to shorter range."
   ]
  },
  {
   "cell_type": "code",
   "execution_count": 168,
   "metadata": {
    "scrolled": true
   },
   "outputs": [
    {
     "data": {
      "text/plain": [
       "<matplotlib.axes._subplots.AxesSubplot at 0x26b24fd22b0>"
      ]
     },
     "execution_count": 168,
     "metadata": {},
     "output_type": "execute_result"
    },
    {
     "data": {
      "image/png": "[encoded data removed]",
      "text/plain": [
       "<Figure size 432x288 with 1 Axes>"
      ]
     },
     "metadata": {
      "needs_background": "light"
     },
     "output_type": "display_data"
    }
   ],
   "source": [
    "sns.distplot(reshaping_df['Age']**0.5)"
   ]
  },
  {
   "cell_type": "markdown",
   "metadata": {},
   "source": [
    "Hence, we can see the distribution shape looks like normal."
   ]
  },
  {
   "cell_type": "markdown",
   "metadata": {},
   "source": [
    "Now we have transformed our data, we should rebuild the model on this data to see effects on model.\n"
   ]
  },
  {
   "cell_type": "code",
   "execution_count": 175,
   "metadata": {},
   "outputs": [
    {
     "name": "stdout",
     "output_type": "stream",
     "text": [
      "Rooms coeff:  393449.1317385757 \n",
      "Crime_C_average coeff:  6559.409021340649 \n",
      "travel_min_to_CBD coeff:  -15872.058975687141 \n",
      "Age coeff:  27810.818783371145\n",
      "R square score:  0.38974797016542306\n"
     ]
    }
   ],
   "source": [
    "#Linear model on Rooms, crime_C_average, travel_min_to_CBD and property_age \n",
    "reshaping_df['crime_C_average_sqrt'] = reshaping_df['crime_C_average']**0.5\n",
    "reshaping_df['Age_sqrt'] = reshaping_df['Age']**0.5\n",
    "X = reshaping_df[['Rooms', 'crime_C_average_sqrt', 'travel_min_to_CBD','Age_sqrt']]\n",
    "y = reshaping_df['Price']\n",
    "\n",
    "regressor = LinearRegression()\n",
    "regressor.fit(X, y)\n",
    "\n",
    "y_pred = regressor.predict(X)\n",
    "\n",
    "print(\"Rooms coeff: \",regressor.coef_[0], \"\\nCrime_C_average coeff: \",regressor.coef_[1], \"\\ntravel_min_to_CBD coeff: \",\n",
    "      regressor.coef_[2],\"\\nAge coeff: \",regressor.coef_[3])\n",
    "print(\"R square score: \",r2_score(y,y_pred))"
   ]
  },
  {
   "cell_type": "markdown",
   "metadata": {},
   "source": [
    "We can see that R square score has improved after transformation.\n",
    "\n",
    "Moreover, the magnitude of coefficient of `crime_c_average` and `Age` has increased now."
   ]
  },
  {
   "cell_type": "markdown",
   "metadata": {},
   "source": [
    "### 3. Effect of Rooms variable:"
   ]
  },
  {
   "cell_type": "markdown",
   "metadata": {},
   "source": [
    "Let us look at distribution of rooms values from the dataset."
   ]
  },
  {
   "cell_type": "code",
   "execution_count": 174,
   "metadata": {
    "scrolled": true
   },
   "outputs": [
    {
     "data": {
      "text/plain": [
       "<matplotlib.axes._subplots.AxesSubplot at 0x26b24db3da0>"
      ]
     },
     "execution_count": 174,
     "metadata": {},
     "output_type": "execute_result"
    },
    {
     "data": {
      "image/png": "[encoded data removed]",
      "text/plain": [
       "<Figure size 432x288 with 1 Axes>"
      ]
     },
     "metadata": {
      "needs_background": "light"
     },
     "output_type": "display_data"
    }
   ],
   "source": [
    "sns.distplot(reshaping_df['Rooms'])"
   ]
  },
  {
   "cell_type": "markdown",
   "metadata": {},
   "source": [
    "We can see that the distrbution sees alright, it would be better to see its relationship with target variable which is Price"
   ]
  },
  {
   "cell_type": "code",
   "execution_count": 181,
   "metadata": {
    "scrolled": true
   },
   "outputs": [
    {
     "data": {
      "text/plain": [
       "<matplotlib.collections.PathCollection at 0x26b25052dd8>"
      ]
     },
     "execution_count": 181,
     "metadata": {},
     "output_type": "execute_result"
    },
    {
     "data": {
      "image/png": "[encoded data removed]",
      "text/plain": [
       "<Figure size 432x288 with 1 Axes>"
      ]
     },
     "metadata": {
      "needs_background": "light"
     },
     "output_type": "display_data"
    }
   ],
   "source": [
    "plt.scatter(reshaping_df['Rooms'], reshaping_df['Price'])"
   ]
  },
  {
   "cell_type": "markdown",
   "metadata": {},
   "source": [
    "As shape of the distbribution looks alright, we don't need any transformation. It feels like transforming using log will improve the distribution, but it won't be affected much so we will keep it as it is."
   ]
  },
  {
   "cell_type": "markdown",
   "metadata": {},
   "source": [
    "### 4. Effect of travel_min_to_CBD "
   ]
  },
  {
   "cell_type": "markdown",
   "metadata": {},
   "source": [
    "Lets plot distribution of travel min to CBD"
   ]
  },
  {
   "cell_type": "code",
   "execution_count": 129,
   "metadata": {
    "scrolled": true
   },
   "outputs": [
    {
     "data": {
      "text/plain": [
       "<matplotlib.axes._subplots.AxesSubplot at 0x26b24ac4f28>"
      ]
     },
     "execution_count": 129,
     "metadata": {},
     "output_type": "execute_result"
    },
    {
     "data": {
      "image/png": "[encoded data removed]",
      "text/plain": [
       "<Figure size 432x288 with 1 Axes>"
      ]
     },
     "metadata": {
      "needs_background": "light"
     },
     "output_type": "display_data"
    }
   ],
   "source": [
    "sns.distplot(reshaping_df['travel_min_to_CBD'])"
   ]
  },
  {
   "cell_type": "markdown",
   "metadata": {},
   "source": [
    "We can see that the shape of the distrbution looks normal. Let us see its relation with Price"
   ]
  },
  {
   "cell_type": "code",
   "execution_count": 180,
   "metadata": {
    "scrolled": true
   },
   "outputs": [
    {
     "data": {
      "text/plain": [
       "<matplotlib.collections.PathCollection at 0x26b25001198>"
      ]
     },
     "execution_count": 180,
     "metadata": {},
     "output_type": "execute_result"
    },
    {
     "data": {
      "image/png": "[encoded data removed]",
      "text/plain": [
       "<Figure size 432x288 with 1 Axes>"
      ]
     },
     "metadata": {
      "needs_background": "light"
     },
     "output_type": "display_data"
    }
   ],
   "source": [
    "plt.scatter(reshaping_df['travel_min_to_CBD'], reshaping_df['Price'])"
   ]
  },
  {
   "cell_type": "markdown",
   "metadata": {},
   "source": [
    "We can see the data is evenly spread and seems to have normal shape. So we won't require any transformation."
   ]
  },
  {
   "cell_type": "markdown",
   "metadata": {},
   "source": [
    "#### Standardization"
   ]
  },
  {
   "cell_type": "markdown",
   "metadata": {},
   "source": [
    "We discussed about the effect of transformation which changes the shape of the distrbution of the data. \n",
    "\n",
    "But we also need to think if standardization is necessary or not for linear model. For linear models, standardization will never improve the Rsquare value as this effect just shift the entire range of data and does not change the shape. Hence, if we standardize the variables using any method (min-max, z-score normalize), we won't see difference in R square value. This is possible because the betas are estimated such that they convert the units of each explanatory variable(predictors) into the units of the response variable appropriately.\n",
    "\n",
    "Let us take simple example,\n",
    "\n",
    "Consider the sample model: $y=\\beta_0+\\beta_1x_1+\\beta_2x_2+\\ldots+\\epsilon$\n",
    "\n",
    "By looking at the equations for the estimators we can see that scaling $x1$ with a factor $a$ scales $β1$ by a factor $1/a$. To see this, note that\n",
    "\n",
    "$\\hat{\\beta}_1(x_1)=\\frac{\\sum_{i=1}^n(x_{1,i}-\\bar{x}_1)(y_i-\\bar{y})}{\\sum_{i=1}^n(x_{1,i}-\\bar{x}_1)^2}$\n",
    "\n",
    "Hence,\n",
    "\n",
    "$\\hat{\\beta}_1(ax_1)=\\frac{\\sum_{i=1}^n(ax_{1,i}-a\\bar{x}_1)(y_i-\\bar{y})}{\\sum_{i=1}^n(ax_{1,i}-a\\bar{x}_1)^2}=\\frac{a\\sum_{i=1}^n(x_{1,i}-\\bar{x}_1)(y_i-\\bar{y})}{a^2\\sum_{i=1}^n(x_{1,i}-\\bar{x}_1)^2}=\\frac{\\hat{\\beta}_1(x_1)}{a}.$\n",
    "\n",
    "Similary by calculating other betas $\\beta$s we can see that scaling the data scales the slopes and won't have effect on sum of square of residuals."
   ]
  },
  {
   "cell_type": "markdown",
   "metadata": {},
   "source": [
    "Hence, standardization will help us bring the slope into (0-1) range and centre the input variables(for z-score norm), but can be done for making regression equations more meaningful in terms of importance of explanatory variables."
   ]
  },
  {
   "cell_type": "markdown",
   "metadata": {},
   "source": [
    "Lets build the model by standardizing the input as per z-score normalization. This can be done by passing `normalized=True` in the model"
   ]
  },
  {
   "cell_type": "markdown",
   "metadata": {},
   "source": [
    "### Transforming Target variable"
   ]
  },
  {
   "cell_type": "markdown",
   "metadata": {},
   "source": [
    "Lets us look at the distribution of target variable which is `price`"
   ]
  },
  {
   "cell_type": "code",
   "execution_count": 182,
   "metadata": {},
   "outputs": [
    {
     "data": {
      "text/plain": [
       "<matplotlib.axes._subplots.AxesSubplot at 0x26b2507a7f0>"
      ]
     },
     "execution_count": 182,
     "metadata": {},
     "output_type": "execute_result"
    },
    {
     "data": {
      "image/png": "[encoded data removed]",
      "text/plain": [
       "<Figure size 432x288 with 1 Axes>"
      ]
     },
     "metadata": {
      "needs_background": "light"
     },
     "output_type": "display_data"
    }
   ],
   "source": [
    "sns.distplot(reshaping_df['Price'])"
   ]
  },
  {
   "cell_type": "markdown",
   "metadata": {},
   "source": [
    "We see from the distribution that the target variable is skewed. Also outliers are present in the data. So extreme value of predictor hinders the preformance of the model.\n",
    "\n",
    "Due to the non-linearity, the model trained will not be precise for prediction. Moreover, a log transformation is used to linearize the targets, allowing better prediction even with a similar linear model. This transformation with sooth out the sensitivity to outliers and make our model more robust to outliers. \n",
    "\n",
    "Also, price column does not contain any 0 otherwise we would have used log(x+1) transformation."
   ]
  },
  {
   "cell_type": "code",
   "execution_count": 184,
   "metadata": {},
   "outputs": [
    {
     "data": {
      "text/plain": [
       "<matplotlib.axes._subplots.AxesSubplot at 0x26b24cbde10>"
      ]
     },
     "execution_count": 184,
     "metadata": {},
     "output_type": "execute_result"
    },
    {
     "data": {
      "image/png": "[encoded data removed]",
      "text/plain": [
       "<Figure size 432x288 with 1 Axes>"
      ]
     },
     "metadata": {
      "needs_background": "light"
     },
     "output_type": "display_data"
    }
   ],
   "source": [
    "sns.distplot(reshaping_df['Price'].apply(log))"
   ]
  },
  {
   "cell_type": "markdown",
   "metadata": {},
   "source": [
    "After transformation we can see that distribution looks symmetric(normalized) which is good for the model."
   ]
  },
  {
   "cell_type": "code",
   "execution_count": 185,
   "metadata": {},
   "outputs": [
    {
     "name": "stdout",
     "output_type": "stream",
     "text": [
      "R square score:  0.4532254167247388\n"
     ]
    }
   ],
   "source": [
    "#Linear model on Rooms, crime_C_average, travel_min_to_CBD and property_age \n",
    "reshaping_df['crime_C_average_sqrt'] = reshaping_df['crime_C_average']**0.5\n",
    "reshaping_df['Age_sqrt'] = reshaping_df['Age']**0.5\n",
    "X = reshaping_df[['Rooms', 'crime_C_average_sqrt', 'travel_min_to_CBD','Age_sqrt']]\n",
    "y = reshaping_df['Price'].apply(log)\n",
    "\n",
    "regressor = LinearRegression(normalize=True)\n",
    "regressor.fit(X, y)\n",
    "\n",
    "y_pred = regressor.predict(X)\n",
    "\n",
    "print(\"R square score: \",r2_score(y,y_pred))"
   ]
  },
  {
   "cell_type": "markdown",
   "metadata": {},
   "source": [
    "We see the effect in R square value. It has improved significantly."
   ]
  },
  {
   "cell_type": "markdown",
   "metadata": {},
   "source": [
    "Here, we just planned to use LinearRegression for our study with only four variables. With more data, more exploratoy analyis can be performed and sophisticated modelling techniques can be applied to build more robust and accurate model. This will be the future work for this project. "
   ]
  },
  {
   "cell_type": "markdown",
   "metadata": {},
   "source": [
    "# References:\n",
    "\n",
    "[1.] `BeautifulSoup PYPI project.` Retrieved from https://pypi.org/project/beautifulsoup4/\n",
    "\n",
    "\n",
    "[2.] *Distance between two latitude and longitude points* by `Michael` 2016 https://stackoverflow.com/questions/19412462/getting-distance-between-two-points-based-on-latitude-longitude\n",
    "\n",
    "\n",
    "[3.] *Scaling on regression inputs* by Andrew from `statistics in Medicine` http://www.stat.columbia.edu/~gelman/research/published/standardizing7.pdf\n",
    "\n",
    "[4.] Standardization in linear models by `MansT` 2012, https://stats.stackexchange.com/questions/29781/when-conducting-multiple-regression-when-should-you-center-your-predictor-varia\n",
    "\n",
    "[5.] *Python regular expression readings.* Retrieved from https://docs.python.org/3/library/re.html\n",
    "\n",
    "[6.]  The `pandas` Project. (2016a). *pandas 0.19.2 documentation: pandas.DataFrame.to_csv*. Retrieved from http://pandas.pydata.org/pandas-docs/stable/generated/pandas.DataFrame.to_csv.html#pandas.DataFrame.to_csv\n",
    "\n",
    "[7.] `sklearn.linear_model.LinearRegression` *Using Linear regression* Retrieved from: https://scikit-learn.org/stable/modules/generated/sklearn.linear_model.LinearRegression.html"
   ]
  }
 ],
 "metadata": {
  "kernelspec": {
   "display_name": "Python 3",
   "language": "python",
   "name": "python3"
  },
  "language_info": {
   "codemirror_mode": {
    "name": "ipython",
    "version": 3
   },
   "file_extension": ".py",
   "mimetype": "text/x-python",
   "name": "python",
   "nbconvert_exporter": "python",
   "pygments_lexer": "ipython3",
   "version": "3.7.1"
  }
 },
 "nbformat": 4,
 "nbformat_minor": 2
}
